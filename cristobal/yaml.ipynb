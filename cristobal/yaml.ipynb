{
 "cells": [
  {
   "cell_type": "code",
   "execution_count": 1,
   "metadata": {},
   "outputs": [],
   "source": [
    "import yaml"
   ]
  },
  {
   "cell_type": "code",
   "execution_count": 2,
   "metadata": {},
   "outputs": [],
   "source": [
    "from kids_ggl_pipeline.helpers import configurations"
   ]
  },
  {
   "cell_type": "code",
   "execution_count": 3,
   "metadata": {},
   "outputs": [],
   "source": [
    "config_file = '/Users/cristobal/Documents/kids/KiDS-ACTPol-SZ/kids_ggl_config/yaml/model_sz.yaml'"
   ]
  },
  {
   "cell_type": "code",
   "execution_count": 4,
   "metadata": {},
   "outputs": [],
   "source": [
    "cfg = configurations.Config(config_file)"
   ]
  },
  {
   "cell_type": "code",
   "execution_count": 5,
   "metadata": {},
   "outputs": [
    {
     "data": {
      "text/plain": [
       "{'model': 'halo_sz.model',\n",
       " 'cosmo': {'sigma8': 'fixed       0.8159',\n",
       "  'H0': 'fixed       67.74',\n",
       "  'omegam': 'fixed       0.3089',\n",
       "  'omegav': 'fixed       0.6911',\n",
       "  'n': 'fixed       0.9667',\n",
       "  'z': [0.19, 0.21],\n",
       "  'omegab_h2': 'fixed       0.02230'},\n",
       " 'hod': {'fc': 'uniform     [0,6,1]',\n",
       "  'centrals': {'mor': {'name': 'powerlaw',\n",
       "    'M_0': 'fixed       14',\n",
       "    'a': 'fixed       0',\n",
       "    'b': 'fixed       1'},\n",
       "   'scatter': {'function': 'lognormal',\n",
       "    'sigma_c': 'uniform     [0.05, 3.0, 1.0]'}},\n",
       "  'satellites': {'mor': {'name': 'double_powerlaw_scaled',\n",
       "    'logM0': 'fixed       10.6',\n",
       "    'logM1': 'fixed       11.0',\n",
       "    'a': 'fixed       5.4',\n",
       "    'b': 'fixed       0.15',\n",
       "    'A': 'fixed       0.56'},\n",
       "   'scatter': {'function': 'schechter_mod',\n",
       "    'alpha_s': 'fixed       -1.0',\n",
       "    'b0': 'fixed       0.12       join1',\n",
       "    'b1': 'fixed       0.71       join1',\n",
       "    'b2': 'fixed       0.00       join1'}},\n",
       "  'bias': 'fixed       1',\n",
       "  'miscentering': {'p_off': 'uniform     0   1       0.3',\n",
       "   'R_off': 'uniform     0   3.5     0.7'}},\n",
       " 'binning': [10.0, 12.5],\n",
       " 'observable': 'logmstar    11.315',\n",
       " 'ingredients': {'centrals': True, 'satellites': False, 'miscentering': True},\n",
       " 'output': {'esd_total': '8E', 'Mavg': 'E'}}"
      ]
     },
     "execution_count": 5,
     "metadata": {},
     "output_type": "execute_result"
    }
   ],
   "source": [
    "cfg.halomodel"
   ]
  },
  {
   "cell_type": "code",
   "execution_count": 6,
   "metadata": {},
   "outputs": [
    {
     "name": "stdout",
     "output_type": "stream",
     "text": [
      "Help on built-in function setattr in module builtins:\n",
      "\n",
      "setattr(obj, name, value, /)\n",
      "    Sets the named attribute on the given object to the specified value.\n",
      "    \n",
      "    setattr(x, 'y', v) is equivalent to ``x.y = v''\n",
      "\n"
     ]
    }
   ],
   "source": [
    "help(setattr)"
   ]
  },
  {
   "cell_type": "code",
   "execution_count": null,
   "metadata": {},
   "outputs": [],
   "source": [
    "with open('/Users/cristobal/Documents/kids/KiDS-ACTPol-SZ/kids_ggl_config/model_sz.config') as f:\n",
    "    x = [line.split() for line in f.readlines()\n",
    "         if not (line[0] == '#' or line == '\\n')]\n",
    "x"
   ]
  },
  {
   "cell_type": "code",
   "execution_count": null,
   "metadata": {},
   "outputs": [],
   "source": []
  }
 ],
 "metadata": {
  "kernelspec": {
   "display_name": "Python [default]",
   "language": "python",
   "name": "python3"
  },
  "language_info": {
   "codemirror_mode": {
    "name": "ipython",
    "version": 3
   },
   "file_extension": ".py",
   "mimetype": "text/x-python",
   "name": "python",
   "nbconvert_exporter": "python",
   "pygments_lexer": "ipython3",
   "version": "3.6.4"
  }
 },
 "nbformat": 4,
 "nbformat_minor": 2
}
