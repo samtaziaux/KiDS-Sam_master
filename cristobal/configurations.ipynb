{
 "cells": [
  {
   "cell_type": "code",
   "execution_count": 275,
   "metadata": {},
   "outputs": [],
   "source": [
    "import six\n",
    "import numpy as np\n",
    "\n",
    "from kids_ggl_pipeline.halomodel import nfw, nfw_stack, satellites, halo, halo_2, halo_2_mc, halo_sz"
   ]
  },
  {
   "cell_type": "code",
   "execution_count": 170,
   "metadata": {},
   "outputs": [],
   "source": [
    "def read_function(module, function):\n",
    "    if module == 'satellites':\n",
    "        function = getattr(satellites, function)\n",
    "    elif module == 'nfw':\n",
    "        function = getattr(nfw, function)\n",
    "    elif module == 'nfw_stack':\n",
    "        function = getattr(nfw_stack, function)\n",
    "    elif module == 'halo':\n",
    "        function = getattr(halo, function)\n",
    "    elif module == 'halo_2':\n",
    "        function = getattr(halo_2, function)\n",
    "    elif module == 'halo_2_mc':\n",
    "        function = getattr(halo_2_mc, function)\n",
    "    elif module == 'halo_sz':\n",
    "        function = getattr(halo_sz, function)\n",
    "    elif module == 'models':\n",
    "        function = getattr(models, function)\n",
    "    print('Successfully imported {0}'.format(function))\n",
    "    return function\n"
   ]
  },
  {
   "cell_type": "code",
   "execution_count": 217,
   "metadata": {},
   "outputs": [],
   "source": [
    "class ConfigLine(str):\n",
    "    \n",
    "    def __init__(self, line):\n",
    "        # I don't understand why this doesn't generate a cleaned line\n",
    "        self.line = self.clean(line)\n",
    "        super().__init__()\n",
    "\n",
    "    @property\n",
    "    def line(self):\n",
    "        return self._line\n",
    "\n",
    "    @line.setter\n",
    "    def line(self, line):\n",
    "        self._line = line\n",
    "        \n",
    "    def clean(self, line):\n",
    "        if '#' in line:\n",
    "            line_end = line.index('#')\n",
    "            while line[line_end] == '\\\\':\n",
    "                line_end = _line[line_end+1:].index('#')\n",
    "            line = line[:line_end]\n",
    "        return line\n",
    "    \n",
    "    def is_comment(self):\n",
    "        if self.is_empty():\n",
    "            return False\n",
    "        return self.line[0].lstrip() == '#'\n",
    "\n",
    "    def is_empty(self):\n",
    "        return not self.line.strip()\n",
    "\n",
    "    def is_section(self):\n",
    "        if self.is_empty():\n",
    "            return False\n",
    "        return self.line[0] == '['\n",
    "\n",
    "    def is_subsection(self):\n",
    "        if self.is_empty():\n",
    "            return False\n",
    "        return self.is_section() and '/' in self.line[1:self.line.index(']')]\n",
    "\n",
    "    def read_section_name(self):\n",
    "        if not self.is_section():\n",
    "            return None\n",
    "        sect = self.line[1:self.line.index(']')]\n",
    "        return sect.split('/')\n",
    "\n",
    "    def section_depth(self):\n",
    "        return len(self.read_section_name())"
   ]
  },
  {
   "cell_type": "code",
   "execution_count": 587,
   "metadata": {},
   "outputs": [],
   "source": [
    "class ConfigSection(list):\n",
    "    \n",
    "    def __init__(self, sect, sect_names):\n",
    "        self._sect = sect\n",
    "        # the setter function isn't called here, so it looks like\n",
    "        # I need to repeat the operation I wrote there!?\n",
    "        self._sect_names = sect_names.split('/') \\\n",
    "            if isinstance(sect_names, six.string_types) \\\n",
    "            else sect_names\n",
    "#         super().__init__()\n",
    "\n",
    "    @property\n",
    "    def sect(self):\n",
    "        return self._sect\n",
    "\n",
    "    @sect.setter\n",
    "    def sect(self, sect):\n",
    "        self._sect = sect\n",
    "\n",
    "    @property\n",
    "    def sect_names(self):\n",
    "        return self._sect_names\n",
    "    \n",
    "    @sect_names.setter\n",
    "    def sect_names(self, sect_names=None):\n",
    "        # default\n",
    "        if sect_names is None:\n",
    "            self._sect_names = [\n",
    "                ['cosmo'],\n",
    "                ['hod/observables', 'hod/ingredients',\n",
    "                 'hod/centrals', 'hod/centrals/mor', 'hod/centrals/scatter', 'hod/centrals/miscentring',\n",
    "                 'hod/satellites', 'hod/satellites/mor', 'hod/satellites/scatter'],\n",
    "                ['setup']\n",
    "            ]\n",
    "            return\n",
    "        if isinstance(sect_names, six.string_types):\n",
    "            sect_names = sect_names.split('/')\n",
    "        self._sect_names = sect_names\n",
    "\n",
    "    def initialize_section(self, sect_tree):\n",
    "        if isinstance(sect_tree, six.string_types):\n",
    "            sect_tree = subsections.split('/')\n",
    "        # if self.sect has not been initialized yet\n",
    "        if np.array(self.sect).shape == (0,):\n",
    "            print('self.sect empty')\n",
    "            if isinstance(sect_tree, six.string_types):\n",
    "                sect_tree = [sect_tree]\n",
    "            self.sect_names.append(np.array(sect_tree))\n",
    "            self.sect.append([np.array(np.array(sect_tree).shape)])\n",
    "#             self.sect_names = self.sect_names.tolist()\n",
    "#             self.sect = self.sect.tolist()\n",
    "        else:\n",
    "            # if the whole tree exists then nothing to do\n",
    "            if self.section_exists(sect_tree):\n",
    "                print('section tree {0} exists'.format(sect_tree))\n",
    "                return\n",
    "            _sect = self.sect\n",
    "            # otherwise go branch by branch\n",
    "            p = 0\n",
    "            for i in range(1, len(sect_tree)):\n",
    "                print('i =', i)\n",
    "                print('sect_tree[:i] =', sect_tree[:i])\n",
    "                if self.section_exists(sect_tree[:i]):\n",
    "                    print('exists')\n",
    "                    continue\n",
    "                p = self.parent(sect_tree[:i])\n",
    "                if isinstance(self.sect_names[p], six.string_types):\n",
    "                    self.sect_names[p] = [self.sect_names[p]]\n",
    "                print('parent =', p, self.sect_names[p], self.sect[p])\n",
    "                _sect[p].append([sect_tree[i]])\n",
    "               \n",
    "            print('_sect =', _sect)\n",
    "            self.sect = _sect\n",
    "        print('self.sect =', self.sect)\n",
    "        print('self.sect_names =', self.sect_names)\n",
    "\n",
    "    def parent(self, sect_tree):\n",
    "        \"\"\"\n",
    "        Return the index of the existing parent (sub)section , if it exists\n",
    "\n",
    "        Returns None if the tree does not exist at all\n",
    "        \"\"\"\n",
    "        if isinstance(sect_tree, six.string_types):\n",
    "            sect_tree = sect_tree.split('/')\n",
    "        if not self.section_exists(sect_tree):\n",
    "            return 0\n",
    "        for i in self.sect:\n",
    "            if i[:len(sect_tree)] == sect_tree:\n",
    "                return i\n",
    "\n",
    "    def section_exists(self, sect_tree):\n",
    "        \"\"\"\n",
    "        May give section names as list ([section,subsection,subsubsection,...])\n",
    "        or as strings ('section/subsection/subsubsection/...')\n",
    "        \"\"\"\n",
    "        if isinstance(sect_tree, six.string_types):\n",
    "            sect_tree = sect_tree.split('/')\n",
    "        for i in self.sect:\n",
    "            if i[:len(sect_tree)] == sect_tree:\n",
    "                return True\n",
    "        return False\n"
   ]
  },
  {
   "cell_type": "code",
   "execution_count": 588,
   "metadata": {},
   "outputs": [],
   "source": [
    "class ConfigFile:\n",
    "    \n",
    "    def __init__(self, filename):\n",
    "        self.filename = filename\n",
    "        self.data = self.read()\n",
    "\n",
    "    def read(self):\n",
    "        sections = {'cosmo': ConfigSection([], 'cosmo'),\n",
    "                    'hod': ConfigSection([], 'hod'),\n",
    "                    'setup': ConfigSection([], 'setup')}\n",
    "        with open(self.filename) as cfg:\n",
    "            for line in cfg:\n",
    "                if line.startswith('model'):\n",
    "                    model = read_function(*(line.split()[1].split('.')))\n",
    "                line = ConfigLine(line)\n",
    "                if line.is_comment() or line.is_empty():\n",
    "                    continue\n",
    "                if line.is_section():\n",
    "                    section = line.read_section_name()\n",
    "                    print('section:', section, line.section_depth())\n",
    "                    if line.is_subsection():\n",
    "                        print('is subsection')\n",
    "                    sections[section[0]].initialize_section(section)\n",
    "                    print()\n",
    "        return sections"
   ]
  },
  {
   "cell_type": "code",
   "execution_count": 589,
   "metadata": {},
   "outputs": [],
   "source": [
    "file = '/Users/cristobal/Documents/kids/KiDS-ACTPol-SZ/kids_ggl_config/new_format/model_sz.config'"
   ]
  },
  {
   "cell_type": "code",
   "execution_count": 590,
   "metadata": {},
   "outputs": [
    {
     "name": "stdout",
     "output_type": "stream",
     "text": [
      "Successfully imported <function model at 0x10b456e18>\n",
      "section: ['cosmo'] 1\n",
      "self.sect empty\n",
      "self.sect = [[array([1])]]\n",
      "self.sect_names = ['cosmo', array(['cosmo'], dtype='<U5')]\n",
      "\n",
      "section: ['hod'] 1\n",
      "self.sect empty\n",
      "self.sect = [[array([1])]]\n",
      "self.sect_names = ['hod', array(['hod'], dtype='<U3')]\n",
      "\n",
      "section: ['hod', 'observables'] 2\n",
      "is subsection\n",
      "i = 1\n",
      "sect_tree[:i] = ['hod']\n",
      "parent = 0 ['hod'] [array([1])]\n",
      "_sect = [[array([1]), ['observables']]]\n",
      "self.sect = [[array([1]), ['observables']]]\n",
      "self.sect_names = [['hod'], array(['hod'], dtype='<U3')]\n",
      "\n",
      "section: ['hod', 'ingredients'] 2\n",
      "is subsection\n",
      "i = 1\n",
      "sect_tree[:i] = ['hod']\n",
      "parent = 0 ['hod'] [array([1]), ['observables']]\n",
      "_sect = [[array([1]), ['observables'], ['ingredients']]]\n",
      "self.sect = [[array([1]), ['observables'], ['ingredients']]]\n",
      "self.sect_names = [['hod'], array(['hod'], dtype='<U3')]\n",
      "\n",
      "section: ['hod', 'centrals'] 2\n",
      "is subsection\n",
      "i = 1\n",
      "sect_tree[:i] = ['hod']\n",
      "parent = 0 ['hod'] [array([1]), ['observables'], ['ingredients']]\n",
      "_sect = [[array([1]), ['observables'], ['ingredients'], ['centrals']]]\n",
      "self.sect = [[array([1]), ['observables'], ['ingredients'], ['centrals']]]\n",
      "self.sect_names = [['hod'], array(['hod'], dtype='<U3')]\n",
      "\n",
      "section: ['hod', 'centrals', 'mor'] 3\n",
      "is subsection\n",
      "i = 1\n",
      "sect_tree[:i] = ['hod']\n",
      "parent = 0 ['hod'] [array([1]), ['observables'], ['ingredients'], ['centrals']]\n",
      "i = 2\n",
      "sect_tree[:i] = ['hod', 'centrals']\n",
      "parent = 0 ['hod'] [array([1]), ['observables'], ['ingredients'], ['centrals'], ['centrals']]\n",
      "_sect = [[array([1]), ['observables'], ['ingredients'], ['centrals'], ['centrals'], ['mor']]]\n",
      "self.sect = [[array([1]), ['observables'], ['ingredients'], ['centrals'], ['centrals'], ['mor']]]\n",
      "self.sect_names = [['hod'], array(['hod'], dtype='<U3')]\n",
      "\n",
      "section: ['hod', 'centrals', 'scatter'] 3\n",
      "is subsection\n",
      "i = 1\n",
      "sect_tree[:i] = ['hod']\n",
      "parent = 0 ['hod'] [array([1]), ['observables'], ['ingredients'], ['centrals'], ['centrals'], ['mor']]\n",
      "i = 2\n",
      "sect_tree[:i] = ['hod', 'centrals']\n",
      "parent = 0 ['hod'] [array([1]), ['observables'], ['ingredients'], ['centrals'], ['centrals'], ['mor'], ['centrals']]\n",
      "_sect = [[array([1]), ['observables'], ['ingredients'], ['centrals'], ['centrals'], ['mor'], ['centrals'], ['scatter']]]\n",
      "self.sect = [[array([1]), ['observables'], ['ingredients'], ['centrals'], ['centrals'], ['mor'], ['centrals'], ['scatter']]]\n",
      "self.sect_names = [['hod'], array(['hod'], dtype='<U3')]\n",
      "\n",
      "section: ['hod', 'centrals', 'miscentring'] 3\n",
      "is subsection\n",
      "i = 1\n",
      "sect_tree[:i] = ['hod']\n",
      "parent = 0 ['hod'] [array([1]), ['observables'], ['ingredients'], ['centrals'], ['centrals'], ['mor'], ['centrals'], ['scatter']]\n",
      "i = 2\n",
      "sect_tree[:i] = ['hod', 'centrals']\n",
      "parent = 0 ['hod'] [array([1]), ['observables'], ['ingredients'], ['centrals'], ['centrals'], ['mor'], ['centrals'], ['scatter'], ['centrals']]\n",
      "_sect = [[array([1]), ['observables'], ['ingredients'], ['centrals'], ['centrals'], ['mor'], ['centrals'], ['scatter'], ['centrals'], ['miscentring']]]\n",
      "self.sect = [[array([1]), ['observables'], ['ingredients'], ['centrals'], ['centrals'], ['mor'], ['centrals'], ['scatter'], ['centrals'], ['miscentring']]]\n",
      "self.sect_names = [['hod'], array(['hod'], dtype='<U3')]\n",
      "\n",
      "section: ['hod', 'satellites'] 2\n",
      "is subsection\n",
      "i = 1\n",
      "sect_tree[:i] = ['hod']\n",
      "parent = 0 ['hod'] [array([1]), ['observables'], ['ingredients'], ['centrals'], ['centrals'], ['mor'], ['centrals'], ['scatter'], ['centrals'], ['miscentring']]\n",
      "_sect = [[array([1]), ['observables'], ['ingredients'], ['centrals'], ['centrals'], ['mor'], ['centrals'], ['scatter'], ['centrals'], ['miscentring'], ['satellites']]]\n",
      "self.sect = [[array([1]), ['observables'], ['ingredients'], ['centrals'], ['centrals'], ['mor'], ['centrals'], ['scatter'], ['centrals'], ['miscentring'], ['satellites']]]\n",
      "self.sect_names = [['hod'], array(['hod'], dtype='<U3')]\n",
      "\n",
      "section: ['hod', 'satellites', 'mor'] 3\n",
      "is subsection\n",
      "i = 1\n",
      "sect_tree[:i] = ['hod']\n",
      "parent = 0 ['hod'] [array([1]), ['observables'], ['ingredients'], ['centrals'], ['centrals'], ['mor'], ['centrals'], ['scatter'], ['centrals'], ['miscentring'], ['satellites']]\n",
      "i = 2\n",
      "sect_tree[:i] = ['hod', 'satellites']\n",
      "parent = 0 ['hod'] [array([1]), ['observables'], ['ingredients'], ['centrals'], ['centrals'], ['mor'], ['centrals'], ['scatter'], ['centrals'], ['miscentring'], ['satellites'], ['satellites']]\n",
      "_sect = [[array([1]), ['observables'], ['ingredients'], ['centrals'], ['centrals'], ['mor'], ['centrals'], ['scatter'], ['centrals'], ['miscentring'], ['satellites'], ['satellites'], ['mor']]]\n",
      "self.sect = [[array([1]), ['observables'], ['ingredients'], ['centrals'], ['centrals'], ['mor'], ['centrals'], ['scatter'], ['centrals'], ['miscentring'], ['satellites'], ['satellites'], ['mor']]]\n",
      "self.sect_names = [['hod'], array(['hod'], dtype='<U3')]\n",
      "\n",
      "section: ['hod', 'satellites', 'scatter'] 3\n",
      "is subsection\n",
      "i = 1\n",
      "sect_tree[:i] = ['hod']\n",
      "parent = 0 ['hod'] [array([1]), ['observables'], ['ingredients'], ['centrals'], ['centrals'], ['mor'], ['centrals'], ['scatter'], ['centrals'], ['miscentring'], ['satellites'], ['satellites'], ['mor']]\n",
      "i = 2\n",
      "sect_tree[:i] = ['hod', 'satellites']\n",
      "parent = 0 ['hod'] [array([1]), ['observables'], ['ingredients'], ['centrals'], ['centrals'], ['mor'], ['centrals'], ['scatter'], ['centrals'], ['miscentring'], ['satellites'], ['satellites'], ['mor'], ['satellites']]\n",
      "_sect = [[array([1]), ['observables'], ['ingredients'], ['centrals'], ['centrals'], ['mor'], ['centrals'], ['scatter'], ['centrals'], ['miscentring'], ['satellites'], ['satellites'], ['mor'], ['satellites'], ['scatter']]]\n",
      "self.sect = [[array([1]), ['observables'], ['ingredients'], ['centrals'], ['centrals'], ['mor'], ['centrals'], ['scatter'], ['centrals'], ['miscentring'], ['satellites'], ['satellites'], ['mor'], ['satellites'], ['scatter']]]\n",
      "self.sect_names = [['hod'], array(['hod'], dtype='<U3')]\n",
      "\n",
      "section: ['setup'] 1\n",
      "self.sect empty\n",
      "self.sect = [[array([1])]]\n",
      "self.sect_names = ['setup', array(['setup'], dtype='<U5')]\n",
      "\n",
      "section: ['output'] 1\n"
     ]
    },
    {
     "name": "stderr",
     "output_type": "stream",
     "text": [
      "/Users/cristobal/anaconda3/lib/python3.6/site-packages/ipykernel/__main__.py:107: FutureWarning: elementwise comparison failed; returning scalar instead, but in the future will perform elementwise comparison\n"
     ]
    },
    {
     "ename": "KeyError",
     "evalue": "'output'",
     "output_type": "error",
     "traceback": [
      "\u001b[0;31m---------------------------------------------------------------------------\u001b[0m",
      "\u001b[0;31mKeyError\u001b[0m                                  Traceback (most recent call last)",
      "\u001b[0;32m<ipython-input-590-450ca00a4650>\u001b[0m in \u001b[0;36m<module>\u001b[0;34m()\u001b[0m\n\u001b[0;32m----> 1\u001b[0;31m \u001b[0mcfg\u001b[0m \u001b[0;34m=\u001b[0m \u001b[0mConfigFile\u001b[0m\u001b[0;34m(\u001b[0m\u001b[0mfile\u001b[0m\u001b[0;34m)\u001b[0m\u001b[0;34m\u001b[0m\u001b[0m\n\u001b[0m\u001b[1;32m      2\u001b[0m \u001b[0mprint\u001b[0m\u001b[0;34m(\u001b[0m\u001b[0;34m)\u001b[0m\u001b[0;34m\u001b[0m\u001b[0m\n\u001b[1;32m      3\u001b[0m \u001b[0mprint\u001b[0m\u001b[0;34m(\u001b[0m\u001b[0;34m'data ='\u001b[0m\u001b[0;34m,\u001b[0m \u001b[0mcfg\u001b[0m\u001b[0;34m.\u001b[0m\u001b[0mdata\u001b[0m\u001b[0;34m)\u001b[0m\u001b[0;34m\u001b[0m\u001b[0m\n\u001b[1;32m      4\u001b[0m \u001b[0;32mfor\u001b[0m \u001b[0md\u001b[0m \u001b[0;32min\u001b[0m \u001b[0mcfg\u001b[0m\u001b[0;34m.\u001b[0m\u001b[0mdata\u001b[0m\u001b[0;34m:\u001b[0m\u001b[0;34m\u001b[0m\u001b[0m\n\u001b[1;32m      5\u001b[0m     \u001b[0mprint\u001b[0m\u001b[0;34m(\u001b[0m\u001b[0md\u001b[0m\u001b[0;34m.\u001b[0m\u001b[0mshape\u001b[0m\u001b[0;34m)\u001b[0m\u001b[0;34m\u001b[0m\u001b[0m\n",
      "\u001b[0;32m<ipython-input-588-5371902331a4>\u001b[0m in \u001b[0;36m__init__\u001b[0;34m(self, filename)\u001b[0m\n\u001b[1;32m      3\u001b[0m     \u001b[0;32mdef\u001b[0m \u001b[0m__init__\u001b[0m\u001b[0;34m(\u001b[0m\u001b[0mself\u001b[0m\u001b[0;34m,\u001b[0m \u001b[0mfilename\u001b[0m\u001b[0;34m)\u001b[0m\u001b[0;34m:\u001b[0m\u001b[0;34m\u001b[0m\u001b[0m\n\u001b[1;32m      4\u001b[0m         \u001b[0mself\u001b[0m\u001b[0;34m.\u001b[0m\u001b[0mfilename\u001b[0m \u001b[0;34m=\u001b[0m \u001b[0mfilename\u001b[0m\u001b[0;34m\u001b[0m\u001b[0m\n\u001b[0;32m----> 5\u001b[0;31m         \u001b[0mself\u001b[0m\u001b[0;34m.\u001b[0m\u001b[0mdata\u001b[0m \u001b[0;34m=\u001b[0m \u001b[0mself\u001b[0m\u001b[0;34m.\u001b[0m\u001b[0mread\u001b[0m\u001b[0;34m(\u001b[0m\u001b[0;34m)\u001b[0m\u001b[0;34m\u001b[0m\u001b[0m\n\u001b[0m\u001b[1;32m      6\u001b[0m \u001b[0;34m\u001b[0m\u001b[0m\n\u001b[1;32m      7\u001b[0m     \u001b[0;32mdef\u001b[0m \u001b[0mread\u001b[0m\u001b[0;34m(\u001b[0m\u001b[0mself\u001b[0m\u001b[0;34m)\u001b[0m\u001b[0;34m:\u001b[0m\u001b[0;34m\u001b[0m\u001b[0m\n",
      "\u001b[0;32m<ipython-input-588-5371902331a4>\u001b[0m in \u001b[0;36mread\u001b[0;34m(self)\u001b[0m\n\u001b[1;32m     21\u001b[0m                     \u001b[0;32mif\u001b[0m \u001b[0mline\u001b[0m\u001b[0;34m.\u001b[0m\u001b[0mis_subsection\u001b[0m\u001b[0;34m(\u001b[0m\u001b[0;34m)\u001b[0m\u001b[0;34m:\u001b[0m\u001b[0;34m\u001b[0m\u001b[0m\n\u001b[1;32m     22\u001b[0m                         \u001b[0mprint\u001b[0m\u001b[0;34m(\u001b[0m\u001b[0;34m'is subsection'\u001b[0m\u001b[0;34m)\u001b[0m\u001b[0;34m\u001b[0m\u001b[0m\n\u001b[0;32m---> 23\u001b[0;31m                     \u001b[0msections\u001b[0m\u001b[0;34m[\u001b[0m\u001b[0msection\u001b[0m\u001b[0;34m[\u001b[0m\u001b[0;36m0\u001b[0m\u001b[0;34m]\u001b[0m\u001b[0;34m]\u001b[0m\u001b[0;34m.\u001b[0m\u001b[0minitialize_section\u001b[0m\u001b[0;34m(\u001b[0m\u001b[0msection\u001b[0m\u001b[0;34m)\u001b[0m\u001b[0;34m\u001b[0m\u001b[0m\n\u001b[0m\u001b[1;32m     24\u001b[0m                     \u001b[0mprint\u001b[0m\u001b[0;34m(\u001b[0m\u001b[0;34m)\u001b[0m\u001b[0;34m\u001b[0m\u001b[0m\n\u001b[1;32m     25\u001b[0m         \u001b[0;32mreturn\u001b[0m \u001b[0msections\u001b[0m\u001b[0;34m\u001b[0m\u001b[0m\n",
      "\u001b[0;31mKeyError\u001b[0m: 'output'"
     ]
    }
   ],
   "source": [
    "cfg = ConfigFile(file)\n",
    "print()\n",
    "print('data =', cfg.data)\n",
    "for d in cfg.data:\n",
    "    print(d.shape)"
   ]
  },
  {
   "cell_type": "code",
   "execution_count": 523,
   "metadata": {},
   "outputs": [
    {
     "data": {
      "text/plain": [
       "34"
      ]
     },
     "execution_count": 523,
     "metadata": {},
     "output_type": "execute_result"
    }
   ],
   "source": [
    "len('model             halo_sz.model  #')"
   ]
  },
  {
   "cell_type": "markdown",
   "metadata": {},
   "source": [
    "In my example (see `config_help.ipynb`), `hod` should have the following shape:"
   ]
  },
  {
   "cell_type": "code",
   "execution_count": 210,
   "metadata": {},
   "outputs": [
    {
     "data": {
      "text/plain": [
       "[[[10], [12.5], [11.315]],\n",
       " [True, False],\n",
       " [[1, 1],\n",
       "  ['<powerlaw_function>', 12, 0, 1],\n",
       "  ['<lognormal_function>', 0.5],\n",
       "  ['<fiducial_miscentring_function>', 0.2, 0.2]]]"
      ]
     },
     "execution_count": 210,
     "metadata": {},
     "output_type": "execute_result"
    }
   ],
   "source": [
    "hod = [\n",
    "    [[10],[12.5],[11.315]], # observable\n",
    "    [True, False], # ingredients\n",
    "    [ # centrals\n",
    "        [1, 1], # fc, bias\n",
    "        ['<powerlaw_function>', 12, 0, 1], # scaling relation\n",
    "        ['<lognormal_function>', 0.5], # scatter function\n",
    "        ['<fiducial_miscentring_function>', 0.2, 0.2] # miscentring\n",
    "    ],\n",
    "]\n",
    "hod"
   ]
  },
  {
   "cell_type": "code",
   "execution_count": 213,
   "metadata": {},
   "outputs": [
    {
     "data": {
      "text/plain": [
       "[12.5]"
      ]
     },
     "execution_count": 213,
     "metadata": {},
     "output_type": "execute_result"
    }
   ],
   "source": [
    "hod[0][1]"
   ]
  },
  {
   "cell_type": "code",
   "execution_count": 364,
   "metadata": {},
   "outputs": [
    {
     "data": {
      "text/plain": [
       "[[[]]]"
      ]
     },
     "execution_count": 364,
     "metadata": {},
     "output_type": "execute_result"
    }
   ],
   "source": [
    "x = np.array([])\n",
    "x = x[np.newaxis]\n",
    "x = x[np.newaxis]\n",
    "x.tolist()"
   ]
  },
  {
   "cell_type": "code",
   "execution_count": 412,
   "metadata": {},
   "outputs": [
    {
     "data": {
      "text/plain": [
       "[[[]]]"
      ]
     },
     "execution_count": 412,
     "metadata": {},
     "output_type": "execute_result"
    }
   ],
   "source": [
    "x = [[[]]]\n",
    "x.extend([])\n",
    "x"
   ]
  },
  {
   "cell_type": "code",
   "execution_count": 413,
   "metadata": {},
   "outputs": [
    {
     "data": {
      "text/plain": [
       "[[[]], []]"
      ]
     },
     "execution_count": 413,
     "metadata": {},
     "output_type": "execute_result"
    }
   ],
   "source": [
    "x = [[[]]]\n",
    "x.append([])\n",
    "x"
   ]
  },
  {
   "cell_type": "code",
   "execution_count": 470,
   "metadata": {},
   "outputs": [
    {
     "ename": "TypeError",
     "evalue": "unsupported operand type(s) for ** or pow(): 'list' and 'int'",
     "output_type": "error",
     "traceback": [
      "\u001b[0;31m---------------------------------------------------------------------------\u001b[0m",
      "\u001b[0;31mTypeError\u001b[0m                                 Traceback (most recent call last)",
      "\u001b[0;32m<ipython-input-470-9b82793f66ea>\u001b[0m in \u001b[0;36m<module>\u001b[0;34m()\u001b[0m\n\u001b[1;32m      1\u001b[0m \u001b[0mx\u001b[0m \u001b[0;34m=\u001b[0m \u001b[0;34m[\u001b[0m\u001b[0;34m[\u001b[0m\u001b[0;34m[\u001b[0m\u001b[0;34m]\u001b[0m\u001b[0;34m]\u001b[0m\u001b[0;34m]\u001b[0m\u001b[0;34m\u001b[0m\u001b[0m\n\u001b[0;32m----> 2\u001b[0;31m \u001b[0mx\u001b[0m\u001b[0;34m**\u001b[0m\u001b[0;36m2\u001b[0m\u001b[0;34m\u001b[0m\u001b[0m\n\u001b[0m",
      "\u001b[0;31mTypeError\u001b[0m: unsupported operand type(s) for ** or pow(): 'list' and 'int'"
     ]
    }
   ],
   "source": [
    "x = [[[]]]\n"
   ]
  },
  {
   "cell_type": "code",
   "execution_count": null,
   "metadata": {},
   "outputs": [],
   "source": []
  }
 ],
 "metadata": {
  "kernelspec": {
   "display_name": "Python [default]",
   "language": "python",
   "name": "python3"
  },
  "language_info": {
   "codemirror_mode": {
    "name": "ipython",
    "version": 3
   },
   "file_extension": ".py",
   "mimetype": "text/x-python",
   "name": "python",
   "nbconvert_exporter": "python",
   "pygments_lexer": "ipython3",
   "version": "3.6.4"
  }
 },
 "nbformat": 4,
 "nbformat_minor": 2
}
