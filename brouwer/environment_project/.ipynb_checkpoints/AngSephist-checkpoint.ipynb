{
 "metadata": {
  "name": ""
 },
 "nbformat": 3,
 "nbformat_minor": 0,
 "worksheets": [
  {
   "cells": [
    {
     "cell_type": "code",
     "collapsed": false,
     "input": [
      "#!/usr/bin/python\n",
      "\n",
      "import numpy as np\n",
      "import pyfits\n",
      "import os\n",
      "from matplotlib import pyplot as plt\n",
      "import delta_r_utils as utils\n",
      "import environment_utils as envutils\n",
      "\n",
      "%matplotlib inline\n",
      "from matplotlib import pyplot as plt\n",
      "from matplotlib.colors import LogNorm\n",
      "from matplotlib import gridspec\n",
      "from matplotlib import rc, rcParams\n",
      "\n",
      "# Make use of TeX\n",
      "rc('text',usetex=True)\n",
      "\n",
      "# Change all fonts to 'Computer Modern'\n",
      "rc('font',**{'family':'serif','serif':['Computer Modern']})\n",
      "\n",
      "\n",
      "centering = 'BCG'\n",
      "envnames = ['Void', 'Sheet', 'Filament', 'Knot']\n",
      "\n",
      "path_gamacats = '/data2/brouwer/MergedCatalogues'\n",
      "gamacatname = '%s/GAMACatalogue_1.0.fits'%path_gamacats\n",
      "shuffledcatname = '%s/shuffled_environment_S4_deltaR.fits'%path_gamacats\n",
      "\n",
      "shuffled = False"
     ],
     "language": "python",
     "metadata": {},
     "outputs": [],
     "prompt_number": 6
    },
    {
     "cell_type": "code",
     "collapsed": false,
     "input": [
      "# Importing GAMA catalogue\n",
      "print 'Importing GAMA catalogue:', gamacatname\n",
      "gamacat = pyfits.open(gamacatname)[1].data\n",
      "shuffledcat = pyfits.open(shuffledcatname)[1].data\n",
      "\n",
      "galIDlist = gamacat['ID']\n",
      "\n",
      "# Importing angular seperation\n",
      "angseplist = gamacat['AngSep%s'%centering]\n",
      "angseplist[angseplist<=0] = 0.\n",
      "\n",
      "# Importing and correcting log(Mstar)\n",
      "logmstarlist = gamacat['logmstar']\n",
      "fluxscalelist = gamacat['fluxscale'] # Fluxscale, needed for stellar mass correction\n",
      "corr_list = np.log10(fluxscalelist)# - 2*np.log10(h/0.7)\n",
      "logmstarlist = logmstarlist + corr_list\n",
      "ranklist = gamacat['rankBCG']\n",
      "\n",
      "# Applying a mask to the galaxies\n",
      "obsmask = (fluxscalelist<500)&(logmstarlist>5)&(shuffledcat['shuffenvR4'] >= 0)# & (-999 <= ranklist)&(ranklist < 2)\n",
      "\n",
      "logmstarlist = logmstarlist[obsmask]\n",
      "mstarlist = 10**logmstarlist\n",
      "angseplist = angseplist[obsmask]\n",
      "\n",
      "zlist = gamacat['Z'][obsmask]\n",
      "ranklist = gamacat['rank%s'%centering][obsmask]\n",
      "\n",
      "if not shuffled:\n",
      "    # Importing the real environment\n",
      "    envlist = gamacat['envS4'][obsmask]\n",
      "else:\n",
      "    # Importing the shuffled environment\n",
      "    envlist = shuffledcat['shuffenvR4'][obsmask]\n",
      "    \n",
      "print 'Imported: %i of %i galaxies (%g percent)'%(len(logmstarlist), len(galIDlist), \\\n",
      "                                    float(len(logmstarlist))/float(len(galIDlist))*100.)"
     ],
     "language": "python",
     "metadata": {},
     "outputs": [
      {
       "output_type": "stream",
       "stream": "stdout",
       "text": [
        "Importing GAMA catalogue: /data2/brouwer/MergedCatalogues/GAMACatalogue_1.0.fits\n",
        "Imported: 98834 of 180960 galaxies (54.6165 percent)"
       ]
      },
      {
       "output_type": "stream",
       "stream": "stdout",
       "text": [
        "\n"
       ]
      }
     ],
     "prompt_number": 7
    },
    {
     "cell_type": "code",
     "collapsed": false,
     "input": [
      "# Creating the log(Mstar) histogram (needed for the mstarweight)\n",
      "\n",
      "nbins = 100\n",
      "logmstarbins, logmstarhists, logmstarhistcens = \\\n",
      "envutils.create_histogram('log(Mstar)', logmstarlist, nbins, envnames, envlist, 'lin', False, False)"
     ],
     "language": "python",
     "metadata": {},
     "outputs": [
      {
       "metadata": {},
       "output_type": "display_data",
       "text": [
        "<matplotlib.figure.Figure at 0x7f98e1423b10>"
       ]
      }
     ],
     "prompt_number": 8
    },
    {
     "cell_type": "code",
     "collapsed": false,
     "input": [
      "# Creating the logmstar weights for each lens\n",
      "\n",
      "# Create the average histogram\n",
      "avhist = np.mean(logmstarhists, 0)\n",
      "\n",
      "# Calculate the weight for each logmstar bin\n",
      "weighthists = avhist/logmstarhists\n",
      "weighthists[np.logical_not(np.isfinite(weighthists))] = 0\n",
      "\n",
      "#####################\n",
      "\n",
      "# Show results\n",
      "plt.figure(1, figsize=(7, 5))\n",
      "plt.plot(logmstarhistcens, avhist, '', ls='-', label='Average')\n",
      "\n",
      "for env in xrange(len(envnames)):\n",
      "    plt.plot(logmstarhistcens, logmstarhists[env], '', ls='--', label=envnames[env])\n",
      "\n",
      "#plt.xscale('log')\n",
      "#plt.yscale('log')\n",
      "plt.legend(fontsize=15)\n",
      "\n",
      "xlabel = 'log(M$_*$)'\n",
      "ylabel = 'Number of galaxies'\n",
      "\n",
      "plt.ylabel(r'%s'%ylabel,fontsize=15)\n",
      "plt.xlabel(r'%s'%xlabel,fontsize=15)\n",
      "\n",
      "histname = 'environment_logmstar_histogram'\n",
      "if shuffled:\n",
      "    histname = '%s_shuffled'%(histname)\n",
      "\n",
      "plotname = '%s.png'%histname\n",
      "\n",
      "plt.savefig(plotname, format='png')\n",
      "print 'Written: ESD profile plot:', plotname\n",
      "   \n",
      "plt.show()\n"
     ],
     "language": "python",
     "metadata": {},
     "outputs": [
      {
       "output_type": "stream",
       "stream": "stdout",
       "text": [
        "Written: ESD profile plot: environment_logmstar_histogram.png\n"
       ]
      },
      {
       "metadata": {},
       "output_type": "display_data",
       "png": "[encoded data removed]",
       "text": [
        "<matplotlib.figure.Figure at 0x7f98e137b190>"
       ]
      }
     ],
     "prompt_number": 9
    },
    {
     "cell_type": "code",
     "collapsed": false,
     "input": [
      "# Calculate the logmstar weight for each galaxy\n",
      "weightlist = np.zeros(len(logmstarlist)) # Length of the merged GAMA catalog\n",
      "\n",
      "for env in xrange(len(envnames)): # For each environment\n",
      "    envname = envnames[env]\n",
      "    envmask = (envlist == env) # Mask the lenses outside that environment\n",
      "    for b in xrange(nbins): # For each logmstar bin\n",
      "        binmask = (logmstarbins[b]<=logmstarlist) & (logmstarlist<logmstarbins[b+1]) # Mask the lenses outside that bin\n",
      "        totmask = envmask & binmask\n",
      "        weight = weighthists[env,b]\n",
      "        #print 'Env: %s, Bin: %i, Weight: %g'%(envname, b, weight)\n",
      "        weightlist[totmask] = weight"
     ],
     "language": "python",
     "metadata": {},
     "outputs": [],
     "prompt_number": 10
    },
    {
     "cell_type": "code",
     "collapsed": false,
     "input": [
      "# Print the logmstarweight to a fits file\n",
      "weightlist_tot = np.zeros(len(galIDlist))\n",
      "weightlist_tot[obsmask] = weightlist\n",
      "\n",
      "\n",
      "filename = 'mstarweight_all.fits'\n",
      "if shuffled:\n",
      "    filename = filename.replace('.fits', '_shuffled.fits')\n",
      "\n",
      "envutils.write_catalog(filename, galIDlist, ['mstarweight'], [weightlist_tot])\n"
     ],
     "language": "python",
     "metadata": {},
     "outputs": [
      {
       "output_type": "stream",
       "stream": "stdout",
       "text": [
        "New catalog written: mstarweight_all.fits\n",
        "\n"
       ]
      },
      {
       "output_type": "stream",
       "stream": "stderr",
       "text": [
        "environment_utils.py:269: PyfitsDeprecationWarning: The new_table function is deprecated as of version 3.3 and may be removed in a future version.\n",
        "\n",
        "        Use :meth:`BinTableHDU.from_columns` for new BINARY tables or :meth:`TableHDU.from_columns` for new ASCII tables instead.\n",
        "  tbhdu = pyfits.new_table(cols)\n"
       ]
      }
     ],
     "prompt_number": 11
    },
    {
     "cell_type": "code",
     "collapsed": false,
     "input": [
      "logmstarbins, logmstarhists, logmstarhistcens = envutils.create_histogram('log(Mstar)',logmstarlist, nbins, envnames, envlist, 'lin', False, weightlist)"
     ],
     "language": "python",
     "metadata": {},
     "outputs": [
      {
       "output_type": "stream",
       "stream": "stdout",
       "text": [
        "The weights are: [ 0.60114817  0.62161737  0.55542725 ...,  0.57431271  0.58933934\n",
        "  0.57993631]\n",
        "The weights are:"
       ]
      },
      {
       "output_type": "stream",
       "stream": "stdout",
       "text": [
        " [ 0.72931366  0.75775327  0.71338072 ...,  0.73327251  0.77111984\n",
        "  0.83005249]\n",
        "The weights are: [ 1.29642857  1.21686747  1.29642857 ...,  1.17217484  1.13329646\n",
        "  1.22879282]\n",
        "The weights are: [ 6.33455882  5.91233766  6.33455882 ...,  5.37387387  6.77464789\n",
        "  5.7715736 ]\n"
       ]
      },
      {
       "metadata": {},
       "output_type": "display_data",
       "text": [
        "<matplotlib.figure.Figure at 0x7f98e2375090>"
       ]
      }
     ],
     "prompt_number": 12
    },
    {
     "cell_type": "code",
     "collapsed": false,
     "input": [
      "\n",
      "\n",
      "\n",
      "# Repeating AngSep and average quantity calculations for weighted galaxies"
     ],
     "language": "python",
     "metadata": {},
     "outputs": [],
     "prompt_number": 13
    },
    {
     "cell_type": "code",
     "collapsed": false,
     "input": [
      "# Calculating average redshift, log(M*) and satellite fraction of the lens samples (needed for halo model)\n",
      "\n",
      "if shuffled:\n",
      "    print 'For the shuffled environments:'\n",
      "else:\n",
      "    print 'For the cosmic environments:'\n",
      "print \n",
      "\n",
      "print 'Without logmstarweight:'\n",
      "zaverage, mstaraverage, fsat, fsatmax = envutils.calc_halomodel_input(envnames, envlist, ranklist, zlist, mstarlist, False)\n",
      "\n",
      "\n",
      "print\n",
      "print 'With logmstarweight:'\n",
      "zaverage, mstaraverage, fsat, fsatmax = envutils.calc_halomodel_input(envnames, envlist, ranklist, zlist, mstarlist, weightlist)"
     ],
     "language": "python",
     "metadata": {},
     "outputs": [
      {
       "output_type": "stream",
       "stream": "stdout",
       "text": [
        "For the cosmic environments:\n",
        "\n",
        "Without logmstarweight:\n",
        "              "
       ]
      },
      {
       "output_type": "stream",
       "stream": "stdout",
       "text": [
        " ['Void', 'Sheet', 'Filament', 'Knot']\n",
        "average(Z): 0.171012625098,0.173978924751,0.168460696936,0.164182379842,\n",
        "average(M*): 27666810880.0,33709879296.0,33481551872.0,33668925440.0,\n",
        "minimum fsat: 0.209939322475,0.32406626506,0.443383821166,0.559626763769,\n",
        "maximum fsat: 0.90630604073,0.88984939759,0.885111771295,0.895084205735,\n",
        "\n",
        "With logmstarweight:\n",
        "              "
       ]
      },
      {
       "output_type": "stream",
       "stream": "stdout",
       "text": [
        " ['Void', 'Sheet', 'Filament', 'Knot']\n",
        "average(Z): 0.174277916551,0.171661540866,0.166280344129,0.161319598556,\n",
        "average(M*): 30342512640.0,30266447872.0,30020442112.0,29338722304.0,\n",
        "minimum fsat: 0.207436064846,0.32483748952,0.44482998808,0.562974073992,\n",
        "maximum fsat: 0.899819031614,0.893957403761,0.890760318424,0.902000575908,\n"
       ]
      }
     ],
     "prompt_number": 14
    },
    {
     "cell_type": "code",
     "collapsed": false,
     "input": [
      "# Creating and printing the angular seperation histogram (needed for the halo model)\n",
      "\n",
      "nbins = 100\n",
      "angsepmask = ranklist>1\n",
      "\n",
      "for w in xrange(2):\n",
      "\n",
      "    filename = 'Angsephist_envS4_all'\n",
      "\n",
      "    if shuffled:\n",
      "        filename = '%s-%s'%(filename, 'shuffled')\n",
      "    \n",
      "    print\n",
      "    if w==0:\n",
      "        print 'Without logmstarweight:'\n",
      "        weight = False\n",
      "    else:\n",
      "        print 'With logmstarweight:'\n",
      "        weight = weightlist[angsepmask]\n",
      "        filename = '%s_%s'%(filename, 'mstarweight')\n",
      "        \n",
      "    angsepbins, angsephists, angsephistcens = \\\n",
      "    envutils.create_histogram('Angular separation (kpc)', \\\n",
      "                              angseplist[angsepmask], nbins, envnames, envlist[angsepmask], 'log', False, weight)\n",
      "    \n",
      "    # Printing the angular separation histogram to a file\n",
      "    datanames = ['AngSep%s center'%centering, 'Ngals (Voids)', 'Ngals (Sheets)', 'Ngals (Filaments)', 'Ngals (Knots)']\n",
      "    data = np.vstack([angsephistcens, angsephists])\n",
      "    \n",
      "    envutils.write_textfile('%s.txt'%filename, datanames, data)"
     ],
     "language": "python",
     "metadata": {},
     "outputs": [
      {
       "output_type": "stream",
       "stream": "stdout",
       "text": [
        "\n",
        "Without logmstarweight:\n",
        "Written:"
       ]
      },
      {
       "output_type": "stream",
       "stream": "stdout",
       "text": [
        " Angsephist_envS4.txt\n",
        "\n",
        "With logmstarweight:\n",
        "The weights are:"
       ]
      },
      {
       "output_type": "stream",
       "stream": "stdout",
       "text": [
        " [ 0.62123251  0.6447775   0.63195616 ...,  0.51626016  0.60034843\n",
        "  0.6447775 ]\n",
        "The weights are: [ 0.72931366  0.71562699  0.6613082  ...,  0.75560166  0.72931366\n",
        "  0.73327251]\n",
        "The weights are: [ 1.21686747  1.29642857  1.13835878 ...,  1.19727273  1.1875      1.22879282]\n",
        "The weights are: [ 5.91233766  4.5265625   4.5265625  ...,  5.19047619  5.86490683\n",
        "  6.48760331]\n",
        "Written:"
       ]
      },
      {
       "output_type": "stream",
       "stream": "stdout",
       "text": [
        " Angsephist_envS4_mstarweight.txt\n"
       ]
      },
      {
       "metadata": {},
       "output_type": "display_data",
       "text": [
        "<matplotlib.figure.Figure at 0x7f98fe7dfd90>"
       ]
      }
     ],
     "prompt_number": 15
    },
    {
     "cell_type": "code",
     "collapsed": false,
     "input": [],
     "language": "python",
     "metadata": {},
     "outputs": []
    },
    {
     "cell_type": "code",
     "collapsed": false,
     "input": [
      "# For Edo's project\n",
      "# Print the logmstar limit to a fits file\n",
      "\n",
      "mstarlimflag_tot = np.zeros(len(galIDlist))\n",
      "mstarlimlist_tot = np.ones(len(galIDlist))*-999.\n",
      "logmstarlist_tot = np.ones(len(galIDlist))*-999.\n",
      "\n",
      "logmstarlist_tot[obsmask] = logmstarlist\n",
      "\n",
      "mstarlimlist = 3.1 * (zlist - 0.025)**0.5 + 8.7\n",
      "mstarlimlist_tot[obsmask] = mstarlimlist\n",
      "\n",
      "mstarlimmask = (logmstarlist > mstarlimlist)\n",
      "mstarlimflag = np.zeros(len(mstarlist))\n",
      "mstarlimflag[mstarlimmask] = 1\n",
      "mstarlimflag_tot[obsmask] = mstarlimflag\n",
      "\n",
      "filename = 'mstarlim.fits'\n",
      "\n",
      "envutils.write_catalog(filename, galIDlist, ['logmstar-corr', 'logmstarlim', 'logmstarflag'], [logmstarlist_tot, mstarlimlist_tot, mstarlimflag_tot])"
     ],
     "language": "python",
     "metadata": {},
     "outputs": [
      {
       "output_type": "stream",
       "stream": "stdout",
       "text": [
        "Old catalog overwritten: mstarlim.fits\n",
        "\n"
       ]
      }
     ],
     "prompt_number": 16
    },
    {
     "cell_type": "code",
     "collapsed": false,
     "input": [],
     "language": "python",
     "metadata": {},
     "outputs": []
    }
   ],
   "metadata": {}
  }
 ]
}