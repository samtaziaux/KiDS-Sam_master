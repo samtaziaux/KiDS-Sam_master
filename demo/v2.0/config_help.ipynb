{
 "cells": [
  {
   "cell_type": "markdown",
   "metadata": {},
   "source": [
    "## New sectioned configuration file help\n",
    "\n",
    "This document explains how to write a configuration file with sections and subsections, allowing the user to provide their own functions for e.g., the mass-observable relation and its intrinsic scatter\n",
    "\n",
    "Let's start with the model. This follows the same syntax as before:"
   ]
  },
  {
   "cell_type": "markdown",
   "metadata": {},
   "source": [
    "```\n",
    "model            halo.model\n",
    "```"
   ]
  },
  {
   "cell_type": "markdown",
   "metadata": {},
   "source": [
    "From now on, things change. We now define *sections*, which refer to each of the\n",
    "components of the halo model. The order of sections must be followed for the model\n",
    "to be set up properly, but each component may have a custom number of parameters\n",
    "(and this is the whole idea behind the new configuration file structure):"
   ]
  },
  {
   "cell_type": "markdown",
   "metadata": {},
   "source": [
    "```\n",
    "[section]\n",
    "[section/subsection1]\n",
    "parameter1\n",
    "parameter2\n",
    "[section/subsection1/subsubsection1]\n",
    "parameter1\n",
    "parameter2\n",
    "[section/subsection2]\n",
    "parameter1\n",
    "parameter2\n",
    "```"
   ]
  },
  {
   "cell_type": "markdown",
   "metadata": {},
   "source": [
    "etc, etc. This will be enough to explain what's going on (empty lines and lines starting with `'#'` are ignored)."
   ]
  },
  {
   "cell_type": "markdown",
   "metadata": {},
   "source": [
    "So the first section of the actual configuration file defines cosmological parameters:"
   ]
  },
  {
   "cell_type": "markdown",
   "metadata": {},
   "source": [
    "```\n",
    "[cosmo]\n",
    "\n",
    "sigma_8         fixed     0.8159\n",
    "H0              fixed     67.74\n",
    "omegam          fixed     0.3089\n",
    "omegab_h2       fixed     0.02230\n",
    "omegav          fixed     0.6911\n",
    "n               fixed     0.9667\n",
    "z               fixed     0.188\n",
    "```"
   ]
  },
  {
   "cell_type": "markdown",
   "metadata": {},
   "source": [
    "They need not all be fixed, but in this example they are. At any rate, this will always be just a list of parameters, so no major changes compared to the previous version."
   ]
  },
  {
   "cell_type": "markdown",
   "metadata": {},
   "source": [
    "Now we move on to the HOD, and this is where the fun begins."
   ]
  },
  {
   "cell_type": "markdown",
   "metadata": {},
   "source": [
    "```\n",
    "[hod]\n",
    "\n",
    "[hod/observables]\n",
    "bin_min       10\n",
    "bin_max       12.5\n",
    "average       11.315\n",
    "\n",
    "[hod/ingredients]\n",
    "centrals       True\n",
    "satellites     False\n",
    "\n",
    "[hod/centrals]\n",
    "fc             uniform        0.1     5     1\n",
    "bias           fixed          1\n",
    "[hod/centrals/mor]\n",
    "name           powerlaw\n",
    "logM_0         fixed          14.0\n",
    "a              uniform        -1      1     0\n",
    "b              uniform        0       2     1\n",
    "[hod/centrals/scatter]\n",
    "name           lognormal\n",
    "sigma_c        uniform        0.05    3     0.5\n",
    "[hod/centrals/miscentring]\n",
    "name           fiducial\n",
    "p_off          uniform        0       1     0.2\n",
    "R_off          uniform        0       1.5   0.5\n",
    "```"
   ]
  },
  {
   "cell_type": "markdown",
   "metadata": {},
   "source": [
    "The whole idea behind this structure is that the HOD may be fully specified by the user, including for instance the complexity of the mass-observable scaling relation. Note that the HOD may also contain a model for satellites and potentially other ingredients, but a simple centrals-only model will serve our purpose here."
   ]
  },
  {
   "cell_type": "markdown",
   "metadata": {},
   "source": [
    "We would usually want to have an additional section, `[setup]`, which would include things like the `k`-binning scheme, e.g.,"
   ]
  },
  {
   "cell_type": "markdown",
   "metadata": {},
   "source": [
    "```\n",
    "[setup]\n",
    "\n",
    "lnk_min          -13\n",
    "lnk_max          13\n",
    "kbins            1000\n",
    "```"
   ]
  },
  {
   "cell_type": "markdown",
   "metadata": {},
   "source": [
    "Finally, any outputs produced by the model, apart from the free parameters. You will usually want to have each ESD component here at the very least. In our case, we'll just output the ESD and the average mass:"
   ]
  },
  {
   "cell_type": "markdown",
   "metadata": {},
   "source": [
    "```\n",
    "[output]\n",
    "\n",
    "esd            8E\n",
    "Mavg           E\n",
    "```"
   ]
  },
  {
   "cell_type": "markdown",
   "metadata": {},
   "source": [
    "And finally the sampler section, which remains the same:"
   ]
  },
  {
   "cell_type": "markdown",
   "metadata": {},
   "source": [
    "```\n",
    "[sampler]\n",
    "\n",
    "path_data           path/to/data\n",
    "data                shearcovariance_bin_1_A.txt     0,1,4\n",
    "path_covariance     path/to/covariance\n",
    "covariance          shearcovariance_matrix_A.txt    4,6\n",
    "\n",
    "exclude_bins         11,12\n",
    "sampler_output       output/model.fits\n",
    "sampler              emcee                    # MCMC sampler\n",
    "nwalkers             120\n",
    "nsteps               2000\n",
    "nburn                0\n",
    "thin                 1\n",
    "threads              3\n",
    "sampler_type         ensemble\n",
    "update_freq          360\n",
    "```"
   ]
  },
  {
   "cell_type": "markdown",
   "metadata": {},
   "source": [
    "## Coding up your own model"
   ]
  },
  {
   "cell_type": "markdown",
   "metadata": {},
   "source": [
    "With all these sections and parameters, the pipeline can interpret any model passed to it, no matter the number of parameters or the ordering of the ingredients, provided that the configuration file is consistent with the model structure."
   ]
  },
  {
   "cell_type": "markdown",
   "metadata": {},
   "source": [
    "For instance, we might define a mass-observable relation with a power-law with mass and redshift,\n",
    "$$\n",
    "\\log m_\\star = A + B\\log\\left(\\frac{M_\\mathrm{h}}{M_0}\\right) + C\\left(\\frac{1+z}{1+z_0}\\right)\\,,\n",
    "$$\n",
    "which coded up looks like:"
   ]
  },
  {
   "cell_type": "code",
   "execution_count": 7,
   "metadata": {},
   "outputs": [],
   "source": [
    "def powerlaw_mz(M, z, A, B, C, logM0, z0):\n",
    "    return 10**(A + B*(np.log10(M)-logM0) + C*((1+z)/(1+z0)))"
   ]
  },
  {
   "cell_type": "markdown",
   "metadata": {},
   "source": [
    "Note that these custom functions must include the halo mass as the first argument; all other arguments must be\n",
    "defined in the configuration file -- including the redshift, in this case. This would therefore require the central MOR section in the configuration file to look like"
   ]
  },
  {
   "cell_type": "markdown",
   "metadata": {},
   "source": [
    "```\n",
    "[hod/centrals/mor]\n",
    "name           powerlaw_mz\n",
    "z              fixed          0.188\n",
    "A              uniform        10      16    12\n",
    "B              uniform        0       5     1\n",
    "C              uniform        -1      1     0\n",
    "logM0          fixed          14\n",
    "z0             fixed          0.1\n",
    "```"
   ]
  },
  {
   "cell_type": "markdown",
   "metadata": {},
   "source": [
    "For the time being, you must include your model in the file `kids_ggl_pipeline/halomodel/hod/relations.py`, and custom functions for the scatter about this relation must be included in the file `kids_ggl_pipeline/halomodel/hod/scatter.py`. This has the undesirable effect that this file, common to all users, might get clogged with trial-and-error attempts by various users. We will implement the ability to input user-provided files in the future."
   ]
  },
  {
   "cell_type": "markdown",
   "metadata": {},
   "source": [
    "#### Future improvements"
   ]
  },
  {
   "cell_type": "markdown",
   "metadata": {},
   "source": [
    " * Choosing between mass-concentration relations should be trivial under this scheme. Should add a subsection `[hod/centrals/concentration]` and possibly one for satellites\n",
    " * Custom relations should be written in a user-supplied file rather than in the pipeline source code."
   ]
  },
  {
   "cell_type": "code",
   "execution_count": null,
   "metadata": {},
   "outputs": [],
   "source": []
  }
 ],
 "metadata": {
  "kernelspec": {
   "display_name": "Python [default]",
   "language": "python",
   "name": "python3"
  },
  "language_info": {
   "codemirror_mode": {
    "name": "ipython",
    "version": 3
   },
   "file_extension": ".py",
   "mimetype": "text/x-python",
   "name": "python",
   "nbconvert_exporter": "python",
   "pygments_lexer": "ipython3",
   "version": "3.6.4"
  }
 },
 "nbformat": 4,
 "nbformat_minor": 2
}
