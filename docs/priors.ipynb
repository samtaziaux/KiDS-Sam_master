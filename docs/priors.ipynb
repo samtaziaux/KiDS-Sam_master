{
 "cells": [
  {
   "cell_type": "markdown",
   "metadata": {},
   "source": [
    "# KiDS-GGL available priors"
   ]
  },
  {
   "cell_type": "markdown",
   "metadata": {},
   "source": [
    "Since `v2.0.0`, several priors are available. These are all defined in `kids_ggl_pipeline/sampling/priors.py`:\n",
    "\n",
    " * `exp:` Exponential prior, $f=exp(-x)$ (Note: location and scale as per [`scipy.stats`](https://docs.scipy.org/doc/scipy/reference/generated/scipy.stats.expon.html) not yet implemented.)\n",
    " * `jeffreys`: [Jeffreys prior](https://en.wikipedia.org/wiki/Jeffreys_prior), $f=1/x$, typically used for scatter (more generally, for *scale estimators*).\n",
    " * `lognormal`: Lognormal probability, $f = (1/x)(2\\pi\\sigma^2)^{0.5}\\exp\\left[-(\\log(x)-x_0)^2/(2\\sigma^2)\\right]$\n",
    " * `normal`: Normal (Gaussian) probability, $f = (2\\pi\\sigma^2)^{0.5}\\exp\\left[-(x-x_0)^2/(2\\sigma^2)\\right]$\n",
    " * `student`: [Student's t distribution](https://en.wikipedia.org/wiki/Student%27s_t-distribution), appropriate for slopes (when used with 1 degree of freedom). Exercise: see why this works and a uniform prior does not!\n",
    " * `uniform`: Uniform distribution."
   ]
  },
  {
   "cell_type": "markdown",
   "metadata": {},
   "source": [
    "Two additional \"priors\" for fixed parameters (i.e., that are not allowed to vary in the MCMC) are available:\n",
    "\n",
    " * `fixed`: Fixed scalar\n",
    " * `array`: Array of fixed scalars"
   ]
  },
  {
   "cell_type": "markdown",
   "metadata": {},
   "source": [
    "They are all defined in the configuration file as"
   ]
  },
  {
   "cell_type": "markdown",
   "metadata": {},
   "source": [
    "```\n",
    "param_name    prior    [arg1    [arg2]]    [lower    upper]    [starting]\n",
    "```"
   ]
  },
  {
   "cell_type": "markdown",
   "metadata": {},
   "source": [
    "but they all take different kinds of arguments (groups of objects between brackets are optional but must be specified together). The notation here follows the `unix` convention that values in brackets are optional; if a set of brackets includes more than one value then if they are specified they must all be specified. The values taken by each of the available priors are:"
   ]
  },
  {
   "cell_type": "markdown",
   "metadata": {},
   "source": [
    "```\n",
    "param_name    exp          [lower    upper]    [starting]\n",
    "param_name    jeffreys     [lower    upper]    [starting]\n",
    "param_name    lognormal    centre     scale    [lower    upper]     [starting]\n",
    "param_name    normal       centre     scale    [lower    upper]     [starting]\n",
    "param_name    student      dof    [lower    upper]     [starting]\n",
    "param_name    uniform      lower    upper    [starting]\n",
    "param_name    fixed        value\n",
    "param_name    array        value1,value2,value3,...\n",
    "```"
   ]
  },
  {
   "cell_type": "markdown",
   "metadata": {},
   "source": [
    "where `lower` and `upper` are lower and upper bounds of the allowed range for the prior. For instance, a mass might have a normal prior $2\\pm1$, but it cannot physically go below zero. In this case, you'd want `lower=0`. Note that if you set a lower bound, you *must* also set an upper bound, for the pipeline to interpret values correctly; you may set the lower bound to `-inf` and the upper bound to `inf` if you do not wish to set bounds at all (but google \"improper Bayesian priors\").\n",
    "\n",
    "`starting` is the starting point for each parameter in the MCMC chain. If not provided, the starting point is calculated as a random number generated from the prior within the specified range.\n",
    "\n",
    "Some of these priors are set in `demo/ggl_model_demo.txt` for illustration."
   ]
  },
  {
   "cell_type": "markdown",
   "metadata": {},
   "source": [
    "**Notes**\n",
    " * The `exp` and `jeffreys` distributions take no free parameters. In order for them to make sense, the variable in question must be relatively small (say, typically ~0-10).\n",
    " * As mentioned before, we recommend the `student` prior to be used with the slope of a line, setting `dof=1`."
   ]
  }
 ],
 "metadata": {
  "kernelspec": {
   "display_name": "Python [default]",
   "language": "python",
   "name": "python3"
  },
  "language_info": {
   "codemirror_mode": {
    "name": "ipython",
    "version": 3
   },
   "file_extension": ".py",
   "mimetype": "text/x-python",
   "name": "python",
   "nbconvert_exporter": "python",
   "pygments_lexer": "ipython3",
   "version": "3.6.4"
  }
 },
 "nbformat": 4,
 "nbformat_minor": 2
}
