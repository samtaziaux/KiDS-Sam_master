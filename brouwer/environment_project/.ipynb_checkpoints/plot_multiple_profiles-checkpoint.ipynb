{
 "cells": [
  {
   "cell_type": "code",
   "execution_count": 1,
   "metadata": {
    "collapsed": true
   },
   "outputs": [],
   "source": [
    "#!/usr/bin/python\n",
    "\n",
    "import numpy as np\n",
    "import pyfits\n",
    "import os\n",
    "import environment_utils as envutils\n",
    "import scipy\n",
    "from scipy.stats import chisquare\n",
    "\n",
    "from matplotlib import pyplot as plt\n",
    "%matplotlib inline\n",
    "\n",
    "from matplotlib import pyplot as plt\n",
    "from matplotlib.colors import LogNorm\n",
    "from matplotlib import gridspec\n",
    "from matplotlib import rc, rcParams\n",
    "\n",
    "# Make use of TeX\n",
    "rc('text',usetex=True)\n",
    "\n",
    "# Change all fonts to 'Computer Modern'\n",
    "rc('font',**{'family':'serif','serif':['Computer Modern']})"
   ]
  },
  {
   "cell_type": "code",
   "execution_count": 2,
   "metadata": {
    "collapsed": true
   },
   "outputs": [],
   "source": [
    "envnames = ['Void', 'Sheet', 'Filament', 'Knot']\n",
    "envcolors = ['#771122', '#AA7744', '#44AAAA', '#114477'] # figure 2\n",
    "\n",
    "ranknames = ['Cen', 'Cen+Iso', 'Cen+Sat', 'All']\n",
    "filename_ranks = ['_rankBCG1-2', '_rankBCGm999-2', '_rankBCG1-inf', '']\n",
    "esds = dict()\n",
    "\n",
    "path_filenames = '/disks/shear10/brouwer_veersemeer/pipeline_results/output_envS4bins/results_shearcovariance'\n",
    "filenames_end = 'lw-mstarweight_Z_B0p005-1p2_Rbins10-20-2000kpc_Om0p315_Ol0p685_Ok0_h1_D.txt'"
   ]
  },
  {
   "cell_type": "code",
   "execution_count": 3,
   "metadata": {
    "collapsed": false
   },
   "outputs": [
    {
     "name": "stdout",
     "output_type": "stream",
     "text": [
      "\n",
      "Cen\n",
      "Imported ESD profiles: 4\n",
      "\n",
      "Cen+Iso\n",
      "Imported ESD profiles: 4\n",
      "\n",
      "Cen+Sat\n",
      "Imported ESD profiles: 4\n",
      "\n",
      "All\n",
      "Imported ESD profiles: 4\n"
     ]
    }
   ],
   "source": [
    "for r in xrange(len(ranknames)):\n",
    "    print\n",
    "    print ranknames[r]\n",
    "    \n",
    "    esdfiles = ['%s/shearcovariance_envS4bin%iof4_nQ3-inf%s_%s'%(path_filenames, i, filename_ranks[r], filenames_end) for i in np.arange(4)+1]\n",
    "\n",
    "    # Importing the fitted ESD profiles\n",
    "    data_x, data_y, error_h, error_l = envutils.read_esdfiles(esdfiles)\n",
    "    \n",
    "    esds[ranknames[r]] = np.array([data_y, error_h, error_l])"
   ]
  },
  {
   "cell_type": "code",
   "execution_count": 16,
   "metadata": {
    "collapsed": false
   },
   "outputs": [
    {
     "name": "stdout",
     "output_type": "stream",
     "text": [
      "Written: ESD profile plot: ESD_profiles_ranks_combined.pdf\n"
     ]
    },
    {
     "data": {
      "text/plain": [
       "<function matplotlib.pyplot.clf>"
      ]
     },
     "execution_count": 16,
     "metadata": {},
     "output_type": "execute_result"
    },
    {
     "data": {
      "image/png": "[encoded data removed]",
      "text/plain": [
       "<matplotlib.figure.Figure at 0x7fc94b647390>"
      ]
     },
     "metadata": {},
     "output_type": "display_data"
    }
   ],
   "source": [
    "from matplotlib import gridspec\n",
    "from matplotlib.backends.backend_agg import FigureCanvasAgg as FigureCanvas\n",
    "\n",
    "# Create a plot of the ESD profiles and halo model fit\n",
    "\n",
    "# Define the labels for the plot\n",
    "h=1\n",
    "xlabel = r'radius R [$\\rm h^{-1}$ kpc]'\n",
    "ylabel = r'ESD $\\langle\\Delta\\Sigma\\rangle$ [h M$_{\\odot}$/pc$^2$]'\n",
    "\n",
    "Nrows = 1\n",
    "Ncolumns = 1\n",
    "\n",
    "# Plotting the ueber matrix\n",
    "fig = plt.figure(figsize=(4,3))\n",
    "canvas = FigureCanvas(fig)\n",
    "\n",
    "gs_full = gridspec.GridSpec(1,1)\n",
    "gs = gridspec.GridSpecFromSubplotSpec(Nrows, Ncolumns, wspace=0, hspace=0, subplot_spec=gs_full[0,0])\n",
    "\n",
    "ax = fig.add_subplot(gs_full[0,0])\n",
    "\n",
    "for N1 in xrange(Nrows):\n",
    "    for N2 in xrange(Ncolumns):\n",
    "\n",
    "        #env = N1*Nrows + N2    \n",
    "        env = 3    \n",
    "\n",
    "        ax_sub = fig.add_subplot(gs[N1, N2])\n",
    "        \n",
    "        # Plot the ESD profile\n",
    "        (error_l[env])[(error_l[env])>=data_y[env]] = ((data_y[env][(error_l[env])>=data_y[env]])*0.9999999999)\n",
    "\n",
    "        for r in xrange(len(ranknames)):\n",
    "            \n",
    "            data_y = esds[ranknames[r]][0]\n",
    "            error_h = esds[ranknames[r]][1]\n",
    "            error_l = esds[ranknames[r]][2]\n",
    "            \n",
    "            ax_sub.errorbar(data_x, data_y[env], yerr=[error_l[env], error_h[env]],\\\n",
    "                            ls=':', marker='.', color = envcolors[r], label = ranknames[r])\n",
    "                    \n",
    "        ax_sub.xaxis.set_label_position('top')\n",
    "        ax_sub.yaxis.set_label_position('right')\n",
    "\n",
    "        ax.tick_params(labelleft='off', labelbottom='off', top='off', bottom='off', left='off', right='off')\n",
    "                \n",
    "        if N2 != 0:\n",
    "            ax_sub.tick_params(axis='y', labelleft='off')\n",
    "        if N2 == Ncolumns-1:\n",
    "            ax_sub.set_xticks(np.arange(9.,12.,0.5))\n",
    "        else:\n",
    "            ax_sub.set_xticks(np.arange(9.,11.5,0.5))\n",
    "        \n",
    "        \n",
    "        plt.autoscale(enable=False, axis='both', tight=None)\n",
    "        plt.axis([2e1,2e3,1e-1,1e3])\n",
    "        plt.ylim(1e-1,2e2)\n",
    "        plt.xscale('log')\n",
    "        plt.yscale('log')\n",
    "        \n",
    "            \n",
    "        plt.title(envnames[env], x = 0.8, y = 0.8)\n",
    "\n",
    "lgd = ax_sub.legend(bbox_to_anchor=(1., 1.3), ncol=2)\n",
    "\n",
    "# Define the labels for the plot\n",
    "ax.set_xlabel(xlabel)\n",
    "ax.set_ylabel(ylabel)\n",
    "\n",
    "ax.xaxis.set_label_coords(0.5, -0.07)\n",
    "ax.yaxis.set_label_coords(-0.07, 0.5)\n",
    "\n",
    "#ax.xaxis.label.set_size(17)\n",
    "#ax.yaxis.label.set_size(17)\n",
    "\n",
    "    \n",
    "plt.tight_layout()\n",
    "\n",
    "# Save plot\n",
    "filename = 'ESD_profiles_ranks_combined'\n",
    "plotname = '%s.pdf'%filename\n",
    "\n",
    "plt.savefig(plotname, format='pdf', bbox_extra_artists=(lgd,), bbox_inches='tight')\n",
    "print 'Written: ESD profile plot:', plotname\n",
    "\n",
    "plt.clf"
   ]
  },
  {
   "cell_type": "code",
   "execution_count": 5,
   "metadata": {
    "collapsed": false
   },
   "outputs": [
    {
     "name": "stdout",
     "output_type": "stream",
     "text": [
      "\n",
      "Cen\n",
      "0 1 chi2: 10.0150764121 P(>chi2) 0.349266068884 Independent: False\n",
      "0 2 chi2: 12.4918878166 P(>chi2) 0.186977210315 Independent: False\n",
      "0 3 chi2: 11.5231841839 P(>chi2) 0.241543144318 Independent: False\n",
      "1 2 chi2: 14.0136166354 P(>chi2) 0.121841681706 Independent: False\n",
      "1 3 chi2: 8.79084030825 P(>chi2) 0.456801363696 Independent: False\n",
      "2 3 chi2: 11.0050663065 P(>chi2) 0.275361826942 Independent: False\n",
      "\n",
      "Cen+Iso\n",
      "0 1 chi2: 4.16656641637 P(>chi2) 0.900111277785 Independent: False\n",
      "0 2 chi2: 12.9838978252 P(>chi2) 0.163336223196 Independent: False\n",
      "0 3 chi2: 9.64327509677 P(>chi2) 0.380128085781 Independent: False\n",
      "1 2 chi2: 14.0129091774 P(>chi2) 0.121866764012 Independent: False\n",
      "1 3 chi2: 9.8784756756 P(>chi2) 0.360412670663 Independent: False\n",
      "2 3 chi2: 7.77531545452 P(>chi2) 0.556938118016 Independent: False\n",
      "\n",
      "Cen+Sat\n",
      "0 1 chi2: 7.53940471409 P(>chi2) 0.581143522738 Independent: False\n",
      "0 2 chi2: 20.4021907852 P(>chi2) 0.0155862406952 Independent: True\n",
      "0 3 chi2: 25.3914014306 P(>chi2) 0.00256739108737 Independent: True\n",
      "1 2 chi2: 20.9056053641 P(>chi2) 0.0130762048328 Independent: True\n",
      "1 3 chi2: 25.4589832161 P(>chi2) 0.00250327377168 Independent: True\n",
      "2 3 chi2: 21.5881647715 P(>chi2) 0.0102799683805 Independent: True\n",
      "\n",
      "All\n",
      "0 1 chi2: 8.81757600634 P(>chi2) 0.454281260102 Independent: False\n",
      "0 2 chi2: 38.6003837066 P(>chi2) 1.35974206857e-05 Independent: True\n",
      "0 3 chi2: 42.1479864378 P(>chi2) 3.08802908766e-06 Independent: True\n",
      "1 2 chi2: 31.5402909765 P(>chi2) 0.000239034675534 Independent: True\n",
      "1 3 chi2: 32.3724260823 P(>chi2) 0.000171660150092 Independent: True\n",
      "2 3 chi2: 13.9115039851 P(>chi2) 0.125508209031 Independent: False\n"
     ]
    }
   ],
   "source": [
    "rmin = 0\n",
    "#rmin = 5\n",
    "#rmax = rmin + 5\n",
    "rmax = 10\n",
    "free = rmax - rmin - 1\n",
    "\n",
    "for r in xrange(len(ranknames)):\n",
    "    print\n",
    "    print ranknames[r]\n",
    "    data_y = esds[ranknames[r]][0]\n",
    "    error_h = esds[ranknames[r]][1]\n",
    "    error_l = esds[ranknames[r]][2]\n",
    "    \n",
    "    for i in np.arange(len(envnames)):\n",
    "        for j in np.arange(i+1, len(envnames)):\n",
    "\n",
    "            chi2 = np.sum((data_y[i,rmin:rmax] - data_y[j,rmin:rmax])**2 / (error_h[i,rmin:rmax]**2 + error_h[j,rmin:rmax]**2))\n",
    "            p = 1 - scipy.stats.chi2.cdf(chi2, free)\n",
    "            print i, j, 'chi2:', chi2, 'P(>chi2)', p, 'Independent:', p < 0.05\n",
    "            \n"
   ]
  },
  {
   "cell_type": "code",
   "execution_count": null,
   "metadata": {
    "collapsed": true
   },
   "outputs": [],
   "source": []
  },
  {
   "cell_type": "code",
   "execution_count": null,
   "metadata": {
    "collapsed": true
   },
   "outputs": [],
   "source": []
  }
 ],
 "metadata": {
  "kernelspec": {
   "display_name": "Python 2",
   "language": "python",
   "name": "python2"
  },
  "language_info": {
   "codemirror_mode": {
    "name": "ipython",
    "version": 2
   },
   "file_extension": ".py",
   "mimetype": "text/x-python",
   "name": "python",
   "nbconvert_exporter": "python",
   "pygments_lexer": "ipython2",
   "version": "2.7.10"
  }
 },
 "nbformat": 4,
 "nbformat_minor": 0
}
