{
 "metadata": {
  "name": ""
 },
 "nbformat": 3,
 "nbformat_minor": 0,
 "worksheets": [
  {
   "cells": [
    {
     "cell_type": "code",
     "collapsed": false,
     "input": [
      "#!/usr/bin/python\n",
      "\n",
      "\"Module to determine the local overdensity delta_r within a sphere of radius r.\"\n",
      "\n",
      "# Import the necessary libraries\n",
      "import sys\n",
      "sys.path.insert(0, '/data2/brouwer/shearprofile/KiDS-GGL/esd_production/')\n",
      "\n",
      "import pyfits\n",
      "import numpy as np\n",
      "import distance\n",
      "import os\n",
      "import time\n",
      "import shearcode_modules as shear\n",
      "import delta_r_utils as utils\n",
      "import gc\n",
      "from matplotlib import pyplot as plt\n",
      "\n",
      "import astropy.units as u\n",
      "from astropy.coordinates import SkyCoord  # High-level coordinates\n",
      "from astropy.coordinates import ICRS, Galactic, FK4, FK5  # Low-level frames\n",
      "from astropy.coordinates import Angle, Latitude, Longitude  # Angles\n",
      "from astropy.coordinates import search_around_sky\n",
      "\n",
      "%matplotlib inline\n",
      "\n",
      "# Important constants\n",
      "inf = np.inf # Infinity\n",
      "nan = np.nan # Not a number\n",
      "pi = np.pi # Pi\n",
      "\n",
      "purpose = 'shearcatalog'\n",
      "centering = 'None'\n",
      "\n",
      "O_matter = 0.315\n",
      "O_lambda = 1.-O_matter\n",
      "Ok = 0.\n",
      "h = 1."
     ],
     "language": "python",
     "metadata": {},
     "outputs": [],
     "prompt_number": 25
    },
    {
     "cell_type": "code",
     "collapsed": false,
     "input": [
      "# Importing the GAMA catalogue\n",
      "path_gamacat = '/data2/brouwer/MergedCatalogues/GAMACatalogue_1.0.fits'\n",
      "centering = 'None'\n",
      "purpose = 'shearcatalog'\n",
      "Ncat = 1\n",
      "Runit = 'kpc'\n",
      "lens_weights = {'None': ''}\n",
      "\n",
      "gamacat, galIDlist, galRAlist, galDEClist, galweightlist, galZlist, Dcllist, Dallist = \\\n",
      "shear.import_gamacat(path_gamacat, centering, purpose, Ncat, \\\n",
      "O_matter, O_lambda, Ok, h, Runit, lens_weights)\n",
      "\n",
      "galRAlist *= u.degree\n",
      "galDEClist *= u.degree\n",
      "Dcllist *= u.pc\n",
      "Dallist *= u.pc\n",
      "\n",
      "petrolist = gamacat['Rpetro'] # petrosian magnitude of all galaxies\n",
      "nQlist = gamacat['nQ'] # nQ of all galaxies\n",
      "delta8list = gamacat['delta8']# delta8 of all galaxies\n",
      "complist = gamacat['Completeness'] # Completeness around all galaxies\n",
      "gmaglist = gamacat['absmag_g'] # g magnitude of all galaxies\n",
      "rmaglist = gamacat['absmag_r'] # r magnitude of all galaxies\n",
      "\n",
      "# Defining the color (g-r)0\n",
      "colorlist = gmaglist-rmaglist\n",
      "maglist = utils.calc_magnitude(galZlist, Dcllist, colorlist, petrolist)\n"
     ],
     "language": "python",
     "metadata": {},
     "outputs": [
      {
       "output_type": "stream",
       "stream": "stdout",
       "text": [
        "Importing GAMA catalogue: /data2/brouwer/MergedCatalogues/GAMACatalogue_1.0.fits\n"
       ]
      }
     ],
     "prompt_number": 26
    },
    {
     "cell_type": "code",
     "collapsed": false,
     "input": [
      "# Masking of unused lenses\n",
      "\n",
      "zmin = 0.039\n",
      "zmax = 0.263\n",
      "Dcmin = distance.comoving(zmin, O_matter, O_lambda, h)\n",
      "Dcmax = distance.comoving(zmax, O_matter, O_lambda, h)\n",
      "print 'Distance: Min    Max'\n",
      "print Dcmin, '  ', Dcmax, 'pc'\n",
      "\n",
      "lensmask = (zmin<galZlist)&(galZlist<zmax)#&(nQlist>=3)&(complist>0.8)\n",
      "DDPmask = (lensmask)&(-21.8<maglist)&(maglist<-20.1)\n",
      "\n",
      "# Mask all non-selected GAMA galaxies\n",
      "galIDs, galRAs, galDECs, galZs, Dcls, Dals, delta8s, comps = [lenslist[lensmask] \\\n",
      "for lenslist in [galIDlist, galRAlist, galDEClist, galZlist, Dcllist, Dallist, delta8list, complist]] \n",
      "\n",
      "# Mask all non-DDP GAMA galaxies\n",
      "DDP_IDs, DDP_RAs, DDP_DECs, DDP_Zs, DDP_Dcls, DDP_Dals = [lenslist[DDPmask] \\\n",
      "for lenslist in [galIDlist, galRAlist, galDEClist, galZlist, Dcllist, Dallist]] \n",
      "\n",
      "galcoords =  SkyCoord(ra=galRAs, dec=galDECs, distance=Dcls, frame='icrs')\n",
      "DDPcoords =  SkyCoord(ra=DDP_RAs, dec=DDP_DECs, distance=DDP_Dcls, frame='icrs')\n",
      "\n",
      "print\n",
      "print 'Number of galaxies:'\n",
      "print 'All (no cut):', len(galIDlist)\n",
      "print 'Used lenses:', len(galIDs)\n",
      "print 'Density Defining Population:', len(DDP_IDs)\n",
      "print"
     ],
     "language": "python",
     "metadata": {},
     "outputs": [
      {
       "output_type": "stream",
       "stream": "stdout",
       "text": [
        "Distance: Min    Max\n",
        "116054651.001    747199339.627 pc\n",
        "\n"
       ]
      },
      {
       "output_type": "stream",
       "stream": "stdout",
       "text": [
        "Number of galaxies:\n",
        "All (no cut): 180960\n",
        "Used lenses: 113276\n",
        "Density Defining Population: 45261\n",
        "\n"
       ]
      }
     ],
     "prompt_number": 27
    },
    {
     "cell_type": "code",
     "collapsed": false,
     "input": [
      "# Import GAMA masks for completeness calculation\n",
      "path_gamamasks = ['/disks/shear10/GamaMasks/%smask08000.fits'%g for g in ['g09', 'g12', 'g15']]\n",
      "gamamasks = np.array([pyfits.open(path_gamamask, ignore_missing_end=True)['PRIMARY'].data for path_gamamask in path_gamamasks])\n",
      "gamamasks[gamamasks ==-2.] = 0.\n",
      "\n",
      "# Creating the RA and DEC coordinates of each GAMA field\n",
      "pixsize_coords = 0.01\n",
      "\n",
      "print 'Importing GAMAmask:'\n",
      "print 'Old size:', np.shape(gamamasks)\n",
      "gapsize = pixsize_coords/0.001\n",
      "\n",
      "gamaRAnums = np.arange(int(gapsize/2.), int(len(gamamasks[0])+gapsize/2), int(gapsize))\n",
      "gamaDECnums = np.arange(int(gapsize/2.), int(len(gamamasks[0,0])+gapsize/2), int(gapsize))\n",
      "#print gamaRAnums\n",
      "#print gamaDECnums\n",
      "                     \n",
      "gama1 = [[129., 141.], [-2.,3.]]\n",
      "gama2 = [[174., 186.], [-3.,2.]]\n",
      "gama3 = [[211.5, 223.5], [-2.,3.]]\n",
      "gamalims = np.array([gama1, gama2, gama3])\n",
      "\n",
      "gamamasks_small = np.zeros([len(gamalims), len(gamaRAnums), len(gamaDECnums)])\n",
      "\n",
      "for f in xrange(len(gamalims)):\n",
      "    for i in xrange(len(gamaRAnums)):\n",
      "        gamaRAnum = gamaRAnums[i]\n",
      "        gamamasks_small[f, i, :] = gamamasks[f, gamaRAnum, :][gamaDECnums]\n",
      "\n",
      "print 'New size:', np.shape(gamamasks_small)\n",
      "\n",
      "gamamasks = gamamasks_small\n",
      "gamamasks = np.reshape(gamamasks, [len(gamalims), np.size(gamamasks[0])])\n",
      "\n",
      "print 'Final shape:', np.shape(gamamasks)"
     ],
     "language": "python",
     "metadata": {},
     "outputs": [
      {
       "output_type": "stream",
       "stream": "stdout",
       "text": [
        "Importing GAMAmask:\n",
        "Old size: (3, 5000, 12000)\n",
        "New size: (3, 500, 1200)\n",
        "Final shape:"
       ]
      },
      {
       "output_type": "stream",
       "stream": "stdout",
       "text": [
        " (3, 600000)\n"
       ]
      }
     ],
     "prompt_number": 28
    },
    {
     "cell_type": "code",
     "collapsed": false,
     "input": [
      "# Calculating the sizes of the circle (in degree) for each lens, from Rmax (in Mpc)\n",
      "Rmax = np.arange(1,9)*u.Mpc # Maximum radius (in Mpc) around each lens\n",
      "x, y = np.meshgrid(Rmax, Dals.to(u.Mpc)) # Maximum angular separation (in degree) around each lens\n",
      "sepmax = np.degrees((x/y).value)\n",
      "x, y = [[],[]]\n",
      "\n",
      "# The complete size of the circle, to calculate the completeness\n",
      "complete = pi*sepmax**2*(1/pixsize_coords**2)\n",
      "\n",
      "# This array will contain the value delta_r for each lens\n",
      "delta_rs = np.zeros(np.shape(sepmax))\n",
      "delta_r = np.ones([len(galIDlist), len(Rmax)])*-999\n",
      "\n",
      "print np.shape(delta_rs)\n",
      "print np.shape(delta_r)"
     ],
     "language": "python",
     "metadata": {},
     "outputs": [
      {
       "output_type": "stream",
       "stream": "stdout",
       "text": [
        "(113276, 8)\n",
        "(180960, 8)\n"
       ]
      }
     ],
     "prompt_number": 29
    },
    {
     "cell_type": "code",
     "collapsed": false,
     "input": [
      "# Calculating the volume and mean DDP density of GAMA\n",
      "gamavol = utils.calc_rho_mean(gamalims, O_matter, O_lambda, h)\n",
      "rho_mean = len(DDP_IDs)/gamavol\n",
      "\n",
      "print 'mean density', rho_mean"
     ],
     "language": "python",
     "metadata": {},
     "outputs": [
      {
       "output_type": "stream",
       "stream": "stdout",
       "text": [
        "GAMA volume: 6750000.0 (Mpc/h)^3\n",
        "mean density 0.00670533333333\n"
       ]
      }
     ],
     "prompt_number": 30
    },
    {
     "cell_type": "code",
     "collapsed": false,
     "input": [
      "# This array will contain the value delta_r for each lens\n",
      "delta_rs = np.zeros(np.shape(sepmax))\n",
      "delta_r = np.ones([len(galIDlist), len(Rmax)])*-999\n",
      "\n",
      "comp_rs = np.zeros(np.shape(sepmax))\n",
      "comp_r = np.ones([len(galIDlist), len(Rmax)])*-999\n",
      "\n",
      "print np.shape(delta_rs)\n",
      "print np.shape(delta_r)\n",
      "\n",
      "for f in [0]: #xrange(len(gamalims)): # For each GAMA field ...\n",
      "    \n",
      "    print\n",
      "    print 'GAMA field %i:'%(f+1)\n",
      "    \n",
      "    gamacoords_field = utils.create_fieldcoords(gamalims, pixsize_coords, f) # Create the coordinates of the GAMA mask\n",
      "\n",
      "    # Masking the lenses that are outside the field\n",
      "    galfieldmask = (gamalims[f, 0, 0] < galRAs.value) & (galRAs.value < gamalims[f, 0, 1]) \\\n",
      "    & (gamalims[f, 1, 0] < galDECs.value) & (galDECs.value < gamalims[f, 1, 1])\n",
      "    \n",
      "    # Masking the DDP galaxies that are outside the field\n",
      "    DDPfieldmask = (gamalims[f, 0, 0] < DDP_RAs.value) & (DDP_RAs.value < gamalims[f, 0, 1]) \\\n",
      "    & (gamalims[f, 1, 0] < DDP_DECs.value) & (DDP_DECs.value < gamalims[f, 1, 1])\n",
      "  \n",
      "    galcoords_field = galcoords[galfieldmask]\n",
      "    DDPcoords_field = DDPcoords[DDPfieldmask]\n",
      "    rho_field = np.zeros([np.sum(galfieldmask), len(Rmax)])\n",
      "    comp_field = np.zeros([np.sum(galfieldmask), len(Rmax)])\n",
      "    \n",
      "    print '    Contains:', len(galIDs[galfieldmask]), 'galaxies'\n",
      "    \n",
      "    #print '    Galaxy coordinates:', galcoords_field\n",
      "    #print '    GAMA coordinates:', gamacoords_field\n",
      "\n",
      "#    plt.plot(galcoords[fieldmask].ra.deg, galcoords[fieldmask].dec.deg, '.')\n",
      "#    plt.show()\n",
      "    \n",
      "    #For each lens in this field ...\n",
      "    #Ngals = len(galcoords_field)\n",
      "    Ngals = 20\n",
      "    for g in xrange(Ngals):\n",
      "        \n",
      "        #if g % 100 == 0:\n",
      "        print 'Galaxy #%i:'%(g+1), float(g+1)/float(Ngals)*100., '%'\n",
      "        \n",
      "        # ... find the seperation with all GAMA coordinates and DDP galaxies\n",
      "        gamasep = (galcoords_field[g]).separation(gamacoords_field).deg\n",
      "        DDPsep = (galcoords_field[g]).separation_3d(DDPcoords_field).to('Mpc')\n",
      "        \n",
      "        # for each Rmax...\n",
      "        for R in xrange(len(Rmax)):\n",
      "    \n",
      "            # ... determine the gama coordinates that lie within the circle\n",
      "            gama_Rmask = gamasep < (sepmax[galfieldmask])[g, R]\n",
      "            comp_field[g, R] = np.sum((gamamasks[f])[gama_Rmask])/((complete[galfieldmask])[g, R])\n",
      "            \n",
      "            if R==7:\n",
      "                print comps[g], comp_field[g, R]\n",
      "            \n",
      "            # ... calculate the number density of DDP galaxies inside the sphere\n",
      "            sphere_size = (4./3.*pi*Rmax[R]**3)*comp_field[g, R]\n",
      "            DDP_Rmask = DDPsep < Rmax[R]\n",
      "            \n",
      " #           print comp_field[g, R]\n",
      "            \n",
      "            # Calculate rho_r\n",
      "            rho_field[g, R] = (np.sum(DDP_Rmask)/sphere_size).value\n",
      "                        \n",
      "    delta_r_field = (rho_field-rho_mean)/rho_mean\n",
      "    delta_rs[galfieldmask] = delta_r_field\n",
      "    comp_rs[galfieldmask] = comp_field\n",
      "    \n",
      "delta_r[lensmask] = delta_rs\n",
      "comp_r[lensmask] = comp_rs"
     ],
     "language": "python",
     "metadata": {},
     "outputs": [
      {
       "output_type": "stream",
       "stream": "stdout",
       "text": [
        "(113276, 8)\n",
        "(180960, 8)\n",
        "\n",
        "GAMA field 1:\n",
        "    Contains:"
       ]
      },
      {
       "output_type": "stream",
       "stream": "stdout",
       "text": [
        " 34237 galaxies\n",
        "Galaxy #1: 5.0 %\n",
        "0.559809600648"
       ]
      },
      {
       "output_type": "stream",
       "stream": "stdout",
       "text": [
        " 0.521374593162\n",
        "Galaxy #2: 10.0 %\n",
        "0.650587012587"
       ]
      },
      {
       "output_type": "stream",
       "stream": "stdout",
       "text": [
        " 0.571963613381\n",
        "Galaxy #3: 15.0 %\n",
        "0.719539199669"
       ]
      },
      {
       "output_type": "stream",
       "stream": "stdout",
       "text": [
        " 0.583934446352\n",
        "Galaxy #4: 20.0 %\n",
        "0.632432931201"
       ]
      },
      {
       "output_type": "stream",
       "stream": "stdout",
       "text": [
        " 0.551104015628\n",
        "Galaxy #5: 25.0 %\n",
        "0.645241112467"
       ]
      },
      {
       "output_type": "stream",
       "stream": "stdout",
       "text": [
        " 0.609479437669\n",
        "Galaxy #6: 30.0 %\n",
        "0.549540972223"
       ]
      },
      {
       "output_type": "stream",
       "stream": "stdout",
       "text": [
        " 0.531855264849\n",
        "Galaxy #7: 35.0 %\n",
        "0.605306873074"
       ]
      },
      {
       "output_type": "stream",
       "stream": "stdout",
       "text": [
        " 0.545214904945\n",
        "Galaxy #8: 40.0 %\n",
        "0.612852421367"
       ]
      },
      {
       "output_type": "stream",
       "stream": "stdout",
       "text": [
        " 0.54527968344\n",
        "Galaxy #9: 45.0 %\n",
        "0.663411824249"
       ]
      },
      {
       "output_type": "stream",
       "stream": "stdout",
       "text": [
        " 0.56594658958\n",
        "Galaxy #10: 50.0 %\n",
        "0.635462657718"
       ]
      },
      {
       "output_type": "stream",
       "stream": "stdout",
       "text": [
        " 0.577665180892\n",
        "Galaxy #11: 55.0 %\n",
        "0.629811266553"
       ]
      },
      {
       "output_type": "stream",
       "stream": "stdout",
       "text": [
        " 0.551544609679\n",
        "Galaxy #12: 60.0 %\n",
        "0.606801676582"
       ]
      },
      {
       "output_type": "stream",
       "stream": "stdout",
       "text": [
        " 0.579266447142\n",
        "Galaxy #13: 65.0 %\n",
        "0.659975454983"
       ]
      },
      {
       "output_type": "stream",
       "stream": "stdout",
       "text": [
        " 0.531445275729\n",
        "Galaxy #14: 70.0 %\n",
        "0.735775690915"
       ]
      },
      {
       "output_type": "stream",
       "stream": "stdout",
       "text": [
        " 0.670634628748\n",
        "Galaxy #15: 75.0 %\n",
        "0.523901083461"
       ]
      },
      {
       "output_type": "stream",
       "stream": "stdout",
       "text": [
        " 0.484150354073\n",
        "Galaxy #16: 80.0 %\n",
        "nan"
       ]
      },
      {
       "output_type": "stream",
       "stream": "stdout",
       "text": [
        " 0.736833665142\n",
        "Galaxy #17: 85.0 %\n",
        "0.724643432635"
       ]
      },
      {
       "output_type": "stream",
       "stream": "stdout",
       "text": [
        " 0.670415142558\n",
        "Galaxy #18: 90.0 %\n",
        "0.73833455842"
       ]
      },
      {
       "output_type": "stream",
       "stream": "stdout",
       "text": [
        " 0.67117840451\n",
        "Galaxy #19: 95.0 %\n",
        "0.749919430318"
       ]
      },
      {
       "output_type": "stream",
       "stream": "stdout",
       "text": [
        " 0.718983055694\n",
        "Galaxy #20: 100.0 %\n",
        "0.483181975366"
       ]
      },
      {
       "output_type": "stream",
       "stream": "stdout",
       "text": [
        " 0.402169759733\n"
       ]
      }
     ],
     "prompt_number": 40
    },
    {
     "cell_type": "code",
     "collapsed": false,
     "input": [
      "# Comparing delta_r histograms\n",
      "\n",
      "deltamin = -1\n",
      "deltamax = 15\n",
      "\n",
      "delta8bins = np.arange(deltamin, deltamax, 0.1)\n",
      "histbins = np.append(delta8bins, deltamax)\n",
      "\n",
      "# the histogram of the data\n",
      "delta_margot_hist, histbins, patches = plt.hist(delta_rs[:,7][nanmask], histbins, facecolor='blue')\n",
      "delta_tamsyn_hist, histbins, patches = plt.hist(delta8s[nanmask], histbins, facecolor='blue')\n",
      "plt.ylabel(r'Number of galaxies', fontsize=15)\n",
      "plt.xlabel(r'Local overdensity $\\delta_8$', fontsize=15)"
     ],
     "language": "python",
     "metadata": {},
     "outputs": [
      {
       "ename": "NameError",
       "evalue": "name 'np' is not defined",
       "output_type": "pyerr",
       "traceback": [
        "\u001b[1;31m---------------------------------------------------------------------------\u001b[0m\n\u001b[1;31mNameError\u001b[0m                                 Traceback (most recent call last)",
        "\u001b[1;32m<ipython-input-1-b75ff2d6a51d>\u001b[0m in \u001b[0;36m<module>\u001b[1;34m()\u001b[0m\n\u001b[0;32m      4\u001b[0m \u001b[0mdeltamax\u001b[0m \u001b[1;33m=\u001b[0m \u001b[1;36m15\u001b[0m\u001b[1;33m\u001b[0m\u001b[0m\n\u001b[0;32m      5\u001b[0m \u001b[1;33m\u001b[0m\u001b[0m\n\u001b[1;32m----> 6\u001b[1;33m \u001b[0mdelta8bins\u001b[0m \u001b[1;33m=\u001b[0m \u001b[0mnp\u001b[0m\u001b[1;33m.\u001b[0m\u001b[0marange\u001b[0m\u001b[1;33m(\u001b[0m\u001b[0mdeltamin\u001b[0m\u001b[1;33m,\u001b[0m \u001b[0mdeltamax\u001b[0m\u001b[1;33m,\u001b[0m \u001b[1;36m0.1\u001b[0m\u001b[1;33m)\u001b[0m\u001b[1;33m\u001b[0m\u001b[0m\n\u001b[0m\u001b[0;32m      7\u001b[0m \u001b[0mhistbins\u001b[0m \u001b[1;33m=\u001b[0m \u001b[0mnp\u001b[0m\u001b[1;33m.\u001b[0m\u001b[0mappend\u001b[0m\u001b[1;33m(\u001b[0m\u001b[0mdelta8bins\u001b[0m\u001b[1;33m,\u001b[0m \u001b[0mdeltamax\u001b[0m\u001b[1;33m)\u001b[0m\u001b[1;33m\u001b[0m\u001b[0m\n\u001b[0;32m      8\u001b[0m \u001b[1;33m\u001b[0m\u001b[0m\n",
        "\u001b[1;31mNameError\u001b[0m: name 'np' is not defined"
       ]
      }
     ],
     "prompt_number": 1
    },
    {
     "cell_type": "code",
     "collapsed": false,
     "input": [
      "print 'delta_r (Margot/Tamsyn), difference, completeness:'\n",
      "for g in xrange(Ngals):\n",
      "    print '%.5g      %.5g:     %.5g     %.5g'\\\n",
      "    %(delta_rs[:,7][g], delta8s[g], abs((delta_rs[:,7][g]-delta8s[g])/delta8s[g]), comp_rs[g, 7])\n",
      "\n",
      "nanmask = np.isfinite(delta8s[0:Ngals])\n",
      "difference = (((delta_rs[:,7]-delta8s)/delta8s)[0:Ngals])[nanmask]\n",
      "\n",
      "print 'Mean difference:', np.mean(abs(difference)),' Bias:', np.mean(difference)"
     ],
     "language": "python",
     "metadata": {},
     "outputs": [
      {
       "output_type": "stream",
       "stream": "stdout",
       "text": [
        "delta_r (Margot/Tamsyn), difference, completeness:\n",
        "-0.4665      -0.4594:     0.015457     0.52137\n",
        "1.1884      1.0933:     0.087026     0.57196\n",
        "-0.64275      -0.68456:     0.061079     0.58393\n",
        "1.0189      0.79445:     0.28248     0.5511\n",
        "1.0537      1.2278:     0.14184     0.60948\n",
        "0.4382      0.37675:     0.16312     0.53186\n",
        "1.0407      0.99986:     0.040823     0.54521\n",
        "-0.61742      -0.62964:     0.019415     0.54528\n",
        "1.3345      1.1668:     0.14372     0.56595\n",
        "1.1668      1.2621:     0.075538     0.57767\n",
        "-0.62177      -0.63962:     0.027909     0.55154\n",
        "-0.75991      -0.62595:     0.21401     0.57927\n",
        "2.6637      2.2098:     0.20538     0.53145\n",
        "-0.37786      -0.17738:     1.1302     0.67063\n",
        "3.5961      3.91:     0.080284     0.48415\n",
        "-0.15064      nan:     nan     0.73683\n",
        "-0.37766      -0.16474:     1.2924     0.67042\n",
        "-0.37837      -0.18023:     1.0993     0.67118\n",
        "-0.032831      0.31154:     1.1054     0.71898\n",
        "0.55616      0.25266:     1.2012     0.40217\n",
        "Mean difference: 0.38877122652  Bias: 0.229671409127\n"
       ]
      }
     ],
     "prompt_number": 41
    },
    {
     "cell_type": "code",
     "collapsed": false,
     "input": [
      "#Ngal = 88.1e3\n",
      "#V_DDP = 6.75e6\n",
      "#rho_DDP = 5.35e-3\n",
      "#print rho_DDP*V_DDP\n",
      "\n",
      "filename = 'delta_r_test.fits'\n",
      "deltanames = ['delta_R%i'%i for i in Rmax.value]\n",
      "compnames = ['compl_R%i'%i for i in Rmax.value]\n",
      "\n",
      "outputnames = np.hstack([deltanames, compnames])\n",
      "output = np.hstack([delta_r, comp_r]).T\n",
      "\n",
      "utils.write_catalog(filename, galIDlist, outputnames, output)"
     ],
     "language": "python",
     "metadata": {},
     "outputs": [
      {
       "output_type": "stream",
       "stream": "stdout",
       "text": [
        "Old catalog overwritten: delta_r_new.fits\n",
        "\n"
       ]
      }
     ],
     "prompt_number": 33
    },
    {
     "cell_type": "code",
     "collapsed": false,
     "input": [],
     "language": "python",
     "metadata": {},
     "outputs": []
    }
   ],
   "metadata": {}
  }
 ]
}