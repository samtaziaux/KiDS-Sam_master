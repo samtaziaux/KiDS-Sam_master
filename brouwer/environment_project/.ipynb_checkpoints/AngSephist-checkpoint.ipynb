{
 "metadata": {
  "name": ""
 },
 "nbformat": 3,
 "nbformat_minor": 0,
 "worksheets": [
  {
   "cells": [
    {
     "cell_type": "code",
     "collapsed": false,
     "input": [
      "#!/usr/bin/python\n",
      "\n",
      "import numpy as np\n",
      "import pyfits\n",
      "import os\n",
      "from matplotlib import pyplot as plt\n",
      "import delta_r_utils as utils\n",
      "import environment_utils as envutils\n",
      "\n",
      "%matplotlib inline\n",
      "from matplotlib import pyplot as plt\n",
      "from matplotlib.colors import LogNorm\n",
      "from matplotlib import gridspec\n",
      "from matplotlib import rc, rcParams\n",
      "\n",
      "# Make use of TeX\n",
      "rc('text',usetex=True)\n",
      "\n",
      "# Change all fonts to 'Computer Modern'\n",
      "rc('font',**{'family':'serif','serif':['Computer Modern']})\n",
      "\n",
      "\n",
      "centering = 'BCG'\n",
      "envnames = ['Void', 'Sheet', 'Filament', 'Knot']\n",
      "\n",
      "path_gamacats = '/data2/brouwer/MergedCatalogues'\n",
      "gamacatname = '%s/GAMACatalogue_1.0.fits'%path_gamacats\n",
      "shuffledcatname = '%s/shuffled_environment_S4_deltaR.fits'%path_gamacats\n",
      "\n",
      "shuffled = True"
     ],
     "language": "python",
     "metadata": {},
     "outputs": [
      {
       "output_type": "stream",
       "stream": "stderr",
       "text": [
        "WARNING: AstropyDeprecationWarning: Config parameter 'name_resolve_timeout' in section [coordinates.name_resolve] of the file '/home/brouwer/.astropy/config/astropy.cfg' is deprecated. Use 'remote_timeout' in section [config.configuration] instead. [astropy.config.configuration]\n",
        "WARNING:astropy:AstropyDeprecationWarning: Config parameter 'name_resolve_timeout' in section [coordinates.name_resolve] of the file '/home/brouwer/.astropy/config/astropy.cfg' is deprecated. Use 'remote_timeout' in section [config.configuration] instead.\n"
       ]
      }
     ],
     "prompt_number": 1
    },
    {
     "cell_type": "code",
     "collapsed": false,
     "input": [
      "# Importing GAMA catalogue\n",
      "print 'Importing GAMA catalogue:', gamacatname\n",
      "gamacat = pyfits.open(gamacatname)[1].data\n",
      "shuffledcat = pyfits.open(shuffledcatname)[1].data\n",
      "\n",
      "galIDlist = gamacat['ID']\n",
      "\n",
      "# Importing angular seperation\n",
      "angseplist = gamacat['AngSep%s'%centering]\n",
      "angseplist[angseplist<=0] = 0.\n",
      "\n",
      "# Importing and correcting log(Mstar)\n",
      "logmstarlist = gamacat['logmstar']\n",
      "fluxscalelist = gamacat['fluxscale'] # Fluxscale, needed for stellar mass correction\n",
      "corr_list = np.log10(fluxscalelist)# - 2*np.log10(h/0.7)\n",
      "logmstarlist = logmstarlist + corr_list\n",
      "\n",
      "# Applying a mask to the galaxies\n",
      "obsmask = (fluxscalelist<500)&(logmstarlist>5)\n",
      "\n",
      "logmstarlist = logmstarlist[obsmask]\n",
      "mstarlist = 10**logmstarlist\n",
      "angseplist = angseplist[obsmask]\n",
      "\n",
      "zlist = gamacat['Z'][obsmask]\n",
      "ranklist = gamacat['rank%s'%centering][obsmask]\n",
      "\n",
      "if not shuffled:\n",
      "    # Importing the real environment\n",
      "    envlist = gamacat['envS4'][obsmask]\n",
      "else:\n",
      "    # Importing the shuffled environment\n",
      "    envlist = shuffledcat['shuffenvR4'][obsmask]\n",
      "    \n",
      "print 'Imported: %i of %i galaxies'%(len(logmstarlist), len(galIDlist))"
     ],
     "language": "python",
     "metadata": {},
     "outputs": [
      {
       "output_type": "stream",
       "stream": "stdout",
       "text": [
        "Importing GAMA catalogue: /data2/brouwer/MergedCatalogues/GAMACatalogue_1.0.fits\n",
        "Imported: 180863 of 180960 galaxies"
       ]
      },
      {
       "output_type": "stream",
       "stream": "stdout",
       "text": [
        "\n"
       ]
      }
     ],
     "prompt_number": 2
    },
    {
     "cell_type": "code",
     "collapsed": false,
     "input": [
      "# Creating the log(Mstar) histogram (needed for the mstarweight)\n",
      "\n",
      "nbins = 100\n",
      "logmstarbins, logmstarhists, logmstarhistcens = \\\n",
      "envutils.create_histogram('log(Mstar)', logmstarlist, nbins, envnames, envlist, 'lin', False, False)"
     ],
     "language": "python",
     "metadata": {},
     "outputs": [
      {
       "metadata": {},
       "output_type": "display_data",
       "text": [
        "<matplotlib.figure.Figure at 0x7f006005bb50>"
       ]
      }
     ],
     "prompt_number": 3
    },
    {
     "cell_type": "code",
     "collapsed": false,
     "input": [
      "# Creating the logmstar weights for each lens\n",
      "\n",
      "# Create the average histogram\n",
      "avhist = np.mean(logmstarhists, 0)\n",
      "\n",
      "# Calculate the weight for each logmstar bin\n",
      "weighthists = avhist/logmstarhists\n",
      "weighthists[np.logical_not(np.isfinite(weighthists))] = 0\n",
      "\n",
      "#####################\n",
      "\n",
      "# Show results\n",
      "plt.figure(1, figsize=(7, 5))\n",
      "plt.plot(logmstarhistcens, avhist, '', ls='-', label='Average')\n",
      "\n",
      "for env in xrange(len(envnames)):\n",
      "    plt.plot(logmstarhistcens, logmstarhists[env], '', ls='--', label=envnames[env])\n",
      "\n",
      "#plt.xscale('log')\n",
      "#plt.yscale('log')\n",
      "plt.legend(fontsize=15)\n",
      "\n",
      "xlabel = 'log(M$_*$)'\n",
      "ylabel = 'Number of galaxies'\n",
      "\n",
      "plt.ylabel(r'%s'%ylabel,fontsize=15)\n",
      "plt.xlabel(r'%s'%xlabel,fontsize=15)\n",
      "\n",
      "histname = 'environment_logmstar_histogram'\n",
      "if shuffled:\n",
      "    histname = '%s_shuffled'%(histname)\n",
      "\n",
      "plotname = '%s.png'%histname\n",
      "\n",
      "plt.savefig(plotname, format='png')\n",
      "print 'Written: ESD profile plot:', plotname\n",
      "   \n",
      "plt.show()\n"
     ],
     "language": "python",
     "metadata": {},
     "outputs": [
      {
       "output_type": "stream",
       "stream": "stdout",
       "text": [
        "Written: ESD profile plot: environment_logmstar_histogram_shuffled.png\n"
       ]
      },
      {
       "output_type": "stream",
       "stream": "stderr",
       "text": [
        "-c:7: RuntimeWarning: divide by zero encountered in divide\n",
        "-c:7: RuntimeWarning: invalid value encountered in divide\n"
       ]
      },
      {
       "metadata": {},
       "output_type": "display_data",
       "png": "[encoded data removed]",
       "text": [
        "<matplotlib.figure.Figure at 0x7f003ca3be10>"
       ]
      }
     ],
     "prompt_number": 4
    },
    {
     "cell_type": "code",
     "collapsed": false,
     "input": [
      "# Calculate the logmstar weight for each galaxy\n",
      "weightlist = np.zeros(len(logmstarlist)) # Length of the merged GAMA catalog\n",
      "\n",
      "for env in xrange(len(envnames)): # For each environment\n",
      "    envname = envnames[env]\n",
      "    envmask = (envlist == env) # Mask the lenses outside that environment\n",
      "    for b in xrange(nbins): # For each logmstar bin\n",
      "        binmask = (logmstarbins[b]<=logmstarlist) & (logmstarlist<logmstarbins[b+1]) # Mask the lenses outside that bin\n",
      "        totmask = envmask & binmask\n",
      "        weight = weighthists[env,b]\n",
      "        #print 'Env: %s, Bin: %i, Weight: %g'%(envname, b, weight)\n",
      "        weightlist[totmask] = weight"
     ],
     "language": "python",
     "metadata": {},
     "outputs": [],
     "prompt_number": 5
    },
    {
     "cell_type": "code",
     "collapsed": false,
     "input": [
      "# Print the logmstarweight to a fits file\n",
      "weightlist_tot = np.zeros(len(galIDlist))\n",
      "weightlist_tot[obsmask] = weightlist\n",
      "\n",
      "\n",
      "filename = 'mstarweight.fits'\n",
      "if shuffled:\n",
      "    filename = filename.replace('.fits', '_shuffled.fits')\n",
      "\n",
      "envutils.write_catalog(filename, galIDlist, ['mstarweight'], [weightlist_tot])\n"
     ],
     "language": "python",
     "metadata": {},
     "outputs": [
      {
       "output_type": "stream",
       "stream": "stdout",
       "text": [
        "Old catalog overwritten: mstarweight_shuffled.fits\n",
        "\n"
       ]
      },
      {
       "output_type": "stream",
       "stream": "stderr",
       "text": [
        "environment_utils.py:113: PyfitsDeprecationWarning: The new_table function is deprecated as of version 3.3 and may be removed in a future version.\n",
        "\n",
        "        Use :meth:`BinTableHDU.from_columns` for new BINARY tables or :meth:`TableHDU.from_columns` for new ASCII tables instead.\n",
        "  tbhdu = pyfits.new_table(cols)\n"
       ]
      }
     ],
     "prompt_number": 6
    },
    {
     "cell_type": "code",
     "collapsed": false,
     "input": [
      "logmstarbins, logmstarhists, logmstarhistcens = envutils.create_histogram('log(Mstar)',logmstarlist, nbins, envnames, envlist, 'lin', False, weightlist)"
     ],
     "language": "python",
     "metadata": {},
     "outputs": [
      {
       "output_type": "stream",
       "stream": "stdout",
       "text": [
        "The weights are: [ 0.60429744  0.580232    0.53107735 ...,  0.56583527  0.5080429\n",
        "  0.55458908]\n",
        "The weights are:"
       ]
      },
      {
       "output_type": "stream",
       "stream": "stdout",
       "text": [
        " [ 0.71665815  0.72900969  0.67715333 ...,  0.73229959  0.75735775\n",
        "  0.78723932]\n",
        "The weights are: [ 1.18311037  1.40525114  1.50227964 ...,  1.18311037  1.17070117\n",
        "  1.41925466]\n",
        "The weights are: [ 4.8125      4.23943662  3.8872549  ...,  5.77163462  6.42884615\n",
        "  5.0177305 ]\n"
       ]
      },
      {
       "metadata": {},
       "output_type": "display_data",
       "text": [
        "<matplotlib.figure.Figure at 0x7f003c9fa8d0>"
       ]
      }
     ],
     "prompt_number": 7
    },
    {
     "cell_type": "code",
     "collapsed": false,
     "input": [
      "\n",
      "\n",
      "\n",
      "# Repeating AngSep and average quantity calculations for weighted galaxies"
     ],
     "language": "python",
     "metadata": {},
     "outputs": [],
     "prompt_number": 8
    },
    {
     "cell_type": "code",
     "collapsed": false,
     "input": [
      "# Calculating average redshift, log(M*) and satellite fraction of the lens samples (needed for halo model)\n",
      "\n",
      "if shuffled:\n",
      "    print 'For the shuffled environments:'\n",
      "else:\n",
      "    print 'For the cosmic environments:'\n",
      "print \n",
      "\n",
      "print 'Without logmstarweight:'\n",
      "zaverage, mstaraverage, fsat = envutils.calc_halomodel_input(envnames, envlist, ranklist, zlist, mstarlist, False)\n",
      "\n",
      "\n",
      "print\n",
      "print 'With logmstarweight:'\n",
      "zaverage, mstaraverage, fsat = envutils.calc_halomodel_input(envnames, envlist, ranklist, zlist, mstarlist, weightlist)"
     ],
     "language": "python",
     "metadata": {},
     "outputs": [
      {
       "output_type": "stream",
       "stream": "stdout",
       "text": [
        "For the shuffled environments:\n",
        "\n",
        "Without logmstarweight:\n",
        "              "
       ]
      },
      {
       "output_type": "stream",
       "stream": "stdout",
       "text": [
        " ['Void', 'Sheet', 'Filament', 'Knot']\n",
        "average(Z): 0.168114185333,0.173415079713,0.173817709088,0.170261472464,\n",
        "average(M*): 26877526016.0,31865075712.0,37628870656.0,35535081472.0,\n",
        "satellite fraction: 0.221258720645,0.321012200633,0.424189307625,0.567493740041,\n",
        "\n",
        "With logmstarweight:\n",
        "              "
       ]
      },
      {
       "output_type": "stream",
       "stream": "stdout",
       "text": [
        " ['Void', 'Sheet', 'Filament', 'Knot']\n",
        "average(Z): 0.172905087471,0.171300560236,0.168812200427,0.163455173373,\n",
        "average(M*): 30416115712.0,30002978816.0,30423310336.0,29218338816.0,\n",
        "satellite fraction: 0.218386990911,0.322250089966,0.429126824528,0.56957466059,\n"
       ]
      }
     ],
     "prompt_number": 9
    },
    {
     "cell_type": "code",
     "collapsed": false,
     "input": [
      "\n",
      "# Creating and printing the angular seperation histogram (needed for the halo model)\n",
      "\n",
      "nbins = 100\n",
      "angsepmask = ranklist>1\n",
      "\n",
      "for w in xrange(2):\n",
      "\n",
      "    filename = 'Angsephist_envS4'\n",
      "\n",
      "    if shuffled:\n",
      "        filename = '%s-%s'%(filename, 'shuffled')\n",
      "    \n",
      "    print\n",
      "    if w==0:\n",
      "        print 'Without logmstarweight:'\n",
      "        weight = False\n",
      "    else:\n",
      "        print 'With logmstarweight:'\n",
      "        weight = weightlist[angsepmask]\n",
      "        filename = '%s_%s'%(filename, 'mstarweight')\n",
      "        \n",
      "    angsepbins, angsephists, angsephistcens = \\\n",
      "    envutils.create_histogram('Angular separation (kpc)', \\\n",
      "                              angseplist[angsepmask], nbins, envnames, envlist[angsepmask], 'log', False, weight)\n",
      "    \n",
      "    # Printing the angular separation histogram to a file\n",
      "    datanames = ['AngSep%s center'%centering, 'Ngals (Voids)', 'Ngals (Sheets)', 'Ngals (Filaments)', 'Ngals (Knots)']\n",
      "    data = np.vstack([angsephistcens, angsephists])\n",
      "    \n",
      "    envutils.write_textfile('%s.txt'%filename, datanames, data)"
     ],
     "language": "python",
     "metadata": {},
     "outputs": [
      {
       "output_type": "stream",
       "stream": "stdout",
       "text": [
        "\n",
        "Without logmstarweight:\n",
        "Written:"
       ]
      },
      {
       "output_type": "stream",
       "stream": "stdout",
       "text": [
        " Angsephist_envS4-shuffled.txt\n",
        "\n",
        "With logmstarweight:\n",
        "The weights are:"
       ]
      },
      {
       "output_type": "stream",
       "stream": "stdout",
       "text": [
        " [ 0.63085154  0.77205128  0.60429744 ...,  0.67347932  0.56988189\n",
        "  0.55458908]\n",
        "The weights are: [ 0.71665815  0.70027855  0.79017094 ...,  0.72900969  0.70027855\n",
        "  0.78723932]\n",
        "The weights are: [ 1.18311037  1.40525114  1.55718954 ...,  0.92868339  1.18311037\n",
        "  1.41925466]\n",
        "The weights are: [ 4.8125      4.45774648  5.0177305  ...,  5.80654762  5.77163462\n",
        "  5.0177305 ]\n",
        "Written:"
       ]
      },
      {
       "output_type": "stream",
       "stream": "stdout",
       "text": [
        " Angsephist_envS4-shuffled_mstarweight.txt\n"
       ]
      },
      {
       "metadata": {},
       "output_type": "display_data",
       "text": [
        "<matplotlib.figure.Figure at 0x7f003ca66090>"
       ]
      }
     ],
     "prompt_number": 10
    },
    {
     "cell_type": "code",
     "collapsed": false,
     "input": [
      "# Print the logmstar limit to a fits file\n",
      "\n",
      "mstarlimflag_tot = np.zeros(len(galIDlist))\n",
      "mstarlimlist_tot = np.ones(len(galIDlist))*-999.\n",
      "logmstarlist_tot = np.ones(len(galIDlist))*-999.\n",
      "\n",
      "logmstarlist_tot[obsmask] = logmstarlist\n",
      "\n",
      "mstarlimlist = 3.1 * (zlist - 0.025)**0.5 + 8.7\n",
      "mstarlimlist_tot[obsmask] = mstarlimlist\n",
      "\n",
      "mstarlimmask = (logmstarlist > mstarlimlist)\n",
      "mstarlimflag = np.zeros(len(mstarlist))\n",
      "mstarlimflag[mstarlimmask] = 1\n",
      "mstarlimflag_tot[obsmask] = mstarlimflag\n",
      "\n",
      "filename = 'mstarlim.fits'\n",
      "\n",
      "envutils.write_catalog(filename, galIDlist, ['logmstar-corr', 'logmstarlim', 'logmstarflag'], [logmstarlist_tot, mstarlimlist_tot, mstarlimflag_tot])"
     ],
     "language": "python",
     "metadata": {},
     "outputs": [
      {
       "output_type": "stream",
       "stream": "stdout",
       "text": [
        "Old catalog overwritten: mstarlim.fits\n",
        "\n"
       ]
      }
     ],
     "prompt_number": 21
    },
    {
     "cell_type": "code",
     "collapsed": false,
     "input": [],
     "language": "python",
     "metadata": {},
     "outputs": []
    }
   ],
   "metadata": {}
  }
 ]
}