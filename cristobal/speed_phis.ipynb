{
 "cells": [
  {
   "cell_type": "code",
   "execution_count": 7,
   "metadata": {},
   "outputs": [],
   "source": [
    "%import_all\n",
    "from numpy import arange, array, exp, log10, newaxis"
   ]
  },
  {
   "cell_type": "code",
   "execution_count": 31,
   "metadata": {},
   "outputs": [],
   "source": [
    "M12 = np.linspace(0.5, 2, 4)\n",
    "b = random.random(2)"
   ]
  },
  {
   "cell_type": "code",
   "execution_count": 32,
   "metadata": {},
   "outputs": [
    {
     "name": "stdout",
     "output_type": "stream",
     "text": [
      "(2, 4)\n",
      "7.58 µs ± 250 ns per loop (mean ± std. dev. of 7 runs, 100000 loops each)\n",
      "4.8 µs ± 243 ns per loop (mean ± std. dev. of 7 runs, 100000 loops each)\n",
      "5.09 µs ± 246 ns per loop (mean ± std. dev. of 7 runs, 100000 loops each)\n"
     ]
    }
   ],
   "source": [
    "def use_list():\n",
    "    return array([bi*log10(M12)**i for i, bi in enumerate(b)])\n",
    "\n",
    "def use_np():\n",
    "    return b[:,newaxis] * log10(M12)**arange(b.size)[:,newaxis]\n",
    "\n",
    "def use_npT():\n",
    "    return (b * log10(M12[:,newaxis])**arange(b.size)).T\n",
    "\n",
    "print(use_list().shape)\n",
    "\n",
    "%timeit use_list()\n",
    "%timeit use_np()\n",
    "%timeit use_npT()"
   ]
  },
  {
   "cell_type": "code",
   "execution_count": 30,
   "metadata": {},
   "outputs": [
    {
     "data": {
      "text/plain": [
       "(True, True)"
      ]
     },
     "execution_count": 30,
     "metadata": {},
     "output_type": "execute_result"
    }
   ],
   "source": [
    "np.allclose(use_list(), use_np()), np.allclose(use_list(), use_npT())"
   ]
  },
  {
   "cell_type": "code",
   "execution_count": 14,
   "metadata": {},
   "outputs": [
    {
     "name": "stdout",
     "output_type": "stream",
     "text": [
      "9.95 µs ± 154 ns per loop (mean ± std. dev. of 7 runs, 100000 loops each)\n",
      "5.25 µs ± 125 ns per loop (mean ± std. dev. of 7 runs, 100000 loops each)\n"
     ]
    }
   ],
   "source": [
    "%timeit array([bi*log10(M12)**i for i,bi in enumerate(b)])\n",
    "%timeit (b * log10(M12[:,newaxis])**arange(b.size)).T"
   ]
  },
  {
   "cell_type": "code",
   "execution_count": 6,
   "metadata": {},
   "outputs": [
    {
     "data": {
      "text/plain": [
       "[['model', 'halo_sz.model'],\n",
       " ['hm_param', 'sigma_8', 'fixed', '0.8159'],\n",
       " ['hm_param', 'H0', 'fixed', '67.74'],\n",
       " ['hm_param', 'omegam', 'fixed', '0.3089'],\n",
       " ['hm_param', 'omegab_h2', 'fixed', '0.02230'],\n",
       " ['hm_param', 'omegav', 'fixed', '0.6911'],\n",
       " ['hm_param', 'n', 'fixed', '0.9667'],\n",
       " ['hm_params', 'z', 'fixed', '0.1884715408'],\n",
       " ['hm_param', 'f_c', 'uniform', '0.0', '6.0', '1.0'],\n",
       " ['hm_param', 'sigma_c', 'uniform', '0.05', '3.0', '1.0'],\n",
       " ['hm_param', 'M_0', 'fixed', '14.0'],\n",
       " ['hm_param', 'a', 'fixed', '1.0'],\n",
       " ['hm_param', 'b', 'fixed', '1.0'],\n",
       " ['hm_param', 'fc_nsat', 'fixed', '1.0'],\n",
       " ['hm_param', 'alpha_s', 'fixed', '0.0'],\n",
       " ['hm_param', 'b_0', 'fixed', '0.0'],\n",
       " ['hm_param', 'b_1', 'fixed', '0.0'],\n",
       " ['hm_param', 'b_2', 'fixed', '0.0'],\n",
       " ['hm_param', 'p_off_3', 'uniform', '0.0', '1.0', '0.3'],\n",
       " ['hm_param', 'r_off_3', 'uniform', '0.0', '3.5', '0.7'],\n",
       " ['hm_param', 'bias', 'fixed', '1.0'],\n",
       " ['hm_params', 'logM_bin_min', 'fixed', '10.0'],\n",
       " ['hm_params', 'logM_bin_max', 'fixed', '12.5'],\n",
       " ['hm_param', 'Mstar', 'fixed', '11.31521633'],\n",
       " ['hm_param', 'centrals', 'fixed', '1'],\n",
       " ['hm_param', 'satellites', 'fixed', '0'],\n",
       " ['hm_param', 'miscentering', 'fixed', '1'],\n",
       " ['hm_output', 'esd_total', '8E'],\n",
       " ['hm_output', 'Mavg', 'E'],\n",
       " ['path_data',\n",
       "  'data/y_c_2p0_inf/SNR_5_inf/ZB_0p1_0p9-Om_0p315-Ol_0p685-Ok_0-h_1/Rbins8_0p2_10_Mpc/shearcovariance/'],\n",
       " ['data', 'shearcovariance_bin_1_A.txt', '0,1,4'],\n",
       " ['path_covariance',\n",
       "  'data/y_c_2p0_inf/SNR_5_inf/ZB_0p1_0p9-Om_0p315-Ol_0p685-Ok_0-h_1/Rbins8_0p2_10_Mpc/shearcovariance/'],\n",
       " ['covariance', 'shearcovariance_matrix_A.txt', '4,6'],\n",
       " ['sampler_output', 'halo_model_results/model_sz.fits'],\n",
       " ['sampler', 'emcee', '#', 'MCMC', 'sampler'],\n",
       " ['nwalkers', '120'],\n",
       " ['nsteps', '2000'],\n",
       " ['nburn', '0'],\n",
       " ['thin', '1'],\n",
       " ['k', '7'],\n",
       " ['threads', '3'],\n",
       " ['sampler_type', 'ensemble'],\n",
       " ['update_freq', '360']]"
      ]
     },
     "execution_count": 6,
     "metadata": {},
     "output_type": "execute_result"
    }
   ],
   "source": [
    "with open('/Users/cristobal/Documents/kids/KiDS-ACTPol-SZ/kids_ggl_config/model_sz.config') as f:\n",
    "    data = [line.split() for line in f\n",
    "            if not (line[0] == '#' or line[:2] == '\\n')]\n",
    "data"
   ]
  },
  {
   "cell_type": "code",
   "execution_count": null,
   "metadata": {},
   "outputs": [],
   "source": []
  }
 ],
 "metadata": {
  "kernelspec": {
   "display_name": "Python [default]",
   "language": "python",
   "name": "python3"
  },
  "language_info": {
   "codemirror_mode": {
    "name": "ipython",
    "version": 3
   },
   "file_extension": ".py",
   "mimetype": "text/x-python",
   "name": "python",
   "nbconvert_exporter": "python",
   "pygments_lexer": "ipython3",
   "version": "3.6.4"
  }
 },
 "nbformat": 4,
 "nbformat_minor": 2
}
