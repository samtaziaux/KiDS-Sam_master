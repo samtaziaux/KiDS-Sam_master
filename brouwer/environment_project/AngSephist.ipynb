{
 "metadata": {
  "name": ""
 },
 "nbformat": 3,
 "nbformat_minor": 0,
 "worksheets": [
  {
   "cells": [
    {
     "cell_type": "code",
     "collapsed": false,
     "input": [
      "#!/usr/bin/python\n",
      "\n",
      "import numpy as np\n",
      "import pyfits\n",
      "import os\n",
      "from matplotlib import pyplot as plt\n",
      "import delta_r_utils as utils\n",
      "import environment_utils as envutils\n",
      "\n",
      "%matplotlib inline\n",
      "from matplotlib import pyplot as plt\n",
      "from matplotlib.colors import LogNorm\n",
      "from matplotlib import gridspec\n",
      "from matplotlib import rc, rcParams\n",
      "\n",
      "inf = np.inf\n",
      "\n",
      "# Make use of TeX\n",
      "rc('text',usetex=True)\n",
      "\n",
      "# Change all fonts to 'Computer Modern'\n",
      "rc('font',**{'family':'serif','serif':['Computer Modern']})\n",
      "\n",
      "\n",
      "centering = 'BCG'\n",
      "envnames = ['Void', 'Sheet', 'Filament', 'Knot']\n",
      "\n",
      "path_gamacats = '/data2/brouwer/MergedCatalogues'\n",
      "gamacatname = '%s/GAMACatalogue_1.0.fits'%path_gamacats\n",
      "shuffledcatname = '%s/shuffled_environment_S4_deltaR.fits'%path_gamacats\n",
      "path_results = 'results'\n",
      "\n",
      "rankmin = -999\n",
      "#rankmax = 2\n",
      "rankmax = inf\n",
      "\n",
      "shuffled = True"
     ],
     "language": "python",
     "metadata": {},
     "outputs": [
      {
       "output_type": "stream",
       "stream": "stderr",
       "text": [
        "WARNING: AstropyDeprecationWarning: Config parameter 'name_resolve_timeout' in section [coordinates.name_resolve] of the file '/home/brouwer/.astropy/config/astropy.cfg' is deprecated. Use 'remote_timeout' in section [config.configuration] instead. [astropy.config.configuration]\n",
        "WARNING:astropy:AstropyDeprecationWarning: Config parameter 'name_resolve_timeout' in section [coordinates.name_resolve] of the file '/home/brouwer/.astropy/config/astropy.cfg' is deprecated. Use 'remote_timeout' in section [config.configuration] instead.\n"
       ]
      }
     ],
     "prompt_number": 1
    },
    {
     "cell_type": "code",
     "collapsed": false,
     "input": [
      "# Importing GAMA catalogue\n",
      "print 'Importing GAMA catalogue:', gamacatname\n",
      "gamacat = pyfits.open(gamacatname)[1].data\n",
      "shuffledcat = pyfits.open(shuffledcatname)[1].data\n",
      "\n",
      "galIDlist = gamacat['ID']\n",
      "\n",
      "# Importing angular seperation\n",
      "angseplist = gamacat['AngSep%s'%centering]\n",
      "angseplist[angseplist<=0] = 0.\n",
      "\n",
      "# Importing and correcting log(Mstar)\n",
      "logmstarlist = gamacat['logmstar']\n",
      "fluxscalelist = gamacat['fluxscale'] # Fluxscale, needed for stellar mass correction\n",
      "corr_list = np.log10(fluxscalelist)# - 2*np.log10(h/0.7)\n",
      "logmstarlist = logmstarlist + corr_list\n",
      "ranklist = gamacat['rankBCG']\n",
      "\n",
      "# Applying a mask to the galaxies\n",
      "obsmask = (fluxscalelist<500)&(logmstarlist>5) & (0 <= gamacat['envS4'])&(gamacat['envS4'] < 4) & \\\n",
      "                                                    (rankmin <= ranklist)&(ranklist < rankmax)\n",
      "#obsmask = (fluxscalelist<500)&(logmstarlist>5) & (rankmin <= ranklist)&(ranklist < rankmax)\n",
      "\n",
      "logmstarlist = logmstarlist[obsmask]\n",
      "mstarlist = 10**logmstarlist\n",
      "angseplist = angseplist[obsmask]\n",
      "\n",
      "zlist = gamacat['Z'][obsmask]\n",
      "ranklist = gamacat['rank%s'%centering][obsmask]\n",
      "\n",
      "if not shuffled:\n",
      "    # Importing the real environment\n",
      "    envlist = gamacat['envS4'][obsmask]\n",
      "else:\n",
      "    # Importing the shuffled environment\n",
      "    envlist = shuffledcat['shuffenvR4'][obsmask]\n",
      "    \n",
      "print 'Imported: %i of %i galaxies (%g percent)'%(len(logmstarlist), len(galIDlist), \\\n",
      "                                    float(len(logmstarlist))/float(len(galIDlist))*100.)"
     ],
     "language": "python",
     "metadata": {},
     "outputs": [
      {
       "output_type": "stream",
       "stream": "stdout",
       "text": [
        "Importing GAMA catalogue: /data2/brouwer/MergedCatalogues/GAMACatalogue_1.0.fits\n",
        "Imported: 113064 of 180960 galaxies (62.4801 percent)"
       ]
      },
      {
       "output_type": "stream",
       "stream": "stdout",
       "text": [
        "\n"
       ]
      },
      {
       "output_type": "stream",
       "stream": "stderr",
       "text": [
        "-c:20: RuntimeWarning: invalid value encountered in greater_equal\n",
        "-c:20: RuntimeWarning: invalid value encountered in less\n"
       ]
      }
     ],
     "prompt_number": 2
    },
    {
     "cell_type": "code",
     "collapsed": false,
     "input": [
      "# Creating the log(Mstar) histogram (needed for the mstarweight)\n",
      "\n",
      "nbins = 100\n",
      "logmstarbins, logmstarhists, logmstarhistcens = \\\n",
      "envutils.create_histogram('log(Mstar)', logmstarlist, nbins, envnames, envlist, 'lin', False, False)"
     ],
     "language": "python",
     "metadata": {},
     "outputs": [
      {
       "metadata": {},
       "output_type": "display_data",
       "text": [
        "<matplotlib.figure.Figure at 0x7ff6ad4f6810>"
       ]
      }
     ],
     "prompt_number": 4
    },
    {
     "cell_type": "code",
     "collapsed": false,
     "input": [
      "# Creating the logmstar weights for each lens\n",
      "\n",
      "# Create the average histogram\n",
      "avhist = np.mean(logmstarhists, 0)\n",
      "\n",
      "# Calculate the weight for each logmstar bin\n",
      "weighthists = avhist/logmstarhists\n",
      "weighthists[np.logical_not(np.isfinite(weighthists))] = 0\n",
      "\n",
      "#####################\n",
      "\n",
      "# Show results\n",
      "plt.figure(1, figsize=(7, 5))\n",
      "plt.plot(logmstarhistcens, avhist, '', ls='-', label='Average')\n",
      "\n",
      "for env in xrange(len(envnames)):\n",
      "    plt.plot(logmstarhistcens, logmstarhists[env], '', ls='--', label=envnames[env])\n",
      "\n",
      "#plt.xscale('log')\n",
      "#plt.yscale('log')\n",
      "plt.legend(fontsize=15)\n",
      "\n",
      "xlabel = 'log(M$_*$)'\n",
      "ylabel = 'Number of galaxies'\n",
      "\n",
      "plt.ylabel(r'%s'%ylabel,fontsize=15)\n",
      "plt.xlabel(r'%s'%xlabel,fontsize=15)\n",
      "\n",
      "histname = 'environment_logmstar_histogram'\n",
      "if shuffled:\n",
      "    histname = '%s_shuffled'%(histname)\n",
      "\n",
      "plotname = '%s.png'%histname\n",
      "\n",
      "plt.savefig(plotname, format='png')\n",
      "print 'Written: ESD profile plot:', plotname\n",
      "   \n",
      "plt.show()\n"
     ],
     "language": "python",
     "metadata": {},
     "outputs": [
      {
       "output_type": "stream",
       "stream": "stdout",
       "text": [
        "Written: ESD profile plot: environment_logmstar_histogram_shuffled.png\n"
       ]
      },
      {
       "output_type": "stream",
       "stream": "stderr",
       "text": [
        "-c:7: RuntimeWarning: divide by zero encountered in divide\n",
        "-c:7: RuntimeWarning: invalid value encountered in divide\n"
       ]
      },
      {
       "metadata": {},
       "output_type": "display_data",
       "png": "[encoded data removed]",
       "text": [
        "<matplotlib.figure.Figure at 0x7ff6a1361a90>"
       ]
      }
     ],
     "prompt_number": 5
    },
    {
     "cell_type": "code",
     "collapsed": false,
     "input": [
      "# Calculate the logmstar weight for each galaxy\n",
      "weightlist = np.zeros(len(logmstarlist)) # Length of the merged GAMA catalog\n",
      "\n",
      "for env in xrange(len(envnames)): # For each environment\n",
      "    envname = envnames[env]\n",
      "    envmask = (envlist == env) # Mask the lenses outside that environment\n",
      "    for b in xrange(nbins): # For each logmstar bin\n",
      "        binmask = (logmstarbins[b]<=logmstarlist) & (logmstarlist<logmstarbins[b+1]) # Mask the lenses outside that bin\n",
      "        totmask = envmask & binmask\n",
      "        weight = weighthists[env,b]\n",
      "        #print 'Env: %s, Bin: %i, Weight: %g'%(envname, b, weight)\n",
      "        weightlist[totmask] = weight"
     ],
     "language": "python",
     "metadata": {},
     "outputs": [],
     "prompt_number": 6
    },
    {
     "cell_type": "code",
     "collapsed": false,
     "input": [
      "# Print the logmstarweight to a fits file\n",
      "weightlist_tot = np.zeros(len(galIDlist))\n",
      "weightlist_tot[obsmask] = weightlist\n",
      "\n",
      "\n",
      "filename = '%s/mstarweight_rank%g-%g.fits'%(path_results, rankmin, rankmax)\n",
      "if shuffled:\n",
      "    filename = filename.replace('.fits', '_shuffled.fits')\n",
      "\n",
      "envutils.write_catalog(filename, galIDlist, ['mstarweight'], [weightlist_tot])\n"
     ],
     "language": "python",
     "metadata": {},
     "outputs": [
      {
       "output_type": "stream",
       "stream": "stdout",
       "text": [
        "Old catalog overwritten: results/mstarweight_rank-999-inf_shuffled.fits\n",
        "\n"
       ]
      },
      {
       "output_type": "stream",
       "stream": "stderr",
       "text": [
        "environment_utils.py:278: PyfitsDeprecationWarning: The new_table function is deprecated as of version 3.3 and may be removed in a future version.\n",
        "\n",
        "        Use :meth:`BinTableHDU.from_columns` for new BINARY tables or :meth:`TableHDU.from_columns` for new ASCII tables instead.\n",
        "  tbhdu = pyfits.new_table(cols)\n"
       ]
      }
     ],
     "prompt_number": 7
    },
    {
     "cell_type": "code",
     "collapsed": false,
     "input": [
      "logmstarbins, logmstarhists, logmstarhistcens = envutils.create_histogram('log(Mstar)',logmstarlist, nbins, envnames, envlist, 'lin', False, weightlist)"
     ],
     "language": "python",
     "metadata": {},
     "outputs": [
      {
       "output_type": "stream",
       "stream": "stdout",
       "text": [
        "The weights are: [ 1.38745704  1.5101432   1.09808102 ...,  1.38745704  1.23973607\n",
        "  1.23973607]\n",
        "The weights are:"
       ]
      },
      {
       "output_type": "stream",
       "stream": "stdout",
       "text": [
        " [ 0.75793931  0.72537688  0.75269179 ...,  0.71348921  0.67540323\n",
        "  0.72538048]\n",
        "The weights are: [ 0.68277903  0.64656469  0.65975104 ...,  0.6091339   0.68277903\n",
        "  0.76029412]\n",
        "The weights are: [ 2.79123711  1.76332853  2.79123711 ...,  1.96296296  2.08333333\n",
        "  2.12311321]\n"
       ]
      },
      {
       "metadata": {},
       "output_type": "display_data",
       "text": [
        "<matplotlib.figure.Figure at 0x7ff6d00b7650>"
       ]
      }
     ],
     "prompt_number": 8
    },
    {
     "cell_type": "code",
     "collapsed": false,
     "input": [
      "\n",
      "\n",
      "\n",
      "# Repeating AngSep and average quantity calculations for weighted galaxies"
     ],
     "language": "python",
     "metadata": {},
     "outputs": [],
     "prompt_number": 9
    },
    {
     "cell_type": "code",
     "collapsed": false,
     "input": [
      "# Calculating average redshift, log(M*) and satellite fraction of the lens samples (needed for halo model)\n",
      "\n",
      "if shuffled:\n",
      "    print 'For the shuffled environments:'\n",
      "else:\n",
      "    print 'For the cosmic environments:'\n",
      "print \n",
      "\n",
      "print 'Without logmstarweight:'\n",
      "zaverage, mstaraverage, fsat, fsatmax = envutils.calc_halomodel_input(envnames, envlist, ranklist, zlist, mstarlist, False)\n",
      "\n",
      "\n",
      "print\n",
      "print 'With logmstarweight:'\n",
      "zaverage, mstaraverage, fsat, fsatmax = envutils.calc_halomodel_input(envnames, envlist, ranklist, zlist, mstarlist, weightlist)"
     ],
     "language": "python",
     "metadata": {},
     "outputs": [
      {
       "output_type": "stream",
       "stream": "stdout",
       "text": [
        "For the shuffled environments:\n",
        "\n",
        "Without logmstarweight:\n",
        "              "
       ]
      },
      {
       "output_type": "stream",
       "stream": "stdout",
       "text": [
        " ['Void', 'Sheet', 'Filament', 'Knot']\n",
        "average(Z): 0.159465178847,0.165374845266,0.166763961315,0.165157705545,\n",
        "average(M*): 25900752896.0,33910110208.0,40459845632.0,44944990208.0,\n",
        "minimum fsat: 0.173710819009,0.249815673057,0.34990668517,0.484641638225,\n",
        "maximum fsat: 0.901718907988,0.868390562461,0.849308513184,0.842706633032,\n",
        "\n",
        "With logmstarweight:\n",
        "              "
       ]
      },
      {
       "output_type": "stream",
       "stream": "stdout",
       "text": [
        " ['Void', 'Sheet', 'Filament', 'Knot']\n",
        "average(Z): 0.16734804213,0.166364967823,0.163878411055,0.159499749541,\n",
        "average(M*): 34972590080.0,35479261184.0,35459248128.0,34972684288.0,\n",
        "minimum fsat: 0.165371286808,0.247706156471,0.353927850481,0.493276576856,\n",
        "maximum fsat: 0.878789757324,0.862324833333,0.860718139829,0.867364023433,\n"
       ]
      }
     ],
     "prompt_number": 10
    },
    {
     "cell_type": "code",
     "collapsed": false,
     "input": [
      "# Creating and printing the angular seperation histogram (needed for the halo model)\n",
      "\n",
      "nbins = 100\n",
      "angsepmask = ranklist>1\n",
      "\n",
      "for w in xrange(2):\n",
      "\n",
      "    filename = '%s/Angsephist_envS4_rank%g-%g'%(path_results, rankmin, rankmax)\n",
      "\n",
      "    if shuffled:\n",
      "        filename = '%s_%s'%(filename, 'shuffled')\n",
      "    \n",
      "    print\n",
      "    if w==0:\n",
      "        print 'Without logmstarweight:'\n",
      "        weight = False\n",
      "    else:\n",
      "        print 'With logmstarweight:'\n",
      "        weight = weightlist[angsepmask]\n",
      "        filename = '%s_%s'%(filename, 'mstarweight')\n",
      "        \n",
      "    angsepbins, angsephists, angsephistcens = \\\n",
      "    envutils.create_histogram('Angular separation (kpc)', \\\n",
      "                              angseplist[angsepmask], nbins, envnames, envlist[angsepmask], 'log', False, weight)\n",
      "    \n",
      "    # Printing the angular separation histogram to a file\n",
      "    datanames = ['AngSep%s center'%centering, 'Ngals (Voids)', 'Ngals (Sheets)', 'Ngals (Filaments)', 'Ngals (Knots)']\n",
      "    data = np.vstack([angsephistcens, angsephists])\n",
      "    \n",
      "    envutils.write_textfile('%s.txt'%filename, datanames, data)"
     ],
     "language": "python",
     "metadata": {},
     "outputs": [
      {
       "output_type": "stream",
       "stream": "stdout",
       "text": [
        "\n",
        "Without logmstarweight:\n",
        "Written:"
       ]
      },
      {
       "output_type": "stream",
       "stream": "stdout",
       "text": [
        " results/Angsephist_envS4_rank-999-inf_shuffled.txt\n",
        "\n",
        "With logmstarweight:\n",
        "The weights are:"
       ]
      },
      {
       "output_type": "stream",
       "stream": "stdout",
       "text": [
        " [ 1.5101432   1.54586331  1.5723115  ...,  1.09808102  1.2198647\n",
        "  1.21573107]\n",
        "The weights are: [ 0.67920748  0.75615836  0.77995539 ...,  0.71034483  0.7125      0.72538048]\n",
        "The weights are: [ 0.65975104  0.5933153   0.80021368 ...,  0.74347826  0.6091339\n",
        "  0.76029412]\n",
        "The weights are: [ 1.76332853  2.79123711  2.12311321 ...,  2.32932692  1.57648871\n",
        "  1.96296296]\n",
        "Written:"
       ]
      },
      {
       "output_type": "stream",
       "stream": "stdout",
       "text": [
        " results/Angsephist_envS4_rank-999-inf_shuffled_mstarweight.txt\n"
       ]
      },
      {
       "metadata": {},
       "output_type": "display_data",
       "text": [
        "<matplotlib.figure.Figure at 0x7ff6a12fbe90>"
       ]
      }
     ],
     "prompt_number": 11
    },
    {
     "cell_type": "code",
     "collapsed": false,
     "input": [],
     "language": "python",
     "metadata": {},
     "outputs": [],
     "prompt_number": 21
    },
    {
     "cell_type": "code",
     "collapsed": false,
     "input": [
      "\"\"\"\n",
      "# For Edo's project\n",
      "# Print the logmstar limit to a fits file\n",
      "\n",
      "mstarlimflag_tot = np.zeros(len(galIDlist))\n",
      "mstarlimlist_tot = np.ones(len(galIDlist))*-999.\n",
      "logmstarlist_tot = np.ones(len(galIDlist))*-999.\n",
      "\n",
      "logmstarlist_tot[obsmask] = logmstarlist\n",
      "\n",
      "mstarlimlist = 3.1 * (zlist - 0.025)**0.5 + 8.7\n",
      "mstarlimlist_tot[obsmask] = mstarlimlist\n",
      "\n",
      "mstarlimmask = (logmstarlist > mstarlimlist)\n",
      "mstarlimflag = np.zeros(len(mstarlist))\n",
      "mstarlimflag[mstarlimmask] = 1\n",
      "mstarlimflag_tot[obsmask] = mstarlimflag\n",
      "\n",
      "print float(np.sum(mstarlimflag_tot==1))/float(len(mstarlimflag_tot))\n",
      "\n",
      "filename = 'mstarlim.fits'\n",
      "\n",
      "envutils.write_catalog(filename, galIDlist, ['logmstar-corr', 'logmstarlim', 'logmstarflag'], [logmstarlist_tot, mstarlimlist_tot, mstarlimflag_tot])\n",
      "\"\"\""
     ],
     "language": "python",
     "metadata": {},
     "outputs": [
      {
       "metadata": {},
       "output_type": "pyout",
       "prompt_number": 11,
       "text": [
        "\"\\n# For Edo's project\\n# Print the logmstar limit to a fits file\\n\\nmstarlimflag_tot = np.zeros(len(galIDlist))\\nmstarlimlist_tot = np.ones(len(galIDlist))*-999.\\nlogmstarlist_tot = np.ones(len(galIDlist))*-999.\\n\\nlogmstarlist_tot[obsmask] = logmstarlist\\n\\nmstarlimlist = 3.1 * (zlist - 0.025)**0.5 + 8.7\\nmstarlimlist_tot[obsmask] = mstarlimlist\\n\\nmstarlimmask = (logmstarlist > mstarlimlist)\\nmstarlimflag = np.zeros(len(mstarlist))\\nmstarlimflag[mstarlimmask] = 1\\nmstarlimflag_tot[obsmask] = mstarlimflag\\n\\nprint float(np.sum(mstarlimflag_tot==1))/float(len(mstarlimflag_tot))\\n\\nfilename = 'mstarlim.fits'\\n\\nenvutils.write_catalog(filename, galIDlist, ['logmstar-corr', 'logmstarlim', 'logmstarflag'], [logmstarlist_tot, mstarlimlist_tot, mstarlimflag_tot])\\n\""
       ]
      }
     ],
     "prompt_number": 11
    },
    {
     "cell_type": "code",
     "collapsed": false,
     "input": [],
     "language": "python",
     "metadata": {},
     "outputs": [],
     "prompt_number": 22
    },
    {
     "cell_type": "code",
     "collapsed": false,
     "input": [],
     "language": "python",
     "metadata": {},
     "outputs": []
    }
   ],
   "metadata": {}
  }
 ]
}