{
 "cells": [
  {
   "cell_type": "markdown",
   "metadata": {},
   "source": [
    "# Coding up your own model"
   ]
  },
  {
   "cell_type": "markdown",
   "metadata": {},
   "source": [
    "With the new scheme, the pipeline can interpret any model passed to it, no matter the number of parameters or the ordering of the ingredients, provided that the configuration file is consistent with the model structure."
   ]
  },
  {
   "cell_type": "markdown",
   "metadata": {},
   "source": [
    "Several functional forms have been implemented in `kids_ggl_pipeline/helpers/functions.py`, including a double power law and a power law with both mass and redshift,"
   ]
  },
  {
   "cell_type": "markdown",
   "metadata": {},
   "source": [
    "$$\n",
    "\\log m_\\star = A + B\\log\\left(\\frac{M_\\mathrm{h}}{M_0}\\right) + C\\left(\\frac{1+z}{1+z_0}\\right)\\,.\n",
    "$$"
   ]
  },
  {
   "cell_type": "markdown",
   "metadata": {},
   "source": [
    "This function, as well as any other custom function, must include the halo mass as the first argument; all other arguments must be defined in the configuration file -- including the redshift, in this case. This would therefore require the central MOR section in the configuration file to look like"
   ]
  },
  {
   "cell_type": "markdown",
   "metadata": {},
   "source": [
    "```\n",
    "[hod/centrals/mor]\n",
    "name           powerlaw_mz\n",
    "z              array          0.188,0.195\n",
    "logM0          fixed          14\n",
    "z0             fixed          0.2\n",
    "A              uniform        10      16    12\n",
    "B              uniform        0       5     1\n",
    "C              uniform        -1      1     0\n",
    "```"
   ]
  },
  {
   "cell_type": "markdown",
   "metadata": {},
   "source": [
    "*The only condition is that the order of sections **must follow the order defined in the coded model**.*"
   ]
  },
  {
   "cell_type": "markdown",
   "metadata": {},
   "source": [
    "For the time being, additional scaling relations must be included in the file `kids_ggl_pipeline/halomodel/hod/relations.py`, and custom distributions for the scatter about this relation must be included in the file `kids_ggl_pipeline/halomodel/hod/scatter.py`. (This has the undesirable effect that this file, common to all users, might get clogged with trial-and-error attempts by various users, so please try to only push files with working models (and if you have a new working model, please push it!). We will implement the ability to input user-provided files in the future.)\n",
    "\n",
    "The user may use the generic functions and distributions located in `kids_ggl_pipeline/helpers/functions.py` and `kids_ggl_pipeline/helpers/distributions.py`. For instance, the Duffy et al. (2008) mass-concentration relation is implemented in `kids_ggl_pipeline/halomodel/concentration.py` as:"
   ]
  },
  {
   "cell_type": "code",
   "execution_count": null,
   "metadata": {},
   "outputs": [],
   "source": [
    "from kids_ggl_pipeline.helpers.functions import powerlaw_mz\n",
    "\n",
    "def duffy08_crit(M, z, f, h=1):\n",
    "    return f * powerlaw_mz(\n",
    "        M, z[:,newaxis], 12.301-log10(h), 0, 0.8267, -0.091, -0.44,\n",
    "        return_log=False)"
   ]
  },
  {
   "cell_type": "markdown",
   "metadata": {},
   "source": [
    "the `return_log` keyword argument allows the function to be automatically interpreted as being requested in linear or log space depending on how the observable was defined, with the help of the `logfunc` decorator found in `kids_ggl_pipeline/helpers/decorators.py`. For this to work correctly, the function (in this case `powerlaw_mz`) **must be defined in log-space**:"
   ]
  },
  {
   "cell_type": "code",
   "execution_count": null,
   "metadata": {},
   "outputs": [],
   "source": [
    "@logfunc\n",
    "def powerlaw_mz(M, z, logM0, z0, a, b, c, return_log=True):\n",
    "    return a + b*(log10(M)-logM0) + c*log10((1+z)/(1+z0))"
   ]
  }
 ],
 "metadata": {
  "kernelspec": {
   "display_name": "Python 3",
   "language": "python",
   "name": "python3"
  },
  "language_info": {
   "codemirror_mode": {
    "name": "ipython",
    "version": 3
   },
   "file_extension": ".py",
   "mimetype": "text/x-python",
   "name": "python",
   "nbconvert_exporter": "python",
   "pygments_lexer": "ipython3",
   "version": "3.6.0"
  }
 },
 "nbformat": 4,
 "nbformat_minor": 2
}
