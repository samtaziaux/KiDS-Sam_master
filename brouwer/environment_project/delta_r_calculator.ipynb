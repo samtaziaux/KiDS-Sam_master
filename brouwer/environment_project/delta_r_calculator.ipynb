{
 "metadata": {
  "name": ""
 },
 "nbformat": 3,
 "nbformat_minor": 0,
 "worksheets": [
  {
   "cells": [
    {
     "cell_type": "code",
     "collapsed": false,
     "input": [
      "#!/usr/bin/python\n",
      "\n",
      "\"Module to determine the local overdensity delta_r within a sphere of radius r.\"\n",
      "\n",
      "# Import the necessary libraries\n",
      "import sys\n",
      "sys.path.insert(0, '/data2/brouwer/shearprofile/KiDS-GGL/esd_production/')\n",
      "\n",
      "import pyfits\n",
      "import numpy as np\n",
      "import distance\n",
      "import os\n",
      "import time\n",
      "import shearcode_modules as shear\n",
      "import delta_r_utils as utils\n",
      "import gc\n",
      "from matplotlib import pyplot as plt\n",
      "\n",
      "import astropy.units as u\n",
      "from astropy.coordinates import SkyCoord  # High-level coordinates\n",
      "from astropy.coordinates import ICRS, Galactic, FK4, FK5  # Low-level frames\n",
      "from astropy.coordinates import Angle, Latitude, Longitude  # Angles\n",
      "from astropy.coordinates import search_around_sky\n",
      "\n",
      "%matplotlib inline\n",
      "\n",
      "# Important constants\n",
      "inf = np.inf # Infinity\n",
      "nan = np.nan # Not a number\n",
      "pi = np.pi # Pi\n",
      "\n",
      "purpose = 'shearcatalog'\n",
      "centering = 'None'\n",
      "\n",
      "O_matter = 0.25\n",
      "O_lambda = 1.-O_matter\n",
      "Ok = 0.\n",
      "h = 1."
     ],
     "language": "python",
     "metadata": {},
     "outputs": [
      {
       "output_type": "stream",
       "stream": "stderr",
       "text": [
        "WARNING: AstropyDeprecationWarning: Config parameter 'name_resolve_timeout' in section [coordinates.name_resolve] of the file '/home/brouwer/.astropy/config/astropy.cfg' is deprecated. Use 'remote_timeout' in section [config.configuration] instead. [astropy.config.configuration]\n",
        "WARNING:astropy:AstropyDeprecationWarning: Config parameter 'name_resolve_timeout' in section [coordinates.name_resolve] of the file '/home/brouwer/.astropy/config/astropy.cfg' is deprecated. Use 'remote_timeout' in section [config.configuration] instead.\n"
       ]
      }
     ],
     "prompt_number": 1
    },
    {
     "cell_type": "code",
     "collapsed": false,
     "input": [
      "# Importing the GAMA catalogue\n",
      "path_gamacat = '/data2/brouwer/MergedCatalogues/GAMACatalogue_1.0.fits'\n",
      "centering = 'None'\n",
      "purpose = 'shearcatalog'\n",
      "Ncat = 1\n",
      "Runit = 'kpc'\n",
      "lens_weights = {'None': ''}\n",
      "\n",
      "gamacat, galIDlist, galRAlist, galDEClist, galweightlist, galZlist, Dcllist, Dallist = \\\n",
      "shear.import_gamacat(path_gamacat, centering, purpose, Ncat, \\\n",
      "O_matter, O_lambda, Ok, h, Runit, lens_weights)\n",
      "\n",
      "galRAlist *= u.degree\n",
      "galDEClist *= u.degree\n",
      "Dcllist *= u.pc\n",
      "Dallist *= u.pc\n",
      "\n",
      "petrolist = gamacat['Rpetro2'] # petrosian magnitude of all galaxies\n",
      "nQlist = gamacat['nQ'] # nQ of all galaxies\n",
      "delta8list = gamacat['delta8']# delta8 of all galaxies\n",
      "complist = gamacat['Completeness'] # Completeness around all galaxies\n",
      "gmaglist = gamacat['absmag_g'] # g magnitude of all galaxies\n",
      "rmaglist = gamacat['absmag_r'] # r magnitude of all galaxies\n",
      "\n",
      "# Defining the color (g-r)0\n",
      "colorlist = gmaglist-rmaglist\n",
      "\n",
      "maglist = utils.calc_magnitude(galZlist, Dcllist, colorlist, petrolist)\n",
      "\n",
      "# Masking of unused lenses\n",
      "zmin = 0.039\n",
      "zmax = 0.263\n",
      "\n",
      "lensmask = (zmin<galZlist)&(galZlist<zmax)&(nQlist>=3)&(complist>0.8)\n",
      "DDPmask = (lensmask)&(-21.8<maglist)&(maglist<-20.1)\n",
      "\n",
      "# Mask all non-selected GAMA galaxies\n",
      "galIDs, galRAs, galDECs, galZs, Dcls, Dals, delta8s, comps = [lenslist[lensmask] \\\n",
      "for lenslist in [galIDlist, galRAlist, galDEClist, galZlist, Dcllist, Dallist, delta8list, complist]] \n",
      "\n",
      "# Mask all non-DDP GAMA galaxies\n",
      "DDP_IDs, DDP_RAs, DDP_DECs, DDP_Zs, DDP_Dcls, DDP_Dals = [lenslist[DDPmask] \\\n",
      "for lenslist in [galIDlist, galRAlist, galDEClist, galZlist, Dcllist, Dallist]] \n",
      "\n",
      "galcoords =  SkyCoord(ra=galRAs, dec=galDECs, distance=Dcls, frame='icrs')\n",
      "DDPcoords =  SkyCoord(ra=DDP_RAs, dec=DDP_DECs, distance=DDP_Dcls, frame='icrs')\n",
      "\n",
      "print\n",
      "print 'Number of galaxies:'\n",
      "print 'All (no cut):', len(galIDlist)\n",
      "print 'Used lenses:', len(galIDs)\n",
      "print 'Density Defining Population:', len(DDP_IDs)\n",
      "print"
     ],
     "language": "python",
     "metadata": {},
     "outputs": [
      {
       "output_type": "stream",
       "stream": "stdout",
       "text": [
        "Importing GAMA catalogue: /data2/brouwer/MergedCatalogues/GAMACatalogue_1.0.fits\n",
        "\n"
       ]
      },
      {
       "output_type": "stream",
       "stream": "stdout",
       "text": [
        "Number of galaxies:\n",
        "All (no cut): 180960\n",
        "Used lenses: 80795\n",
        "Density Defining Population: 33942\n",
        "\n"
       ]
      },
      {
       "output_type": "stream",
       "stream": "stderr",
       "text": [
        "-c:32: RuntimeWarning: invalid value encountered in greater\n",
        "-c:33: RuntimeWarning: invalid value encountered in greater\n",
        "-c:33: RuntimeWarning: invalid value encountered in less\n"
       ]
      }
     ],
     "prompt_number": 2
    },
    {
     "cell_type": "code",
     "collapsed": false,
     "input": [
      "# Import GAMA masks for completeness calculation\n",
      "path_gamamasks = ['/disks/shear10/GamaMasks/%smask08000.fits'%g for g in ['g09', 'g12', 'g15']]\n",
      "gamamasks = np.array([pyfits.open(path_gamamask, ignore_missing_end=True)['PRIMARY'].data for path_gamamask in path_gamamasks])\n",
      "gamamasks[gamamasks ==-2.] = 0.\n",
      "\n",
      "# Creating the RA and DEC coordinates of each GAMA field\n",
      "pixsize = 0.001\n",
      "\n",
      "print 'Importing GAMAmask:'\n",
      "print 'Old size:', np.shape(gamamasks)\n",
      "gapsize = pixsize/0.001\n",
      "\n",
      "gamaRAnums = np.arange(int(gapsize/2.), int(len(gamamasks[0])+gapsize/2), int(gapsize))\n",
      "gamaDECnums = np.arange(int(gapsize/2.), int(len(gamamasks[0,0])+gapsize/2), int(gapsize))\n",
      "#print gamaRAnums\n",
      "#print gamaDECnums\n",
      "                     \n",
      "gama1 = [[129., 141.], [-2.,3.]]\n",
      "gama2 = [[174., 186.], [-3.,2.]]\n",
      "gama3 = [[211.5, 223.5], [-2.,3.]]\n",
      "gamalims = np.array([gama1, gama2, gama3])\n",
      "\n",
      "gamamasks_small = np.zeros([len(gamalims), len(gamaRAnums), len(gamaDECnums)])\n",
      "\n",
      "for f in xrange(len(gamalims)):\n",
      "    for i in xrange(len(gamaRAnums)):\n",
      "        gamaRAnum = gamaRAnums[i]\n",
      "        gamamasks_small[f, i, :] = gamamasks[f, gamaRAnum, :][gamaDECnums]\n",
      "\n",
      "print 'New size:', np.shape(gamamasks_small)\n",
      "\n",
      "gamamasks = gamamasks_small\n",
      "gamamasks = np.reshape(gamamasks, [len(gamalims), np.size(gamamasks[0])])\n",
      "\n",
      "print 'Final shape:', np.shape(gamamasks)"
     ],
     "language": "python",
     "metadata": {},
     "outputs": [
      {
       "output_type": "stream",
       "stream": "stdout",
       "text": [
        "Importing GAMAmask:\n",
        "Old size: (3, 5000, 12000)\n",
        "New size:"
       ]
      },
      {
       "output_type": "stream",
       "stream": "stdout",
       "text": [
        " (3, 5000, 12000)\n",
        "Final shape:"
       ]
      },
      {
       "output_type": "stream",
       "stream": "stdout",
       "text": [
        " (3, 60000000)\n"
       ]
      }
     ],
     "prompt_number": 119
    },
    {
     "cell_type": "code",
     "collapsed": false,
     "input": [
      "# Calculating the sizes of the circle (in degree) for each lens, from Rmax (in Mpc)\n",
      "Rmax = np.arange(1,9)*u.Mpc # Maximum radius (in Mpc) around each lens\n",
      "x, y = np.meshgrid(Rmax, Dals.to(u.Mpc)) # Maximum angular separation (in degree) around each lens\n",
      "sepmax = np.degrees((x/y).value)\n",
      "x, y = [[],[]]\n",
      "\n",
      "# The complete size of the circle, to calculate the completeness\n",
      "complete = pi*sepmax**2*(1/pixsize**2)\n",
      "\n",
      "# This array will contain the value delta_r for each lens\n",
      "delta_rs = np.zeros(np.shape(sepmax))\n",
      "delta_r = np.ones([len(galIDlist), len(Rmax)])*-999\n",
      "\n",
      "\n",
      "print np.shape(delta_rs)\n",
      "print np.shape(delta_r)"
     ],
     "language": "python",
     "metadata": {},
     "outputs": [
      {
       "output_type": "stream",
       "stream": "stdout",
       "text": [
        "(80795, 8)\n",
        "(180960, 8)\n"
       ]
      }
     ],
     "prompt_number": 120
    },
    {
     "cell_type": "code",
     "collapsed": false,
     "input": [
      "# Calculating the volume and mean DDP density of GAMA\n",
      "gamavol = utils.calc_rho_mean(gamalims, O_matter, O_lambda, h)\n",
      "rho_mean = len(DDP_IDs)/gamavol\n",
      "\n",
      "print 'mean density', rho_mean"
     ],
     "language": "python",
     "metadata": {},
     "outputs": [
      {
       "output_type": "stream",
       "stream": "stdout",
       "text": [
        "GAMA volume: 6750000.0 (Mpc/h)^3\n",
        "mean density 0.00502844444444\n"
       ]
      }
     ],
     "prompt_number": 121
    },
    {
     "cell_type": "code",
     "collapsed": false,
     "input": [
      "for f in [0]: #xrange(len(gamalims)): # For each GAMA field ...\n",
      "    \n",
      "    print\n",
      "    print 'GAMA field %i:'%(f+1)\n",
      "    \n",
      "    gamacoords_field = utils.create_fieldcoords(gamalims, pixsize, f) # Create the coordinates of the GAMA mask\n",
      "\n",
      "    # Masking the lenses that are outside the field\n",
      "    galfieldmask = (gamalims[f, 0, 0] < galRAs.value) & (galRAs.value < gamalims[f, 0, 1]) \\\n",
      "    & (gamalims[f, 1, 0] < galDECs.value) & (galDECs.value < gamalims[f, 1, 1])\n",
      "    \n",
      "    # Masking the DDP galaxies that are outside the field\n",
      "    DDPfieldmask = (gamalims[f, 0, 0] < DDP_RAs.value) & (DDP_RAs.value < gamalims[f, 0, 1]) \\\n",
      "    & (gamalims[f, 1, 0] < DDP_DECs.value) & (DDP_DECs.value < gamalims[f, 1, 1])\n",
      "  \n",
      "    galcoords_field = galcoords[galfieldmask]\n",
      "    DDPcoords_field = DDPcoords[DDPfieldmask]\n",
      "    rho_field = np.zeros([np.sum(galfieldmask), len(Rmax)])\n",
      "\n",
      "    print '    Contains:', len(galIDs[galfieldmask]), 'galaxies'\n",
      "    \n",
      "    #print '    Galaxy coordinates:', galcoords_field\n",
      "    #print '    GAMA coordinates:', gamacoords_field\n",
      "\n",
      "#    plt.plot(galcoords[fieldmask].ra.deg, galcoords[fieldmask].dec.deg, '.')\n",
      "#    plt.show()\n",
      "    \n",
      "    #For each lens in this field ...\n",
      "    #Ngals = len(galcoords_field)\n",
      "    Ngals = 20\n",
      "    for g in xrange(Ngals):\n",
      "        \n",
      "        print 'Galaxy #%i:'%(g+1), float(g+1)/float(Ngals)*100., '%'\n",
      "        \n",
      "        # ... find the seperation with all GAMA coordinates and DDP galaxies\n",
      "        gamasep = (galcoords_field[g]).separation(gamacoords_field).deg\n",
      "        DDPsep = (galcoords_field[g]).separation_3d(DDPcoords_field).to('Mpc')\n",
      "        \n",
      "        # for each Rmax...\n",
      "        for R in xrange(len(Rmax)):\n",
      "    \n",
      "            # ... determine the gama coordinates that lie within the circle\n",
      "            gama_Rmask = gamasep < (sepmax[galfieldmask])[g, R]\n",
      "            comp = np.sum((gamamasks[f])[gama_Rmask])/((complete[galfieldmask])[g, R])\n",
      "            \n",
      "            # ... calculate the number density of DDP galaxies inside the sphere\n",
      "            sphere_size = (4./3.*pi*Rmax[R]**3)*comp\n",
      "            DDP_Rmask = DDPsep < Rmax[R]\n",
      "            if R == 7:\n",
      "                print 'Completeness:', comp\n",
      "            \n",
      "            # Calculate rho_r\n",
      "            rho_field[g, R] = (np.sum(DDP_Rmask)/sphere_size).value\n",
      "                        \n",
      "    delta_r_field = (rho_field-rho_mean)/rho_mean\n",
      "    delta_rs[galfieldmask] = delta_r_field\n",
      "    \n",
      "delta_r[lensmask] = delta_rs"
     ],
     "language": "python",
     "metadata": {},
     "outputs": [
      {
       "output_type": "stream",
       "stream": "stdout",
       "text": [
        "\n",
        "GAMA field 1:\n",
        "    Contains:"
       ]
      },
      {
       "ename": "KeyboardInterrupt",
       "evalue": "",
       "output_type": "pyerr",
       "traceback": [
        "\u001b[1;31m---------------------------------------------------------------------------\u001b[0m\n\u001b[1;31mKeyboardInterrupt\u001b[0m                         Traceback (most recent call last)",
        "\u001b[1;32m<ipython-input-122-3e7a7b6dd891>\u001b[0m in \u001b[0;36m<module>\u001b[1;34m()\u001b[0m\n\u001b[0;32m     32\u001b[0m \u001b[1;33m\u001b[0m\u001b[0m\n\u001b[0;32m     33\u001b[0m         \u001b[1;31m# ... find the seperation with all GAMA coordinates and DDP galaxies\u001b[0m\u001b[1;33m\u001b[0m\u001b[1;33m\u001b[0m\u001b[0m\n\u001b[1;32m---> 34\u001b[1;33m         \u001b[0mgamasep\u001b[0m \u001b[1;33m=\u001b[0m \u001b[1;33m(\u001b[0m\u001b[0mgalcoords_field\u001b[0m\u001b[1;33m[\u001b[0m\u001b[0mg\u001b[0m\u001b[1;33m]\u001b[0m\u001b[1;33m)\u001b[0m\u001b[1;33m.\u001b[0m\u001b[0mseparation\u001b[0m\u001b[1;33m(\u001b[0m\u001b[0mgamacoords_field\u001b[0m\u001b[1;33m)\u001b[0m\u001b[1;33m.\u001b[0m\u001b[0mdeg\u001b[0m\u001b[1;33m\u001b[0m\u001b[0m\n\u001b[0m\u001b[0;32m     35\u001b[0m         \u001b[0mDDPsep\u001b[0m \u001b[1;33m=\u001b[0m \u001b[1;33m(\u001b[0m\u001b[0mgalcoords_field\u001b[0m\u001b[1;33m[\u001b[0m\u001b[0mg\u001b[0m\u001b[1;33m]\u001b[0m\u001b[1;33m)\u001b[0m\u001b[1;33m.\u001b[0m\u001b[0mseparation_3d\u001b[0m\u001b[1;33m(\u001b[0m\u001b[0mDDPcoords_field\u001b[0m\u001b[1;33m)\u001b[0m\u001b[1;33m.\u001b[0m\u001b[0mto\u001b[0m\u001b[1;33m(\u001b[0m\u001b[1;34m'Mpc'\u001b[0m\u001b[1;33m)\u001b[0m\u001b[1;33m\u001b[0m\u001b[0m\n\u001b[0;32m     36\u001b[0m \u001b[1;33m\u001b[0m\u001b[0m\n",
        "\u001b[1;32m/software/local/lib64/python2.7/site-packages/astropy-1.0.1-py2.7-linux-x86_64.egg/astropy/coordinates/sky_coordinate.pyc\u001b[0m in \u001b[0;36mseparation\u001b[1;34m(self, other)\u001b[0m\n\u001b[0;32m    588\u001b[0m \u001b[1;33m\u001b[0m\u001b[0m\n\u001b[0;32m    589\u001b[0m         \u001b[1;31m# Get the separation as a Quantity, convert to Angle in degrees\u001b[0m\u001b[1;33m\u001b[0m\u001b[1;33m\u001b[0m\u001b[0m\n\u001b[1;32m--> 590\u001b[1;33m         \u001b[0msep\u001b[0m \u001b[1;33m=\u001b[0m \u001b[0mangular_separation\u001b[0m\u001b[1;33m(\u001b[0m\u001b[0mlon1\u001b[0m\u001b[1;33m,\u001b[0m \u001b[0mlat1\u001b[0m\u001b[1;33m,\u001b[0m \u001b[0mlon2\u001b[0m\u001b[1;33m,\u001b[0m \u001b[0mlat2\u001b[0m\u001b[1;33m)\u001b[0m\u001b[1;33m\u001b[0m\u001b[0m\n\u001b[0m\u001b[0;32m    591\u001b[0m         \u001b[1;32mreturn\u001b[0m \u001b[0mAngle\u001b[0m\u001b[1;33m(\u001b[0m\u001b[0msep\u001b[0m\u001b[1;33m,\u001b[0m \u001b[0munit\u001b[0m\u001b[1;33m=\u001b[0m\u001b[0mu\u001b[0m\u001b[1;33m.\u001b[0m\u001b[0mdegree\u001b[0m\u001b[1;33m)\u001b[0m\u001b[1;33m\u001b[0m\u001b[0m\n\u001b[0;32m    592\u001b[0m \u001b[1;33m\u001b[0m\u001b[0m\n",
        "\u001b[1;32m/software/local/lib64/python2.7/site-packages/astropy-1.0.1-py2.7-linux-x86_64.egg/astropy/coordinates/angle_utilities.pyc\u001b[0m in \u001b[0;36mangular_separation\u001b[1;34m(lon1, lat1, lon2, lat2)\u001b[0m\n\u001b[0;32m    649\u001b[0m \u001b[1;33m\u001b[0m\u001b[0m\n\u001b[0;32m    650\u001b[0m     \u001b[0msdlon\u001b[0m \u001b[1;33m=\u001b[0m \u001b[0mnp\u001b[0m\u001b[1;33m.\u001b[0m\u001b[0msin\u001b[0m\u001b[1;33m(\u001b[0m\u001b[0mlon2\u001b[0m \u001b[1;33m-\u001b[0m \u001b[0mlon1\u001b[0m\u001b[1;33m)\u001b[0m\u001b[1;33m\u001b[0m\u001b[0m\n\u001b[1;32m--> 651\u001b[1;33m     \u001b[0mcdlon\u001b[0m \u001b[1;33m=\u001b[0m \u001b[0mnp\u001b[0m\u001b[1;33m.\u001b[0m\u001b[0mcos\u001b[0m\u001b[1;33m(\u001b[0m\u001b[0mlon2\u001b[0m \u001b[1;33m-\u001b[0m \u001b[0mlon1\u001b[0m\u001b[1;33m)\u001b[0m\u001b[1;33m\u001b[0m\u001b[0m\n\u001b[0m\u001b[0;32m    652\u001b[0m     \u001b[0mslat1\u001b[0m \u001b[1;33m=\u001b[0m \u001b[0mnp\u001b[0m\u001b[1;33m.\u001b[0m\u001b[0msin\u001b[0m\u001b[1;33m(\u001b[0m\u001b[0mlat1\u001b[0m\u001b[1;33m)\u001b[0m\u001b[1;33m\u001b[0m\u001b[0m\n\u001b[0;32m    653\u001b[0m     \u001b[0mslat2\u001b[0m \u001b[1;33m=\u001b[0m \u001b[0mnp\u001b[0m\u001b[1;33m.\u001b[0m\u001b[0msin\u001b[0m\u001b[1;33m(\u001b[0m\u001b[0mlat2\u001b[0m\u001b[1;33m)\u001b[0m\u001b[1;33m\u001b[0m\u001b[0m\n",
        "\u001b[1;32m/software/local/lib64/python2.7/site-packages/astropy-1.0.1-py2.7-linux-x86_64.egg/astropy/units/quantity.pyc\u001b[0m in \u001b[0;36m__array_wrap__\u001b[1;34m(self, obj, context)\u001b[0m\n\u001b[0;32m    417\u001b[0m         \u001b[1;32mreturn\u001b[0m \u001b[0mresult\u001b[0m\u001b[1;33m\u001b[0m\u001b[0m\n\u001b[0;32m    418\u001b[0m \u001b[1;33m\u001b[0m\u001b[0m\n\u001b[1;32m--> 419\u001b[1;33m     \u001b[1;32mdef\u001b[0m \u001b[0m__array_wrap__\u001b[0m\u001b[1;33m(\u001b[0m\u001b[0mself\u001b[0m\u001b[1;33m,\u001b[0m \u001b[0mobj\u001b[0m\u001b[1;33m,\u001b[0m \u001b[0mcontext\u001b[0m\u001b[1;33m=\u001b[0m\u001b[0mNone\u001b[0m\u001b[1;33m)\u001b[0m\u001b[1;33m:\u001b[0m\u001b[1;33m\u001b[0m\u001b[0m\n\u001b[0m\u001b[0;32m    420\u001b[0m         \u001b[1;32mif\u001b[0m \u001b[0mcontext\u001b[0m \u001b[1;32mis\u001b[0m \u001b[0mNone\u001b[0m\u001b[1;33m:\u001b[0m\u001b[1;33m\u001b[0m\u001b[0m\n\u001b[0;32m    421\u001b[0m             \u001b[1;31m# Methods like .squeeze() created a new `ndarray` and then call\u001b[0m\u001b[1;33m\u001b[0m\u001b[1;33m\u001b[0m\u001b[0m\n",
        "\u001b[1;31mKeyboardInterrupt\u001b[0m: "
       ]
      },
      {
       "output_type": "stream",
       "stream": "stdout",
       "text": [
        " 24166 galaxies\n",
        "Galaxy #1: 5.0 %\n"
       ]
      }
     ],
     "prompt_number": 122
    },
    {
     "cell_type": "code",
     "collapsed": false,
     "input": [
      "print 'delta_r (Margot/Tamsyn), difference:'\n",
      "for g in xrange(Ngals):\n",
      "    print '%.5g      %.5g:     %.5g'%(delta_rs[:,7][g], delta8s[g], abs((delta_rs[:,7][g]-delta8s[g])/delta8s[g]))\n",
      "\n",
      "print\n",
      "print 'RMS difference:', np.sum((delta_rs[:,7][0:Ngals]-delta8s[0:Ngals])**2)\n",
      "\n",
      "print comps[0:Ngals]"
     ],
     "language": "python",
     "metadata": {},
     "outputs": [
      {
       "output_type": "stream",
       "stream": "stdout",
       "text": [
        "delta_r (Margot/Tamsyn), difference:\n",
        "0.85882      0.77768:     0.10433\n",
        "0.996      0.72147:     0.38053\n",
        "-0.87174      -0.72598:     0.20077\n",
        "-0.68617      -0.76774:     0.10624\n",
        "1.736      1.9562:     0.11258\n",
        "-0.16989      -0.1388:     0.22404\n",
        "1.943      2.123:     0.084772\n",
        "1.033      1.3471:     0.23322\n",
        "0.91758      1.1151:     0.17714\n",
        "1.9988      1.8298:     0.092376\n",
        "2.0035      1.7542:     0.14213\n",
        "0.73595      0.78446:     0.06184\n",
        "-0.39987      -0.46532:     0.14065\n",
        "1.4286      1.4208:     0.0054697\n",
        "-0.69293      -0.769:     0.09892\n",
        "1.0226      1.1751:     0.1298\n",
        "1.1187      1.0078:     0.11002\n",
        "0.84711      0.94832:     0.10673\n",
        "0.99812      1.1201:     0.10892\n",
        "-0.89471      -0.84529:     0.058462\n",
        "\n",
        "RMS difference: 0.495784798395\n",
        "[ 0.80863853  0.87899381  0.82831821  0.97722019  0.8957499   0.96636623\n",
        "  0.92059218  0.83808298  0.89425677  0.90902723  0.93397293  0.9751591\n",
        "  0.990511    0.96883515  0.982569    0.90437585  0.9797188   0.93197565\n",
        "  0.96351062  0.9780684 ]\n"
       ]
      }
     ],
     "prompt_number": 118
    },
    {
     "cell_type": "code",
     "collapsed": false,
     "input": [
      "#Ngal = 88.1e3\n",
      "#V_DDP = 6.75e6\n",
      "#rho_DDP = 5.35e-3\n",
      "#print rho_DDP*V_DDP\n",
      "\n",
      "\n",
      "filename = 'delta_r_new.txt'\n",
      "with open(filename, 'w') as file:\n",
      "    print >>file, '# galID     delta(R=1Mpc)     delta(R=2Mpc)     delta(R=3Mpc)     delta(R=4Mpc)     delta(R=5Mpc)     delta(R=6Mpc)     delta(R=7Mpc)     delta(R=8Mpc)'\n",
      "\n",
      "with open(filename, 'a') as file:\n",
      "    for g in xrange(len(galIDs)):\n",
      "        print >>file, '%.12g\t%.12g\t%.12g\t%.12g\t%.12g\t%.12g\t%.12g\t%.12g\t%.12g'%(galIDs[g], delta_r[g,0], delta_r[g,1], delta_r[g,2], delta_r[g,3], delta_r[g,4], delta_r[g,5], delta_r[g,6], delta_r[g,7])\n",
      "\n",
      "print 'Written: ESD profile data:', filename"
     ],
     "language": "python",
     "metadata": {},
     "outputs": [
      {
       "output_type": "stream",
       "stream": "stdout",
       "text": [
        "Written: ESD profile data: delta_r_new.txt\n"
       ]
      }
     ],
     "prompt_number": 28
    }
   ],
   "metadata": {}
  }
 ]
}