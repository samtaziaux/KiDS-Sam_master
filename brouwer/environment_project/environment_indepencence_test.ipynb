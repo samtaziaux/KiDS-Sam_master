{
 "cells": [
  {
   "cell_type": "code",
   "execution_count": 1,
   "metadata": {
    "collapsed": false
   },
   "outputs": [],
   "source": [
    "#!/usr/bin/python\n",
    "\n",
    "import numpy as np\n",
    "import pyfits\n",
    "import os\n",
    "import environment_utils as envutils\n",
    "from scipy.stats import chisquare\n",
    "import scipy\n",
    "from matplotlib import pyplot as plt\n",
    "%matplotlib inline\n",
    "\n",
    "from matplotlib import pyplot as plt\n",
    "from matplotlib.colors import LogNorm\n",
    "from matplotlib import gridspec\n",
    "from matplotlib import rc, rcParams\n",
    "\n",
    "# Make use of TeX\n",
    "rc('text',usetex=True)\n",
    "\n",
    "# Change all fonts to 'Computer Modern'\n",
    "rc('font',**{'family':'serif','serif':['Computer Modern']})"
   ]
  },
  {
   "cell_type": "code",
   "execution_count": 2,
   "metadata": {
    "collapsed": true
   },
   "outputs": [],
   "source": [
    "envnames = ['Void', 'Sheet', 'Filament', 'Knot']\n",
    "envcolors = ['red', 'green', 'blue', 'gold']\n",
    "\n",
    "esdnames = ['esd_total', 'esd_cen', 'esd_sat', 'esd_host', 'esd_2halo']\n",
    "esdcolors = ['black', 'blue', 'red', 'purple', 'green']\n",
    "\n",
    "massnames = ['Mcen', 'Msat', 'Mavg', 'fc_cen', 'A_2halo'] # With both free\n",
    "masscolors = ['blue', 'red', 'black', 'skyblue', 'green']\n",
    "\n",
    "plotlabels = ['Average ESD', 'Central', 'Satellite', 'Host', '2-halo term']\n",
    "masslabels = ['Mcen', 'Msat', 'Mavg', 'fc(cen)', 'A2h']\n",
    "\n",
    "#filename = '/disks/shear10/brouwer_veersemeer/mcmc_output/environment_mcmc_output_fc_A2halo_rankBCG1'\n",
    "filename = '/disks/shear10/brouwer_veersemeer/mcmc_output/environment_mcmc_output_fc_A2halo' # Free 2-halo, free fc\n",
    "\n",
    "burn = 10000\n",
    "#burn = 0"
   ]
  },
  {
   "cell_type": "code",
   "execution_count": 3,
   "metadata": {
    "collapsed": false
   },
   "outputs": [
    {
     "name": "stdout",
     "output_type": "stream",
     "text": [
      "Importing MCMC results: /disks/shear10/brouwer_veersemeer/mcmc_output/environment_mcmc_output_fc_A2halo.fits\n",
      "                   and: /disks/shear10/brouwer_veersemeer/mcmc_output/environment_mcmc_output_fc_A2halo.hdr\n",
      "Samples: Created = 50000, Burned = 10000, Used = 40000\n",
      "\n",
      "Input parameters: ['Mstar' 'fc_sat' 'fsat' 'zgal']\n",
      "Imported ESD profiles: 4\n"
     ]
    }
   ],
   "source": [
    "# Import MCMC results\n",
    "mcmc, end, mcmcname, headername, mcmcmask = envutils.import_mcmc(filename, burn)\n",
    "print 'Samples: Created = %i, Burned = %i, Used = %i'%(end, burn, len(mcmc['Mcen1']))\n",
    "print\n",
    "\n",
    "# Import ESD profiles\n",
    "esdfiles, covfile, inputparams, acfrac = envutils.read_header(headername)\n",
    "print 'Input parameters:', np.sort(inputparams.keys())\n",
    "\n",
    "# Importing the ESD profiles\n",
    "data_x, data_y, error_h, error_l = envutils.read_esdfiles(esdfiles)\n"
   ]
  },
  {
   "cell_type": "code",
   "execution_count": 4,
   "metadata": {
    "collapsed": false
   },
   "outputs": [
    {
     "name": "stdout",
     "output_type": "stream",
     "text": [
      "Written: ESD profile plot: /disks/shear10/brouwer_veersemeer/mcmc_output/environment_mcmc_output_fc_A2halo.pdf\n"
     ]
    },
    {
     "name": "stderr",
     "output_type": "stream",
     "text": [
      "/usr/lib64/python2.7/site-packages/matplotlib/axes/_axes.py:475: UserWarning: No labelled objects found. Use label='...' kwarg on individual plots.\n",
      "  warnings.warn(\"No labelled objects found. \"\n"
     ]
    },
    {
     "data": {
      "image/png": "[encoded data removed]",
      "text/plain": [
       "<matplotlib.figure.Figure at 0x7f01445a6fd0>"
      ]
     },
     "metadata": {},
     "output_type": "display_data"
    }
   ],
   "source": [
    "# Create a plot of the ESD profiles and halo model fit\n",
    "\n",
    "# Define the labels for the plot\n",
    "h=1\n",
    "xlabel = r'radius R [kpc/h$_{%g}$]'%(h*100)\n",
    "ylabel = r'ESD $\\langle\\Delta\\Sigma\\rangle$ [h$_{%g}$ M$_{\\odot}$/pc$^2$]'%(h*100)\n",
    "\n",
    "Nrows = 2\n",
    "Ncolumns = 2\n",
    "\n",
    "for env in xrange(len(envnames)):\n",
    "\n",
    "    plt.figure(1, figsize=(10, 5))\n",
    "    Nsubplot = 100*Nrows+10*Ncolumns+(env+1)\n",
    "    plt.subplot(Nsubplot)\n",
    "        \n",
    "    # Plot the ESD profile\n",
    "    (error_l[env])[(error_l[env])>=data_y[env]] = ((data_y[env][(error_l[env])>=data_y[env]])*0.9999999999)\n",
    "    plt.errorbar(data_x, data_y[env], yerr=[error_l[env], error_h[env]], ls='', marker='o', color = 'blue')\n",
    "    plt.ylabel(r'%s'%ylabel,fontsize=15)\n",
    "    plt.xlabel(r'%s'%xlabel,fontsize=15)\n",
    "    \n",
    "    plt.title(envnames[env], fontsize=20, x = 0.1, y = 0.9)\n",
    "\n",
    "    \n",
    "    #plt.tick_params(axis='both', which='major', labelsize=16)\n",
    "    plt.xscale('log', fontsize=15)\n",
    "    plt.yscale('log', fontsize=15)\n",
    "            \n",
    "    plt.autoscale(enable=False, axis='both', tight=None)\n",
    "    plt.axis([2e1,2e3,1e-1,1e3])\n",
    "    plt.ylim(1e-1,1e3)\n",
    "        \n",
    "    plt.legend(fontsize=15)\n",
    "\n",
    "\n",
    "#plt.show()\n",
    "\n",
    "plotname = '%s.pdf'%filename\n",
    "\n",
    "plt.savefig(plotname, format='pdf')\n",
    "print 'Written: ESD profile plot:', plotname\n",
    "\n",
    "#plt.clf\n"
   ]
  },
  {
   "cell_type": "code",
   "execution_count": 5,
   "metadata": {
    "collapsed": false,
    "scrolled": false
   },
   "outputs": [
    {
     "name": "stdout",
     "output_type": "stream",
     "text": [
      "0\n",
      "1\n",
      "2\n",
      "3\n"
     ]
    },
    {
     "data": {
      "image/png": "[encoded data removed]",
      "text/plain": [
       "<matplotlib.figure.Figure at 0x7f014010a910>"
      ]
     },
     "metadata": {},
     "output_type": "display_data"
    }
   ],
   "source": [
    "from matplotlib import gridspec\n",
    "from matplotlib.backends.backend_agg import FigureCanvasAgg as FigureCanvas\n",
    "\n",
    "# Define the labels for the plot\n",
    "h=1\n",
    "xlabel = r'radius R [kpc/h$_{%g}$]'%(h*100)\n",
    "ylabel = r'ESD $\\langle\\Delta\\Sigma\\rangle$ [h$_{%g}$ M$_{\\odot}$/pc$^2$]'%(h*100)\n",
    "\n",
    "Nrows = 2\n",
    "Ncolumns = 2\n",
    "\n",
    "# Plotting the ueber matrix\n",
    "fig = plt.figure(figsize=(10,8))\n",
    "canvas = FigureCanvas(fig)\n",
    "\n",
    "gs_full = gridspec.GridSpec(1,1)\n",
    "gs = gridspec.GridSpecFromSubplotSpec(Nrows, Ncolumns, wspace=0, hspace=0, subplot_spec=gs_full[0,0])\n",
    "\n",
    "ax = fig.add_subplot(gs_full[0,0])\n",
    "\n",
    "for N1 in xrange(Nrows):\n",
    "    for N2 in xrange(Ncolumns):\n",
    "        \n",
    "        env = N1*Nrows + N2\n",
    "        print env\n",
    "        \n",
    "        (error_l[env])[(error_l[env])>=data_y[env]] = ((data_y[env][(error_l[env])>=data_y[env]])*0.9999999999)\n",
    "\n",
    "        ax_sub = fig.add_subplot(gs[N1, N2])\n",
    "        ax_sub.errorbar(data_x, data_y[env], yerr=[error_l[env], error_h[env]], ls='', marker='.', color = 'blue')\n",
    "\n",
    "        ax_sub.xaxis.set_label_position('top')\n",
    "        ax_sub.yaxis.set_label_position('right')\n",
    "\n",
    "        ax.tick_params(labelleft='off', labelbottom='off', top='off', bottom='off', left='off', right='off')\n",
    "                \n",
    "        if N2 != 0:\n",
    "            ax_sub.tick_params(axis='y', labelleft='off')\n",
    "        if N2 == Ncolumns-1:\n",
    "            ax_sub.set_xticks(np.arange(9.,12.,0.5))\n",
    "        else:\n",
    "            ax_sub.set_xticks(np.arange(9.,11.5,0.5))\n",
    "        \n",
    "        \n",
    "        plt.autoscale(enable=False, axis='both', tight=None)\n",
    "        plt.axis([2e1,2e3,1e-1,1e3])\n",
    "        plt.ylim(1e-1,1e3)\n",
    "        plt.xscale('log', fontsize=15)\n",
    "        plt.yscale('log', fontsize=15)\n",
    "        \n",
    "            \n",
    "        plt.title(envnames[env], fontsize=20, x = 0.15, y = 0.05)\n",
    "        \n",
    "# Define the labels for the plot\n",
    "ax.set_xlabel(xlabel)\n",
    "ax.set_ylabel(ylabel)\n",
    "\n",
    "ax.xaxis.set_label_coords(0.5, -0.07)\n",
    "ax.yaxis.set_label_coords(-0.05, 0.5)\n",
    "\n",
    "ax.xaxis.label.set_size(17)\n",
    "ax.yaxis.label.set_size(17)\n",
    "\n"
   ]
  },
  {
   "cell_type": "code",
   "execution_count": 10,
   "metadata": {
    "collapsed": false
   },
   "outputs": [
    {
     "name": "stdout",
     "output_type": "stream",
     "text": [
      "0 1\n",
      "chi2: 8.81757600634 P(>chi2) 0.454281260102 Independent: False\n",
      "\n",
      "0 2\n",
      "chi2: 38.6003837066 P(>chi2) 1.35974206857e-05 Independent: True\n",
      "\n",
      "0 3\n",
      "chi2: 42.1479864378 P(>chi2) 3.08802908766e-06 Independent: True\n",
      "\n",
      "1 2\n",
      "chi2: 31.5402909765 P(>chi2) 0.000239034675534 Independent: True\n",
      "\n",
      "1 3\n",
      "chi2: 32.3724260823 P(>chi2) 0.000171660150092 Independent: True\n",
      "\n",
      "2 3\n",
      "chi2: 13.9115039851 P(>chi2) 0.125508209031 Independent: False\n",
      "\n"
     ]
    }
   ],
   "source": [
    "rmin = 0\n",
    "#rmin = 5\n",
    "#rmax = rmin + 5\n",
    "rmax = 10\n",
    "\n",
    "for i in np.arange(len(envnames)):\n",
    "    for j in np.arange(i+1, len(envnames)):\n",
    "        print i, j\n",
    "        \n",
    "        chi2 = np.sum((data_y[i,rmin:rmax] - data_y[j,rmin:rmax])**2 / (error_h[i,rmin:rmax]**2 + error_h[j,rmin:rmax]**2))\n",
    "        p = 1 - scipy.stats.chi2.cdf(chi2, 9)\n",
    "        print 'chi2:', chi2, 'P(>chi2)', p, 'Independent:', p < 0.05\n",
    "        print\n",
    "#        obs = ((data_y[i] - data_y[j])**2)**0.5\n",
    "#        exp = (error_h[i]**2 + error_h[j]**2)**0.5\n",
    "        #chi2 = np.sum((obs - exp)**2 / exp)\n",
    "#        chi2 = np.sum(obs/exp)\n",
    "#        print 'Self:', chi2\n",
    "        \n",
    "#        chi2, p = chisquare(obs, f_exp=exp)\n",
    "#        print 'Python:', chi2, p, p < 0.05\n",
    "#        print\n"
   ]
  },
  {
   "cell_type": "code",
   "execution_count": null,
   "metadata": {
    "collapsed": false
   },
   "outputs": [],
   "source": []
  },
  {
   "cell_type": "code",
   "execution_count": null,
   "metadata": {
    "collapsed": false
   },
   "outputs": [],
   "source": []
  },
  {
   "cell_type": "code",
   "execution_count": 7,
   "metadata": {
    "collapsed": false
   },
   "outputs": [],
   "source": [
    "# A chi-squared probability of less than or equal to 0.05\n",
    "# is commonly interpreted as justification for rejecting the null hypothesis \n",
    "# that the row variable is independent of the column variable\n",
    "\n",
    "#p < 0.05 = not independent\n",
    "#p > 0.05 = independent"
   ]
  },
  {
   "cell_type": "code",
   "execution_count": null,
   "metadata": {
    "collapsed": false
   },
   "outputs": [],
   "source": []
  },
  {
   "cell_type": "code",
   "execution_count": null,
   "metadata": {
    "collapsed": true
   },
   "outputs": [],
   "source": []
  }
 ],
 "metadata": {
  "kernelspec": {
   "display_name": "Python 2",
   "language": "python",
   "name": "python2"
  },
  "language_info": {
   "codemirror_mode": {
    "name": "ipython",
    "version": 2
   },
   "file_extension": ".py",
   "mimetype": "text/x-python",
   "name": "python",
   "nbconvert_exporter": "python",
   "pygments_lexer": "ipython2",
   "version": "2.7.10"
  }
 },
 "nbformat": 4,
 "nbformat_minor": 0
}
