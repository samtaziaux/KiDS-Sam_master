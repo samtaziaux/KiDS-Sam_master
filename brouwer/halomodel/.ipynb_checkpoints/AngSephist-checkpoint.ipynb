{
 "metadata": {
  "name": ""
 },
 "nbformat": 3,
 "nbformat_minor": 0,
 "worksheets": [
  {
   "cells": [
    {
     "cell_type": "code",
     "collapsed": false,
     "input": [
      "#!/usr/bin/python\n",
      "\n",
      "import numpy as np\n",
      "import pyfits\n",
      "from matplotlib import pyplot as plt\n",
      "\n",
      "centering = 'BCG'\n",
      "envs = ['Void', 'Sheet', 'Filament', 'Knot']\n",
      "\n",
      "path_gamacats = '/data2/brouwer/MergedCatalogues'\n",
      "gamacatname = '%s/ShearMergedCatalogueAll_sv0.8_shuffdeltaR.fits'%path_gamacats\n"
     ],
     "language": "python",
     "metadata": {},
     "outputs": [],
     "prompt_number": 64
    },
    {
     "cell_type": "code",
     "collapsed": false,
     "input": [
      "print 'Importing GAMA catalogue:', gamacatname\n",
      "gamacat = pyfits.open(gamacatname)[1].data\n",
      "\n",
      "angseplist = gamacat['AngSep%s'%centering]\n",
      "angseplist[angseplist<=0] = 0.\n",
      "\n",
      "logmstarlist = gamacat['logmstar']\n",
      "fluxscalelist = gamacat['fluxscale'] # Fluxscale, needed for stellar mass correction\n",
      "corr_list = np.log10(fluxscalelist)# - 2*np.log10(h/0.7)\n",
      "logmstarlist = logmstarlist + corr_list\n",
      "mstarlist = 10**logmstarlist[fluxscalelist < 500]\n",
      "\n",
      "envlist = gamacat['envS4'][fluxscalelist < 500]\n",
      "zlist = gamacat['Z'][fluxscalelist < 500]\n",
      "\n",
      "print 'Mean corrected mstar:', np.mean(mstarlist)"
     ],
     "language": "python",
     "metadata": {},
     "outputs": [
      {
       "output_type": "stream",
       "stream": "stdout",
       "text": [
        "Importing GAMA catalogue: /data2/brouwer/MergedCatalogues/ShearMergedCatalogueAll_sv0.8_shuffdeltaR.fits\n",
        "Mean corrected mstar:"
       ]
      },
      {
       "output_type": "stream",
       "stream": "stdout",
       "text": [
        " 6.05604e+10\n"
       ]
      }
     ],
     "prompt_number": 65
    },
    {
     "cell_type": "code",
     "collapsed": false,
     "input": [
      "histvals, histbins = np.histogram(angseplist, 100)\n",
      "angsephists = {}\n",
      "\n",
      "for env in xrange(len(envs)):\n",
      "    envname = envs[env]\n",
      "    envmask = (envlist == env)\n",
      "    \n",
      "    histvals, histbins = np.histogram(angseplist[envmask], histbins)\n",
      "    histcens = np.array([(histbins[i]+histbins[i+1])/2 for i in xrange(len(histvals))])\n",
      "\n",
      "    angsephists[envname] = histvals\n",
      "    \n",
      "    zaverage = np.mean(zlist[envmask])\n",
      "    mstaraverage = np.mean(mstarlist[envmask])\n",
      "    \n",
      "    #print histbins, len(histbins)\n",
      "    #print histcens, len(histcens)\n",
      "\n",
      "    print '%s: mean(Z) = %g, mean(M*) = %g'%(envname, zaverage, mstaraverage)\n",
      "    print angsephists[envname]"
     ],
     "language": "python",
     "metadata": {},
     "outputs": [
      {
       "output_type": "stream",
       "stream": "stdout",
       "text": [
        "Void: mean(Z) = 0.210284, mean(M*) = 4.25394e+10\n",
        "[43765  1361  1210  1268  1240  1272  1229  1121   848   740   594   478\n",
        "   397   357   283   221   198   180   122   135    83    88    61    57\n",
        "    48    36    41    26    20    27    19    13    12    12     6    11\n",
        "    13     8    13     7     7     7     5     4     6     2     3     2\n",
        "     2     4     1     1     2     3     1     1     1     1     2     1\n",
        "     0     0     0     0     0     0     1     0     0     0     1     2\n",
        "     1     0     0     0     0     1     0     0     0     0     0     0\n",
        "     0     0     0     0     1     1     0     0     0     0     0     0\n",
        "     0     0     0     0]\n",
        "Sheet: mean(Z) = 0.232955, mean(M*) = 5.63205e+10\n",
        "[41546  1350  1277  1296  1243  1205  1203  1127   907   764   636   529\n",
        "   436   308   279   241   194   168   148   115   103    77    70    55\n",
        "    43    37    42    23    33    22    21    23    28     7    20    15\n",
        "     7     6     7     7     9     5     0     5     5     4     1     5\n",
        "     2     1     1     2     1     1     2     0     0     1     1     1\n",
        "     0     0     1     0     0     0     0     0     1     0     0     0\n",
        "     0     0     1     1     0     1     0     0     0     0     0     0\n",
        "     0     0     0     0     0     1     0     0     0     0     0     0\n",
        "     0     0     0     0]\n",
        "Filament: mean(Z) = 0.249876, mean(M*) = 6.83098e+10\n",
        "[29648   969   923   859   928   905   875   821   664   559   488   409\n",
        "   329   277   217   200   164   151   113   116    80    81    52    38\n",
        "    53    40    39    33    23    19    30    20    20    14    15     9\n",
        "    11    13     5    10     9     3     1     4     3     3     3     5\n",
        "     5     4     1     2     3     1     3     2     1     0     0     1\n",
        "     1     0     0     0     0     0     0     1     1     0     0     0\n",
        "     2     1     2     0     1     0     0     1     0     3     2     0\n",
        "     0     0     0     0     0     0     0     0     0     0     0     0\n",
        "     0     0     0     1]\n",
        "Knot: mean(Z) = 0.270485, mean(M*) = 8.72784e+10\n",
        "[6651  226  243  216  233  204  209  224  161  152  115   91   74   80   75\n",
        "   50   59   45   36   23   29   23   20   16   15   12   15    9    6    9\n",
        "    7    8    5   10    8    4    4    8    4    2    3    7    3    3    4\n",
        "    5    4    3    0    3    3    5    1    2    3    0    1    2    2    3\n",
        "    1    1    3    2    1    3    0    0    0    1    2    2    1    4    1\n",
        "    1    2    1    1    0    0    1    0    0    0    0    0    0    0    0\n",
        "    0    0    0    0    0    0    0    0    0    0]\n"
       ]
      }
     ],
     "prompt_number": 66
    },
    {
     "cell_type": "code",
     "collapsed": false,
     "input": [
      "plt.hist(angseplist, histbins)\n",
      "plt.xscale('log')\n",
      "plt.yscale('log')\n",
      "\n",
      "plt.show()\n",
      "plt.clf()"
     ],
     "language": "python",
     "metadata": {},
     "outputs": [],
     "prompt_number": "*"
    },
    {
     "cell_type": "code",
     "collapsed": false,
     "input": [
      "filename = 'Angsephist_envS4bin.txt'\n",
      "with open(filename, 'w') as file:\n",
      "    print >>file, '# AngSep%s center'%centering, '\t', 'Ngals (Voids)', '\t', 'Ngals (Sheets)', '\t', 'Ngals (Filaments)', '\t', 'Ngals (Knots)'\n",
      "\n",
      "with open(filename, 'a') as file:\n",
      "\tfor i in xrange(len(histcens)):\n",
      "\t\tprint >>file, histcens[i], '\t', angsephists['%s'%envs[0]][i], '\t', angsephists['%s'%envs[1]][i], '\t', angsephists['%s'%envs[2]][i], '\t', angsephists['%s'%envs[3]][i]\n",
      "\n",
      "\n",
      "print 'Written:', filename\n"
     ],
     "language": "python",
     "metadata": {},
     "outputs": [],
     "prompt_number": "*"
    },
    {
     "cell_type": "code",
     "collapsed": false,
     "input": [],
     "language": "python",
     "metadata": {},
     "outputs": []
    }
   ],
   "metadata": {}
  }
 ]
}