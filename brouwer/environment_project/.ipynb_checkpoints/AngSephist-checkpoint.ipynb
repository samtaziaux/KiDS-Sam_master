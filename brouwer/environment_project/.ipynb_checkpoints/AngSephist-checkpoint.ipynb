{
 "metadata": {
  "name": ""
 },
 "nbformat": 3,
 "nbformat_minor": 0,
 "worksheets": [
  {
   "cells": [
    {
     "cell_type": "code",
     "collapsed": false,
     "input": [
      "#!/usr/bin/python\n",
      "\n",
      "import numpy as np\n",
      "import pyfits\n",
      "import os\n",
      "from matplotlib import pyplot as plt\n",
      "import delta_r_utils as utils\n",
      "import environment_utils as envutils\n",
      "\n",
      "%matplotlib inline\n",
      "from matplotlib import pyplot as plt\n",
      "from matplotlib.colors import LogNorm\n",
      "from matplotlib import gridspec\n",
      "from matplotlib import rc, rcParams\n",
      "\n",
      "# Make use of TeX\n",
      "rc('text',usetex=True)\n",
      "\n",
      "# Change all fonts to 'Computer Modern'\n",
      "rc('font',**{'family':'serif','serif':['Computer Modern']})\n",
      "\n",
      "\n",
      "centering = 'BCG'\n",
      "envnames = ['Void', 'Sheet', 'Filament', 'Knot']\n",
      "\n",
      "path_gamacats = '/data2/brouwer/MergedCatalogues'\n",
      "gamacatname = '%s/GAMACatalogue_1.0.fits'%path_gamacats\n",
      "shuffledcatname = '%s/shuffled_environment_S4_deltaR.fits'%path_gamacats\n",
      "\n",
      "shuffled = False"
     ],
     "language": "python",
     "metadata": {},
     "outputs": [],
     "prompt_number": 11
    },
    {
     "cell_type": "code",
     "collapsed": false,
     "input": [
      "# Importing GAMA catalogue\n",
      "print 'Importing GAMA catalogue:', gamacatname\n",
      "gamacat = pyfits.open(gamacatname)[1].data\n",
      "shuffledcat = pyfits.open(shuffledcatname)[1].data\n",
      "\n",
      "galIDlist = gamacat['ID']\n",
      "\n",
      "# Importing angular seperation\n",
      "angseplist = gamacat['AngSep%s'%centering]\n",
      "angseplist[angseplist<=0] = 0.\n",
      "\n",
      "# Importing and correcting log(Mstar)\n",
      "logmstarlist = gamacat['logmstar']\n",
      "fluxscalelist = gamacat['fluxscale'] # Fluxscale, needed for stellar mass correction\n",
      "corr_list = np.log10(fluxscalelist)# - 2*np.log10(h/0.7)\n",
      "logmstarlist = logmstarlist + corr_list\n",
      "\n",
      "# Applying a mask to the galaxies\n",
      "obsmask = (fluxscalelist<500)&(logmstarlist>5)\n",
      "\n",
      "logmstarlist = logmstarlist[obsmask]\n",
      "mstarlist = 10**logmstarlist\n",
      "angseplist = angseplist[obsmask]\n",
      "\n",
      "zlist = gamacat['Z'][obsmask]\n",
      "ranklist = gamacat['rank%s'%centering][obsmask]\n",
      "\n",
      "if not shuffled:\n",
      "    # Importing the real environment\n",
      "    envlist = gamacat['envS4'][obsmask]\n",
      "else:\n",
      "    # Importing the shuffled environment\n",
      "    envlist = shuffledcat['shuffenvR4'][obsmask]\n",
      "    \n",
      "print 'Imported: %i of %i galaxies'%(len(logmstarlist), len(galIDlist))"
     ],
     "language": "python",
     "metadata": {},
     "outputs": [
      {
       "output_type": "stream",
       "stream": "stdout",
       "text": [
        "Importing GAMA catalogue: /data2/brouwer/MergedCatalogues/GAMACatalogue_1.0.fits\n",
        "Imported: 180863 of 180960 galaxies"
       ]
      },
      {
       "output_type": "stream",
       "stream": "stdout",
       "text": [
        "\n"
       ]
      }
     ],
     "prompt_number": 12
    },
    {
     "cell_type": "code",
     "collapsed": false,
     "input": [
      "# Creating the log(Mstar) histogram (needed for the mstarweight)\n",
      "\n",
      "nbins = 100\n",
      "logmstarbins, logmstarhists, logmstarhistcens = \\\n",
      "envutils.create_histogram('log(Mstar)', logmstarlist, nbins, envnames, envlist, 'lin', False, False)"
     ],
     "language": "python",
     "metadata": {},
     "outputs": [
      {
       "metadata": {},
       "output_type": "display_data",
       "text": [
        "<matplotlib.figure.Figure at 0x7fb1321ae2d0>"
       ]
      }
     ],
     "prompt_number": 13
    },
    {
     "cell_type": "code",
     "collapsed": false,
     "input": [
      "# Creating the logmstar weights for each lens\n",
      "\n",
      "# Create the average histogram\n",
      "avhist = np.mean(logmstarhists, 0)\n",
      "\n",
      "# Calculate the weight for each logmstar bin\n",
      "weighthists = avhist/logmstarhists\n",
      "weighthists[np.logical_not(np.isfinite(weighthists))] = 0\n",
      "\n",
      "#####################\n",
      "\n",
      "# Show results\n",
      "plt.figure(1, figsize=(7, 5))\n",
      "plt.plot(logmstarhistcens, avhist, '', ls='-', label='Average')\n",
      "\n",
      "for env in xrange(len(envnames)):\n",
      "    plt.plot(logmstarhistcens, logmstarhists[env], '', ls='--', label=envnames[env])\n",
      "\n",
      "#plt.xscale('log')\n",
      "#plt.yscale('log')\n",
      "plt.legend(fontsize=15)\n",
      "\n",
      "xlabel = 'log(M$_*$)'\n",
      "ylabel = 'Number of galaxies'\n",
      "\n",
      "plt.ylabel(r'%s'%ylabel,fontsize=15)\n",
      "plt.xlabel(r'%s'%xlabel,fontsize=15)\n",
      "\n",
      "histname = 'environment_logmstar_histogram'\n",
      "if shuffled:\n",
      "    histname = '%s_shuffled'%(histname)\n",
      "\n",
      "plotname = '%s.png'%histname\n",
      "\n",
      "plt.savefig(plotname, format='png')\n",
      "print 'Written: ESD profile plot:', plotname\n",
      "   \n",
      "plt.show()\n"
     ],
     "language": "python",
     "metadata": {},
     "outputs": [
      {
       "output_type": "stream",
       "stream": "stdout",
       "text": [
        "Written: ESD profile plot: environment_logmstar_histogram.png\n"
       ]
      },
      {
       "metadata": {},
       "output_type": "display_data",
       "png": "[encoded data removed]",
       "text": [
        "<matplotlib.figure.Figure at 0x7fb13e118150>"
       ]
      }
     ],
     "prompt_number": 14
    },
    {
     "cell_type": "code",
     "collapsed": false,
     "input": [
      "# Calculate the logmstar weight for each galaxy\n",
      "weightlist = np.zeros(len(logmstarlist)) # Length of the merged GAMA catalog\n",
      "\n",
      "for env in xrange(len(envnames)): # For each environment\n",
      "    envname = envnames[env]\n",
      "    envmask = (envlist == env) # Mask the lenses outside that environment\n",
      "    for b in xrange(nbins): # For each logmstar bin\n",
      "        binmask = (logmstarbins[b]<=logmstarlist) & (logmstarlist<logmstarbins[b+1]) # Mask the lenses outside that bin\n",
      "        totmask = envmask & binmask\n",
      "        weight = weighthists[env,b]\n",
      "        #print 'Env: %s, Bin: %i, Weight: %g'%(envname, b, weight)\n",
      "        weightlist[totmask] = weight"
     ],
     "language": "python",
     "metadata": {},
     "outputs": [],
     "prompt_number": 15
    },
    {
     "cell_type": "code",
     "collapsed": false,
     "input": [
      "# Print the logmstarweight to a fits file\n",
      "weightlist_tot = np.zeros(len(galIDlist))\n",
      "weightlist_tot[obsmask] = weightlist\n",
      "\n",
      "\n",
      "filename = 'mstarweight.fits'\n",
      "if shuffled:\n",
      "    filename = filename.replace('.fits', '_shuffled.fits')\n",
      "\n",
      "envutils.write_catalog(filename, galIDlist, ['mstarweight'], [weightlist_tot])\n"
     ],
     "language": "python",
     "metadata": {},
     "outputs": [
      {
       "output_type": "stream",
       "stream": "stdout",
       "text": [
        "New catalog written: mstarweight.fits\n",
        "\n"
       ]
      }
     ],
     "prompt_number": 16
    },
    {
     "cell_type": "code",
     "collapsed": false,
     "input": [
      "logmstarbins, logmstarhists, logmstarhistcens = envutils.create_histogram('log(Mstar)',logmstarlist, nbins, envnames, envlist, 'lin', False, weightlist)"
     ],
     "language": "python",
     "metadata": {},
     "outputs": [
      {
       "output_type": "stream",
       "stream": "stdout",
       "text": [
        "The weights are: [ 0.64917184  0.69911504  0.62508815 ...,  0.8429187   0.8429187\n",
        "  0.69911504]\n",
        "The weights are:"
       ]
      },
      {
       "output_type": "stream",
       "stream": "stdout",
       "text": [
        " [ 0.6977314   0.72150997  0.68468616 ...,  0.74839154  0.7617773\n",
        "  0.83679039]\n",
        "The weights are: [ 0.93404789  1.24621212  0.77144351 ...,  1.16628289  1.1393532\n",
        "  1.23451327]\n",
        "The weights are: [ 3.60145548  5.2166065   5.00809935 ...,  1.40131579  5.80740181\n",
        "  5.80740181]\n"
       ]
      },
      {
       "metadata": {},
       "output_type": "display_data",
       "text": [
        "<matplotlib.figure.Figure at 0x7fb13e11fbd0>"
       ]
      }
     ],
     "prompt_number": 17
    },
    {
     "cell_type": "code",
     "collapsed": false,
     "input": [
      "\n",
      "\n",
      "\n",
      "# Repeating AngSep and average quantity calculations for weighted galaxies"
     ],
     "language": "python",
     "metadata": {},
     "outputs": [],
     "prompt_number": 18
    },
    {
     "cell_type": "code",
     "collapsed": false,
     "input": [
      "# Calculating average redshift, log(M*) and satellite fraction of the lens samples (needed for halo model)\n",
      "\n",
      "if shuffled:\n",
      "    print 'For the shuffled environments:'\n",
      "else:\n",
      "    print 'For the cosmic environments:'\n",
      "print \n",
      "\n",
      "print 'Without logmstarweight:'\n",
      "zaverage, mstaraverage, fsat = envutils.calc_halomodel_input(envnames, envlist, ranklist, zlist, mstarlist, False)\n",
      "\n",
      "\n",
      "print\n",
      "print 'With logmstarweight:'\n",
      "zaverage, mstaraverage, fsat = envutils.calc_halomodel_input(envnames, envlist, ranklist, zlist, mstarlist, weightlist)"
     ],
     "language": "python",
     "metadata": {},
     "outputs": [
      {
       "output_type": "stream",
       "stream": "stdout",
       "text": [
        "For the cosmic environments:\n",
        "\n",
        "Without logmstarweight:\n",
        "              "
       ]
      },
      {
       "output_type": "stream",
       "stream": "stdout",
       "text": [
        " ['Void', 'Sheet', 'Filament', 'Knot']\n",
        "average(Z): 0.21028624475,0.232955381274,0.249876379967,0.270485252142,\n",
        "average(M*): 42543083520.0,56320544768.0,68309807104.0,87278419968.0,\n",
        "satellite fraction: 0.186168276149,0.276373695461,0.374559444031,0.465666596239,\n",
        "\n",
        "With logmstarweight:\n",
        "              "
       ]
      },
      {
       "output_type": "stream",
       "stream": "stdout",
       "text": [
        " ['Void', 'Sheet', 'Filament', 'Knot']\n",
        "average(Z): 0.225087821484,0.229727998376,0.234642252326,0.237381249666,\n",
        "average(M*): 55105114112.0,55225294848.0,54820278272.0,53817425920.0,\n",
        "satellite fraction: 0.175581854256,0.275823814959,0.388882042383,0.500793164106,\n"
       ]
      }
     ],
     "prompt_number": 19
    },
    {
     "cell_type": "code",
     "collapsed": false,
     "input": [
      "\n",
      "# Creating and printing the angular seperation histogram (needed for the halo model)\n",
      "\n",
      "nbins = 100\n",
      "angsepmask = ranklist>1\n",
      "\n",
      "for w in xrange(2):\n",
      "\n",
      "    filename = 'Angsephist_envS4'\n",
      "\n",
      "    if shuffled:\n",
      "        filename = '%s-%s'%(filename, 'shuffled')\n",
      "    \n",
      "    print\n",
      "    if w==0:\n",
      "        print 'Without logmstarweight:'\n",
      "        weight = False\n",
      "    else:\n",
      "        print 'With logmstarweight:'\n",
      "        weight = weightlist[angsepmask]\n",
      "        filename = '%s_%s'%(filename, 'mstarweight')\n",
      "        \n",
      "    angsepbins, angsephists, angsephistcens = \\\n",
      "    envutils.create_histogram('Angular separation (kpc)', \\\n",
      "                              angseplist[angsepmask], nbins, envnames, envlist[angsepmask], 'log', False, weight)\n",
      "    \n",
      "    # Printing the angular separation histogram to a file\n",
      "    datanames = ['AngSep%s center'%centering, 'Ngals (Voids)', 'Ngals (Sheets)', 'Ngals (Filaments)', 'Ngals (Knots)']\n",
      "    data = np.vstack([angsephistcens, angsephists])\n",
      "    \n",
      "    envutils.write_textfile('%s.txt'%filename, datanames, data)"
     ],
     "language": "python",
     "metadata": {},
     "outputs": [
      {
       "output_type": "stream",
       "stream": "stdout",
       "text": [
        "\n",
        "Without logmstarweight:\n",
        "Written:"
       ]
      },
      {
       "output_type": "stream",
       "stream": "stdout",
       "text": [
        " Angsephist_envS4.txt\n",
        "\n",
        "With logmstarweight:\n",
        "The weights are:"
       ]
      },
      {
       "output_type": "stream",
       "stream": "stdout",
       "text": [
        " [ 0.67253066  0.71258451  0.80581473 ...,  0.69911504  0.60050505\n",
        "  0.71258451]\n",
        "The weights are: [ 0.6977314   0.68468616  0.68864896 ...,  0.78486151  0.72150997\n",
        "  0.74839154]\n",
        "The weights are: [ 1.23451327  1.24621212  0.92506168 ...,  0.77144351  1.21551724\n",
        "  1.23451327]\n",
        "The weights are: [ 3.60145548  5.2166065   5.00809935 ...,  2.53872633  2.53872633\n",
        "  3.3390538 ]\n",
        "Written:"
       ]
      },
      {
       "output_type": "stream",
       "stream": "stdout",
       "text": [
        " Angsephist_envS4_mstarweight.txt\n"
       ]
      },
      {
       "metadata": {},
       "output_type": "display_data",
       "text": [
        "<matplotlib.figure.Figure at 0x7fb13e103990>"
       ]
      }
     ],
     "prompt_number": 20
    },
    {
     "cell_type": "code",
     "collapsed": false,
     "input": [],
     "language": "python",
     "metadata": {},
     "outputs": []
    }
   ],
   "metadata": {}
  }
 ]
}