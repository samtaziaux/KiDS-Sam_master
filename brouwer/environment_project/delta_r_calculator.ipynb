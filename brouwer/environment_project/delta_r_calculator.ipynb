{
 "metadata": {
  "name": ""
 },
 "nbformat": 3,
 "nbformat_minor": 0,
 "worksheets": [
  {
   "cells": [
    {
     "cell_type": "code",
     "collapsed": false,
     "input": [
      "#!/usr/bin/python\n",
      "\n",
      "\"Module to determine the local overdensity delta_r within a sphere of radius r.\"\n",
      "\n",
      "# Import the necessary libraries\n",
      "import sys\n",
      "sys.path.insert(0, '/data2/brouwer/shearprofile/KiDS-GGL/esd_production/')\n",
      "\n",
      "import pyfits\n",
      "import numpy as np\n",
      "import distance\n",
      "import os\n",
      "import time\n",
      "import shearcode_modules as shear\n",
      "import delta_r_utils as utils\n",
      "import gc\n",
      "from matplotlib import pyplot as plt\n",
      "\n",
      "import astropy.units as u\n",
      "from astropy.coordinates import SkyCoord  # High-level coordinates\n",
      "from astropy.coordinates import ICRS, Galactic, FK4, FK5  # Low-level frames\n",
      "from astropy.coordinates import Angle, Latitude, Longitude  # Angles\n",
      "from astropy.coordinates import search_around_sky\n",
      "\n",
      "%matplotlib inline\n",
      "\n",
      "# Important constants\n",
      "inf = np.inf # Infinity\n",
      "nan = np.nan # Not a number\n",
      "pi = np.pi # Pi\n",
      "\n",
      "purpose = 'shearcatalog'\n",
      "centering = 'None'\n",
      "\n",
      "O_matter = 0.315\n",
      "O_lambda = 1.-O_matter\n",
      "Ok = 0.\n",
      "h = 1."
     ],
     "language": "python",
     "metadata": {},
     "outputs": [
      {
       "output_type": "stream",
       "stream": "stderr",
       "text": [
        "WARNING: AstropyDeprecationWarning: Config parameter 'name_resolve_timeout' in section [coordinates.name_resolve] of the file '/home/brouwer/.astropy/config/astropy.cfg' is deprecated. Use 'remote_timeout' in section [config.configuration] instead. [astropy.config.configuration]\n",
        "WARNING:astropy:AstropyDeprecationWarning: Config parameter 'name_resolve_timeout' in section [coordinates.name_resolve] of the file '/home/brouwer/.astropy/config/astropy.cfg' is deprecated. Use 'remote_timeout' in section [config.configuration] instead.\n"
       ]
      }
     ],
     "prompt_number": 1
    },
    {
     "cell_type": "code",
     "collapsed": false,
     "input": [
      "# Importing the GAMA catalogue\n",
      "path_gamacat = '/data2/brouwer/MergedCatalogues/GAMACatalogue_1.0.fits'\n",
      "centering = 'None'\n",
      "purpose = 'shearcatalog'\n",
      "Ncat = 1\n",
      "Runit = 'kpc'\n",
      "lens_weights = {'None': ''}\n",
      "\n",
      "gamacat, galIDlist, galRAlist, galDEClist, galweightlist, galZlist, Dcllist, Dallist = \\\n",
      "shear.import_gamacat(path_gamacat, centering, purpose, Ncat, \\\n",
      "O_matter, O_lambda, Ok, h, Runit, lens_weights)\n",
      "\n",
      "galRAlist *= u.degree\n",
      "galDEClist *= u.degree\n",
      "Dcllist *= u.pc\n",
      "Dallist *= u.pc\n",
      "\n",
      "petrolist = gamacat['Rpetro'] # petrosian magnitude of all galaxies\n",
      "nQlist = gamacat['nQ'] # nQ of all galaxies\n",
      "delta8list = gamacat['delta8']# delta8 of all galaxies\n",
      "complist = gamacat['Completeness'] # Completeness around all galaxies\n",
      "gmaglist = gamacat['absmag_g'] # g magnitude of all galaxies\n",
      "rmaglist = gamacat['absmag_r'] # r magnitude of all galaxies\n",
      "\n",
      "# Defining the color (g-r)0\n",
      "colorlist = gmaglist-rmaglist\n",
      "maglist = utils.calc_magnitude(galZlist, Dcllist, colorlist, petrolist)\n"
     ],
     "language": "python",
     "metadata": {},
     "outputs": [
      {
       "output_type": "stream",
       "stream": "stdout",
       "text": [
        "Importing GAMA catalogue: /data2/brouwer/MergedCatalogues/GAMACatalogue_1.0.fits\n"
       ]
      }
     ],
     "prompt_number": 2
    },
    {
     "cell_type": "code",
     "collapsed": false,
     "input": [
      "# Masking of unused lenses\n",
      "\n",
      "zmin = 0.039\n",
      "zmax = 0.263\n",
      "Dcmin = distance.comoving(zmin, O_matter, O_lambda, h)*u.pc\n",
      "Dcmax = distance.comoving(zmax, O_matter, O_lambda, h)*u.pc\n",
      "print 'Distance: Min    Max'\n",
      "print Dcmin, '  ', Dcmax, 'pc'\n",
      "\n",
      "lensmask = (zmin<galZlist)&(galZlist<zmax)#&(nQlist>=3)&(complist>0.8)\n",
      "DDPmask = (lensmask)&(-21.8<maglist)&(maglist<-20.1)\n",
      "\n",
      "# Mask all non-selected GAMA galaxies\n",
      "galIDs, galRAs, galDECs, galZs, Dcls, Dals, delta8s, comps = [lenslist[lensmask] \\\n",
      "for lenslist in [galIDlist, galRAlist, galDEClist, galZlist, Dcllist, Dallist, delta8list, complist]] \n",
      "\n",
      "# Mask all non-DDP GAMA galaxies\n",
      "DDP_IDs, DDP_RAs, DDP_DECs, DDP_Zs, DDP_Dcls, DDP_Dals = [lenslist[DDPmask] \\\n",
      "for lenslist in [galIDlist, galRAlist, galDEClist, galZlist, Dcllist, Dallist]] \n",
      "\n",
      "galcoords =  SkyCoord(ra=galRAs, dec=galDECs, distance=Dcls, frame='icrs')\n",
      "DDPcoords =  SkyCoord(ra=DDP_RAs, dec=DDP_DECs, distance=DDP_Dcls, frame='icrs')\n",
      "\n",
      "print\n",
      "print 'Number of galaxies:'\n",
      "print 'All (no cut):', len(galIDlist)\n",
      "print 'Used lenses:', len(galIDs)\n",
      "print 'Density Defining Population:', len(DDP_IDs)\n",
      "print"
     ],
     "language": "python",
     "metadata": {},
     "outputs": [
      {
       "output_type": "stream",
       "stream": "stdout",
       "text": [
        "Distance: Min    Max\n",
        "115834067.962 pc    737822087.932 pc pc\n",
        "\n"
       ]
      },
      {
       "output_type": "stream",
       "stream": "stdout",
       "text": [
        "Number of galaxies:\n",
        "All (no cut): 180960\n",
        "Used lenses: 113276\n",
        "Density Defining Population: 44317\n",
        "\n"
       ]
      }
     ],
     "prompt_number": 3
    },
    {
     "cell_type": "code",
     "collapsed": false,
     "input": [
      "# Import GAMA masks for completeness calculation\n",
      "path_gamamasks = ['/disks/shear10/GamaMasks/%smask08000.fits'%g for g in ['g09', 'g12', 'g15']]\n",
      "gamamasks = np.array([pyfits.open(path_gamamask, ignore_missing_end=True)['PRIMARY'].data for path_gamamask in path_gamamasks])\n",
      "gamamasks[gamamasks ==-2.] = 0.\n",
      "\n",
      "# Creating the RA and DEC coordinates of each GAMA field\n",
      "pixsize_coords = 0.01\n",
      "\n",
      "print 'Importing GAMAmask:'\n",
      "print 'Old size:', np.shape(gamamasks)\n",
      "gapsize = pixsize_coords/0.001\n",
      "\n",
      "gamaRAnums = np.arange(int(gapsize/2.), int(len(gamamasks[0])+gapsize/2), int(gapsize))\n",
      "gamaDECnums = np.arange(int(gapsize/2.), int(len(gamamasks[0,0])+gapsize/2), int(gapsize))\n",
      "#print gamaRAnums\n",
      "#print gamaDECnums\n",
      "                     \n",
      "gama1 = [[129., 141.], [-2.,3.]]\n",
      "gama2 = [[174., 186.], [-3.,2.]]\n",
      "gama3 = [[211.5, 223.5], [-2.,3.]]\n",
      "gamalims = np.array([gama1, gama2, gama3])\n",
      "\n",
      "gamamasks_small = np.zeros([len(gamalims), len(gamaRAnums), len(gamaDECnums)])\n",
      "\n",
      "for f in xrange(len(gamalims)):\n",
      "    for i in xrange(len(gamaRAnums)):\n",
      "        gamaRAnum = gamaRAnums[i]\n",
      "        gamamasks_small[f, i, :] = gamamasks[f, gamaRAnum, :][gamaDECnums]\n",
      "\n",
      "print 'New size:', np.shape(gamamasks_small)\n",
      "\n",
      "gamamasks = gamamasks_small\n",
      "gamamasks = np.reshape(gamamasks, [len(gamalims), np.size(gamamasks[0])])\n",
      "\n",
      "print 'Final shape:', np.shape(gamamasks)"
     ],
     "language": "python",
     "metadata": {},
     "outputs": [
      {
       "output_type": "stream",
       "stream": "stdout",
       "text": [
        "Importing GAMAmask:\n",
        "Old size: (3, 5000, 12000)\n",
        "New size: (3, 500, 1200)\n",
        "Final shape:"
       ]
      },
      {
       "output_type": "stream",
       "stream": "stdout",
       "text": [
        " (3, 600000)\n"
       ]
      }
     ],
     "prompt_number": 4
    },
    {
     "cell_type": "code",
     "collapsed": false,
     "input": [
      "# Calculating the sizes of the circle (in degree) for each lens, from Rmax (in Mpc)\n",
      "Rmax = np.arange(1,9)*u.Mpc # Maximum radius (in Mpc) around each lens\n",
      "Rmaxmesh, Dalsmesh = np.meshgrid(Rmax, Dals.to(u.Mpc)) # Maximum angular separation (in degree) around each lens\n",
      "sepmax = np.degrees((Rmaxmesh/Dalsmesh).value)\n",
      "\n",
      "# This array will contain the value delta_r for each lens\n",
      "delta_rs = np.zeros(np.shape(sepmax))\n",
      "delta_r = np.ones([len(galIDlist), len(Rmax)])*-999\n",
      "\n",
      "print np.shape(delta_rs)\n",
      "print np.shape(delta_r)"
     ],
     "language": "python",
     "metadata": {},
     "outputs": [
      {
       "output_type": "stream",
       "stream": "stdout",
       "text": [
        "(113276, 8)\n",
        "(180960, 8)\n"
       ]
      }
     ],
     "prompt_number": 5
    },
    {
     "cell_type": "code",
     "collapsed": false,
     "input": [
      "# The part of each sphere that lies above/below the redshift maximum/minimum, to calculate the completeness\n",
      "\n",
      "dDmax = (Dcmax - Dcls).to(u.Mpc)\n",
      "dDmin = (Dcls - Dcmin).to(u.Mpc)\n",
      "\n",
      "Rmaxmesh, dDmaxmesh = np.meshgrid(Rmax, dDmax)\n",
      "Rmaxmesh, dDminmesh = np.meshgrid(Rmax, dDmin)\n",
      "\n",
      "Dmaxmask = dDmaxmesh < Rmaxmesh\n",
      "Dminmask = dDminmesh < Rmaxmesh\n",
      "\n",
      "dDmesh = np.ones(np.shape(Dmaxmask)) * Rmaxmesh\n",
      "\n",
      "dDmesh[Dmaxmask] = dDmaxmesh[Dmaxmask]\n",
      "dDmesh[Dminmask] = dDminmesh[Dminmask]\n",
      "\n",
      "height = Rmaxmesh + dDmesh\n",
      "\n",
      "sphere = 4./3. * pi * Rmaxmesh**3.\n",
      "Vinside = (pi/3. * height**2.) * (3.*Rmaxmesh - height)\n",
      "distcomp = Vinside/sphere\n",
      "\n",
      "\n",
      "print (height/(2.*Rmaxmesh))#[Dmaxmask]\n",
      "\n",
      "print distcomp#[Dmaxmask]\n"
     ],
     "language": "python",
     "metadata": {},
     "outputs": [
      {
       "output_type": "stream",
       "stream": "stdout",
       "text": [
        "[[ 1.  1.  1. ...,  1.  1.  1.]\n",
        " [ 1.  1.  1. ...,  1.  1.  1.]\n",
        " [ 1.  1.  1. ...,  1.  1.  1.]\n",
        " ..., \n",
        " [ 1.  1.  1. ...,  1.  1.  1.]\n",
        " [ 1.  1.  1. ...,  1.  1.  1.]\n",
        " [ 1.  1.  1. ...,  1.  1.  1.]]\n",
        "[[ 1.  1.  1. ...,  1.  1.  1.]\n",
        " [ 1.  1.  1. ...,  1.  1.  1.]\n",
        " [ 1.  1.  1. ...,  1.  1.  1.]\n",
        " ..., \n",
        " [ 1.  1.  1. ...,  1.  1.  1.]\n",
        " [ 1.  1.  1. ...,  1.  1.  1.]\n",
        " [ 1.  1.  1. ...,  1.  1.  1.]]\n"
       ]
      }
     ],
     "prompt_number": 78
    },
    {
     "cell_type": "code",
     "collapsed": false,
     "input": [
      "# Calculating the volume and mean DDP density of GAMA\n",
      "gamavol = utils.calc_rho_mean(gamalims, O_matter, O_lambda, h)\n",
      "rho_mean = len(DDP_IDs)/gamavol\n",
      "\n",
      "print 'mean density', rho_mean"
     ],
     "language": "python",
     "metadata": {},
     "outputs": [
      {
       "output_type": "stream",
       "stream": "stdout",
       "text": [
        "GAMA volume: 6750000.0 (Mpc/h)^3\n",
        "mean density 0.00656548148148\n"
       ]
      }
     ],
     "prompt_number": 79
    },
    {
     "cell_type": "code",
     "collapsed": false,
     "input": [
      "# This array will contain the value delta_r for each lens\n",
      "delta_rs = np.zeros(np.shape(sepmax))\n",
      "delta_r = np.ones([len(galIDlist), len(Rmax)])*-999\n",
      "\n",
      "comp_rs = np.zeros(np.shape(sepmax))\n",
      "comp_r = np.ones([len(galIDlist), len(Rmax)])*-999\n",
      "\n",
      "print np.shape(delta_rs)\n",
      "print np.shape(delta_r)\n",
      "\n",
      "for f in [0]: #xrange(len(gamalims)): # For each GAMA field ...\n",
      "    \n",
      "    print\n",
      "    print 'GAMA field %i:'%(f+1)\n",
      "    \n",
      "    gridRAlims = gamalims[f, 0]\n",
      "    gridDEClims = gamalims[f, 1]\n",
      "    gamacoords_field = utils.create_gridcoords(gridRAlims, gridDEClims, pixsize_coords) # Create the coordinates of the GAMA mask\n",
      "\n",
      "    # Masking the lenses that are outside the field\n",
      "    galfieldmask = (gamalims[f, 0, 0] < galRAs.value) & (galRAs.value < gamalims[f, 0, 1]) \\\n",
      "    & (gamalims[f, 1, 0] < galDECs.value) & (galDECs.value < gamalims[f, 1, 1])\n",
      "    \n",
      "    # Masking the DDP galaxies that are outside the field\n",
      "    DDPfieldmask = (gamalims[f, 0, 0] < DDP_RAs.value) & (DDP_RAs.value < gamalims[f, 0, 1]) \\\n",
      "    & (gamalims[f, 1, 0] < DDP_DECs.value) & (DDP_DECs.value < gamalims[f, 1, 1])\n",
      "  \n",
      "    galcoords_field = galcoords[galfieldmask]\n",
      "    DDPcoords_field = DDPcoords[DDPfieldmask]\n",
      "    distcomp_field = distcomp[galfieldmask]\n",
      "    \n",
      "    rho_field = np.zeros([np.sum(galfieldmask), len(Rmax)])\n",
      "    comp_field = np.zeros([np.sum(galfieldmask), len(Rmax)])\n",
      "    \n",
      "    print '    Contains:', len(galIDs[galfieldmask]), 'galaxies'\n",
      "    \n",
      "    #print '    Galaxy coordinates:', galcoords_field\n",
      "    #print '    GAMA coordinates:', gamacoords_field\n",
      "\n",
      "#    plt.plot(galcoords[fieldmask].ra.deg, galcoords[fieldmask].dec.deg, '.')\n",
      "#    plt.show()\n",
      "    \n",
      "    #For each lens in this field ...\n",
      "    #Ngals = len(galcoords_field)\n",
      "    Ngals = 100\n",
      "    for g in xrange(Ngals):\n",
      "        \n",
      "        #if g % 100 == 0:\n",
      "        print 'Galaxy #%i:'%(g+1), float(g+1)/float(Ngals)*100., '%'\n",
      "        \n",
      "        # ... find the seperation with all GAMA coordinates and DDP galaxies\n",
      "        gamasep = (galcoords_field[g]).separation(gamacoords_field).deg\n",
      "        DDPsep = (galcoords_field[g]).separation_3d(DDPcoords_field).to('Mpc')\n",
      "        \n",
      "        # Create a test-grid to calculates the completeness\n",
      "        compgridRAlims = [galcoords_field[g].ra.deg - 5, galcoords_field[g].ra.deg + 5]\n",
      "        compgridDEClims = [galcoords_field[g].dec.deg - 5, galcoords_field[g].dec.deg + 5]\n",
      "        compgrid = utils.create_gridcoords(compgridRAlims, compgridDEClims, pixsize_coords)\n",
      "        \n",
      "        compgridsep = (galcoords_field[g]).separation(compgrid).deg\n",
      "        \n",
      "        # for each Rmax...\n",
      "        for R in xrange(len(Rmax)):\n",
      "    \n",
      "            # ... determine the gama coordinates that lie within the circle\n",
      "            gama_Rmask = gamasep < (sepmax[galfieldmask])[g, R]\n",
      "            compgrid_Rmask = compgridsep < (sepmax[galfieldmask])[g, R]\n",
      "\n",
      "            complete = np.sum(2*((sepmax[galfieldmask])[g, R]**2 - compgridsep[compgrid_Rmask]**2)**0.5)\n",
      "            \n",
      "            comp_field[g, R] = np.sum((gamamasks[f])[gama_Rmask] * \\\n",
      "                    2*((sepmax[galfieldmask])[g, R]**2 - gamasep[gama_Rmask]**2)**0.5) \\\n",
      "                    /complete\n",
      "            \n",
      "            if R==7:\n",
      "                print comps[g], comp_field[g, R]\n",
      "            \n",
      "            # ... calculate the number density of DDP galaxies inside the sphere\n",
      "            sphere_size = (4./3.*pi*Rmax[R]**3)*comp_field[g, R]*distcomp_field[g, R]\n",
      "            DDP_Rmask = DDPsep < Rmax[R]\n",
      "            \n",
      " #           print comp_field[g, R]\n",
      "            \n",
      "            # Calculate rho_r\n",
      "            rho_field[g, R] = (np.sum(DDP_Rmask)/sphere_size).value\n",
      "                        \n",
      "    delta_r_field = (rho_field-rho_mean)/rho_mean\n",
      "    delta_rs[galfieldmask] = delta_r_field\n",
      "    comp_rs[galfieldmask] = comp_field\n",
      "    \n",
      "delta_r[lensmask] = delta_rs\n",
      "comp_r[lensmask] = comp_rs"
     ],
     "language": "python",
     "metadata": {},
     "outputs": [
      {
       "output_type": "stream",
       "stream": "stdout",
       "text": [
        "(113276, 8)\n",
        "(180960, 8)\n",
        "\n",
        "GAMA field 1:\n",
        "    Contains:"
       ]
      },
      {
       "output_type": "stream",
       "stream": "stdout",
       "text": [
        " 34237 galaxies\n",
        "Galaxy #1: 1.0 %\n",
        "0.559809600648"
       ]
      },
      {
       "output_type": "stream",
       "stream": "stdout",
       "text": [
        " 0.527688936224\n",
        "Galaxy #2: 2.0 %\n",
        "0.650587012587"
       ]
      },
      {
       "output_type": "stream",
       "stream": "stdout",
       "text": [
        " 0.585195694912\n",
        "Galaxy #3: 3.0 %\n",
        "0.719539199669"
       ]
      },
      {
       "output_type": "stream",
       "stream": "stdout",
       "text": [
        " 0.599853270603\n",
        "Galaxy #4: 4.0 %\n",
        "0.632432931201"
       ]
      },
      {
       "output_type": "stream",
       "stream": "stdout",
       "text": [
        " 0.562650933919\n",
        "Galaxy #5: 5.0 %\n",
        "0.645241112467"
       ]
      },
      {
       "output_type": "stream",
       "stream": "stdout",
       "text": [
        " 0.62988709674\n",
        "Galaxy #6: 6.0 %\n",
        "0.549540972223"
       ]
      },
      {
       "output_type": "stream",
       "stream": "stdout",
       "text": [
        " 0.540179694206\n",
        "Galaxy #7: 7.0 %\n",
        "0.605306873074"
       ]
      },
      {
       "output_type": "stream",
       "stream": "stdout",
       "text": [
        " 0.555139692355\n",
        "Galaxy #8: 8.0 %\n",
        "0.612852421367"
       ]
      },
      {
       "output_type": "stream",
       "stream": "stdout",
       "text": [
        " 0.555403290542\n",
        "Galaxy #9: 9.0 %\n",
        "0.663411824249"
       ]
      },
      {
       "output_type": "stream",
       "stream": "stdout",
       "text": [
        " 0.57789247359\n",
        "Galaxy #10: 10.0 %\n",
        "0.635462657718"
       ]
      },
      {
       "output_type": "stream",
       "stream": "stdout",
       "text": [
        " 0.591516984892\n",
        "Galaxy #11: 11.0 %\n",
        "0.629811266553"
       ]
      },
      {
       "output_type": "stream",
       "stream": "stdout",
       "text": [
        " 0.562745191441\n",
        "Galaxy #12: 12.0 %\n",
        "0.606801676582"
       ]
      },
      {
       "output_type": "stream",
       "stream": "stdout",
       "text": [
        " 0.595888095228\n",
        "Galaxy #13: 13.0 %\n",
        "0.659975454983"
       ]
      },
      {
       "output_type": "stream",
       "stream": "stdout",
       "text": [
        " 0.539962651143\n",
        "Galaxy #14: 14.0 %\n",
        "0.735775690915"
       ]
      },
      {
       "output_type": "stream",
       "stream": "stdout",
       "text": [
        " 0.696262981012\n",
        "Galaxy #15: 15.0 %\n",
        "0.523901083461"
       ]
      },
      {
       "output_type": "stream",
       "stream": "stdout",
       "text": [
        " 0.522825294885\n",
        "Galaxy #16: 16.0 %\n",
        "nan"
       ]
      },
      {
       "output_type": "stream",
       "stream": "stdout",
       "text": [
        " 0.770265883842\n",
        "Galaxy #17: 17.0 %\n",
        "0.724643432635"
       ]
      },
      {
       "output_type": "stream",
       "stream": "stdout",
       "text": [
        " 0.696017135028\n",
        "Galaxy #18: 18.0 %\n",
        "0.73833455842"
       ]
      },
      {
       "output_type": "stream",
       "stream": "stdout",
       "text": [
        " 0.697025769773\n",
        "Galaxy #19: 19.0 %\n",
        "0.749919430318"
       ]
      },
      {
       "output_type": "stream",
       "stream": "stdout",
       "text": [
        " 0.749574667777\n",
        "Galaxy #20: 20.0 %\n",
        "0.483181975366"
       ]
      },
      {
       "output_type": "stream",
       "stream": "stdout",
       "text": [
        " 0.448036273528\n",
        "Galaxy #21: 21.0 %\n",
        "0.659470773815"
       ]
      },
      {
       "output_type": "stream",
       "stream": "stdout",
       "text": [
        " 0.618552283727\n",
        "Galaxy #22: 22.0 %\n",
        "0.597986330335"
       ]
      },
      {
       "output_type": "stream",
       "stream": "stdout",
       "text": [
        " 0.622419440347\n",
        "Galaxy #23: 23.0 %\n",
        "0.770932198276"
       ]
      },
      {
       "output_type": "stream",
       "stream": "stdout",
       "text": [
        " 0.755524704985\n",
        "Galaxy #24: 24.0 %\n",
        "0.685632802897"
       ]
      },
      {
       "output_type": "stream",
       "stream": "stdout",
       "text": [
        " 0.640111845176\n",
        "Galaxy #25: 25.0 %\n",
        "0.67157534972"
       ]
      },
      {
       "output_type": "stream",
       "stream": "stdout",
       "text": [
        " 0.665308852258\n",
        "Galaxy #26: 26.0 %\n",
        "0.704518324177"
       ]
      },
      {
       "output_type": "stream",
       "stream": "stdout",
       "text": [
        " 0.661990905667\n",
        "Galaxy #27: 27.0 %\n",
        "0.708170781718"
       ]
      },
      {
       "output_type": "stream",
       "stream": "stdout",
       "text": [
        " 0.726330686988\n",
        "Galaxy #28: 28.0 %\n",
        "0.808638533315"
       ]
      },
      {
       "output_type": "stream",
       "stream": "stdout",
       "text": [
        " 0.796481992228\n",
        "Galaxy #29: 29.0 %\n",
        "0.797306308698"
       ]
      },
      {
       "output_type": "stream",
       "stream": "stdout",
       "text": [
        " 0.746845922284\n",
        "Galaxy #30: 30.0 %\n",
        "0.878993812992"
       ]
      },
      {
       "output_type": "stream",
       "stream": "stdout",
       "text": [
        " 0.79462847993\n",
        "Galaxy #31: 31.0 %\n",
        "0.675954022943"
       ]
      },
      {
       "output_type": "stream",
       "stream": "stdout",
       "text": [
        " 0.656842800035\n",
        "Galaxy #32: 32.0 %\n",
        "0.828318209832"
       ]
      },
      {
       "output_type": "stream",
       "stream": "stdout",
       "text": [
        " 0.755531224797\n",
        "Galaxy #33: 33.0 %\n",
        "0.791419724726"
       ]
      },
      {
       "output_type": "stream",
       "stream": "stdout",
       "text": [
        " 0.751565542194\n",
        "Galaxy #34: 34.0 %\n",
        "0.696131157123"
       ]
      },
      {
       "output_type": "stream",
       "stream": "stdout",
       "text": [
        " 0.655733798518\n",
        "Galaxy #35: 35.0 %\n",
        "0.977220188248"
       ]
      },
      {
       "output_type": "stream",
       "stream": "stdout",
       "text": [
        " 0.894942410782\n",
        "Galaxy #36: 36.0 %\n",
        "0.624861935303"
       ]
      },
      {
       "output_type": "stream",
       "stream": "stdout",
       "text": [
        " 0.6578156976\n",
        "Galaxy #37: 37.0 %\n",
        "0.741928355465"
       ]
      },
      {
       "output_type": "stream",
       "stream": "stdout",
       "text": [
        " 0.664454480366\n",
        "Galaxy #38: 38.0 %\n",
        "0.787948971927"
       ]
      },
      {
       "output_type": "stream",
       "stream": "stdout",
       "text": [
        " 0.676483989751\n",
        "Galaxy #39: 39.0 %\n",
        "0.895749903779"
       ]
      },
      {
       "output_type": "stream",
       "stream": "stdout",
       "text": [
        " 0.853119806161\n",
        "Galaxy #40: 40.0 %\n",
        "0.966366229982"
       ]
      },
      {
       "output_type": "stream",
       "stream": "stdout",
       "text": [
        " 0.908418515256\n",
        "Galaxy #41: 41.0 %\n",
        "0.492142127597"
       ]
      },
      {
       "output_type": "stream",
       "stream": "stdout",
       "text": [
        " 0.483719449108\n",
        "Galaxy #42: 42.0 %\n",
        "0.497253927215"
       ]
      },
      {
       "output_type": "stream",
       "stream": "stdout",
       "text": [
        " 0.485707560315\n",
        "Galaxy #43: 43.0 %\n",
        "0.920592178345"
       ]
      },
      {
       "output_type": "stream",
       "stream": "stdout",
       "text": [
        " 0.84537718268\n",
        "Galaxy #44: 44.0 %\n",
        "0.838082979972"
       ]
      },
      {
       "output_type": "stream",
       "stream": "stdout",
       "text": [
        " 0.815913563918\n",
        "Galaxy #45: 45.0 %\n",
        "0.79018178809"
       ]
      },
      {
       "output_type": "stream",
       "stream": "stdout",
       "text": [
        " 0.782895882437\n",
        "Galaxy #46: 46.0 %\n",
        "0.686216057355"
       ]
      },
      {
       "output_type": "stream",
       "stream": "stdout",
       "text": [
        " 0.66991673797\n",
        "Galaxy #47: 47.0 %\n",
        "0.894256771088"
       ]
      },
      {
       "output_type": "stream",
       "stream": "stdout",
       "text": [
        " 0.816899527694\n",
        "Galaxy #48: 48.0 %\n",
        "0.909027231418"
       ]
      },
      {
       "output_type": "stream",
       "stream": "stdout",
       "text": [
        " 0.849761405999\n",
        "Galaxy #49: 49.0 %\n",
        "0.933972928825"
       ]
      },
      {
       "output_type": "stream",
       "stream": "stdout",
       "text": [
        " 0.848546933369\n",
        "Galaxy #50: 50.0 %\n",
        "0.710145061372"
       ]
      },
      {
       "output_type": "stream",
       "stream": "stdout",
       "text": [
        " 0.667962407053\n",
        "Galaxy #51: 51.0 %\n",
        "0.65245674241"
       ]
      },
      {
       "output_type": "stream",
       "stream": "stdout",
       "text": [
        " 0.704391695218\n",
        "Galaxy #52: 52.0 %\n",
        "0.975159099159"
       ]
      },
      {
       "output_type": "stream",
       "stream": "stdout",
       "text": [
        " 0.883008745692\n",
        "Galaxy #53: 53.0 %\n",
        "0.683641201084"
       ]
      },
      {
       "output_type": "stream",
       "stream": "stdout",
       "text": [
        " 0.675501054597\n",
        "Galaxy #54: 54.0 %\n",
        "0.734324843289"
       ]
      },
      {
       "output_type": "stream",
       "stream": "stdout",
       "text": [
        " 0.671601173885\n",
        "Galaxy #55: 55.0 %\n",
        "0.990511"
       ]
      },
      {
       "output_type": "stream",
       "stream": "stdout",
       "text": [
        " 0.940284494645\n",
        "Galaxy #56: 56.0 %\n",
        "0.776616309066"
       ]
      },
      {
       "output_type": "stream",
       "stream": "stdout",
       "text": [
        " 0.774487149138\n",
        "Galaxy #57: 57.0 %\n",
        "0.968835152705"
       ]
      },
      {
       "output_type": "stream",
       "stream": "stdout",
       "text": [
        " 0.909840536258\n",
        "Galaxy #58: 58.0 %\n",
        "0.982569"
       ]
      },
      {
       "output_type": "stream",
       "stream": "stdout",
       "text": [
        " 0.921561485099\n",
        "Galaxy #59: 59.0 %\n",
        "0.904375850124"
       ]
      },
      {
       "output_type": "stream",
       "stream": "stdout",
       "text": [
        " 0.863023984966\n",
        "Galaxy #60: 60.0 %\n",
        "0.9797188"
       ]
      },
      {
       "output_type": "stream",
       "stream": "stdout",
       "text": [
        " 0.908838470584\n",
        "Galaxy #61: 61.0 %\n",
        "0.717044372794"
       ]
      },
      {
       "output_type": "stream",
       "stream": "stdout",
       "text": [
        " 0.712474106844\n",
        "Galaxy #62: 62.0 %\n",
        "0.931975653472"
       ]
      },
      {
       "output_type": "stream",
       "stream": "stdout",
       "text": [
        " 0.892407769117\n",
        "Galaxy #63: 63.0 %\n",
        "0.759450682696"
       ]
      },
      {
       "output_type": "stream",
       "stream": "stdout",
       "text": [
        " 0.711918119972\n",
        "Galaxy #64: 64.0 %\n",
        "0.757613189669"
       ]
      },
      {
       "output_type": "stream",
       "stream": "stdout",
       "text": [
        " 0.715814959121\n",
        "Galaxy #65: 65.0 %\n",
        "0.963510619149"
       ]
      },
      {
       "output_type": "stream",
       "stream": "stdout",
       "text": [
        " 0.917699530783\n",
        "Galaxy #66: 66.0 %\n",
        "0.9780684"
       ]
      },
      {
       "output_type": "stream",
       "stream": "stdout",
       "text": [
        " 0.921463336182\n",
        "Galaxy #67: 67.0 %\n",
        "0.9775698"
       ]
      },
      {
       "output_type": "stream",
       "stream": "stdout",
       "text": [
        " 0.924155425857\n",
        "Galaxy #68: 68.0 %\n",
        "1.0"
       ]
      },
      {
       "output_type": "stream",
       "stream": "stdout",
       "text": [
        " 0.977467039608\n",
        "Galaxy #69: 69.0 %\n",
        "0.74128239411"
       ]
      },
      {
       "output_type": "stream",
       "stream": "stdout",
       "text": [
        " 0.742799870725\n",
        "Galaxy #70: 70.0 %\n",
        "0.842664217671"
       ]
      },
      {
       "output_type": "stream",
       "stream": "stdout",
       "text": [
        " 0.826004486689\n",
        "Galaxy #71: 71.0 %\n",
        "0.9794943"
       ]
      },
      {
       "output_type": "stream",
       "stream": "stdout",
       "text": [
        " 0.927326238019\n",
        "Galaxy #72: 72.0 %\n",
        "0.962946221141"
       ]
      },
      {
       "output_type": "stream",
       "stream": "stdout",
       "text": [
        " 0.903585445603\n",
        "Galaxy #73: 73.0 %\n",
        "1.0"
       ]
      },
      {
       "output_type": "stream",
       "stream": "stdout",
       "text": [
        " 0.974865166625\n",
        "Galaxy #74: 74.0 %\n",
        "1.0"
       ]
      },
      {
       "output_type": "stream",
       "stream": "stdout",
       "text": [
        " 0.976708266303\n",
        "Galaxy #75: 75.0 %\n",
        "0.829202586418"
       ]
      },
      {
       "output_type": "stream",
       "stream": "stdout",
       "text": [
        " 0.84234449507\n",
        "Galaxy #76: 76.0 %\n",
        "0.920303321897"
       ]
      },
      {
       "output_type": "stream",
       "stream": "stdout",
       "text": [
        " 0.873918294663\n",
        "Galaxy #77: 77.0 %\n",
        "1.0"
       ]
      },
      {
       "output_type": "stream",
       "stream": "stdout",
       "text": [
        " 0.974768770652\n",
        "Galaxy #78: 78.0 %\n",
        "0.9815223"
       ]
      },
      {
       "output_type": "stream",
       "stream": "stdout",
       "text": [
        " 0.948505250171\n",
        "Galaxy #79: 79.0 %\n",
        "1.0"
       ]
      },
      {
       "output_type": "stream",
       "stream": "stdout",
       "text": [
        " 0.97476714742\n",
        "Galaxy #80: 80.0 %\n",
        "0.9842331"
       ]
      },
      {
       "output_type": "stream",
       "stream": "stdout",
       "text": [
        " 0.930875726816\n",
        "Galaxy #81: 81.0 %\n",
        "1.0"
       ]
      },
      {
       "output_type": "stream",
       "stream": "stdout",
       "text": [
        " 0.973338467092\n",
        "Galaxy #82: 82.0 %\n",
        "1.0"
       ]
      },
      {
       "output_type": "stream",
       "stream": "stdout",
       "text": [
        " 0.972943452269\n",
        "Galaxy #83: 83.0 %\n",
        "1.0"
       ]
      },
      {
       "output_type": "stream",
       "stream": "stdout",
       "text": [
        " 0.974322390433\n",
        "Galaxy #84: 84.0 %\n",
        "1.0"
       ]
      },
      {
       "output_type": "stream",
       "stream": "stdout",
       "text": [
        " 0.976336921647\n",
        "Galaxy #85: 85.0 %\n",
        "1.0"
       ]
      },
      {
       "output_type": "stream",
       "stream": "stdout",
       "text": [
        " 0.966424468516\n",
        "Galaxy #86: 86.0 %\n",
        "1.0"
       ]
      },
      {
       "output_type": "stream",
       "stream": "stdout",
       "text": [
        " 0.970720469997\n",
        "Galaxy #87: 87.0 %\n",
        "0.847129532479"
       ]
      },
      {
       "output_type": "stream",
       "stream": "stdout",
       "text": [
        " 0.79280813627\n",
        "Galaxy #88: 88.0 %\n",
        "0.928251708719"
       ]
      },
      {
       "output_type": "stream",
       "stream": "stdout",
       "text": [
        " 0.866114837993\n",
        "Galaxy #89: 89.0 %\n",
        "0.831764668655"
       ]
      },
      {
       "output_type": "stream",
       "stream": "stdout",
       "text": [
        " 0.798962925712\n",
        "Galaxy #90: 90.0 %\n",
        "0.933080226005"
       ]
      },
      {
       "output_type": "stream",
       "stream": "stdout",
       "text": [
        " 0.907676357536\n",
        "Galaxy #91: 91.0 %\n",
        "1.0"
       ]
      },
      {
       "output_type": "stream",
       "stream": "stdout",
       "text": [
        " 0.964590154995\n",
        "Galaxy #92: 92.0 %\n",
        "1.0"
       ]
      },
      {
       "output_type": "stream",
       "stream": "stdout",
       "text": [
        " 0.96512652599\n",
        "Galaxy #93: 93.0 %\n",
        "0.705882195507"
       ]
      },
      {
       "output_type": "stream",
       "stream": "stdout",
       "text": [
        " 0.66026724432\n",
        "Galaxy #94: 94.0 %\n",
        "1.0"
       ]
      },
      {
       "output_type": "stream",
       "stream": "stdout",
       "text": [
        " 0.966053073559\n",
        "Galaxy #95: 95.0 %\n",
        "1.0"
       ]
      },
      {
       "output_type": "stream",
       "stream": "stdout",
       "text": [
        " 0.968123738982\n",
        "Galaxy #96: 96.0 %\n",
        "1.0"
       ]
      },
      {
       "output_type": "stream",
       "stream": "stdout",
       "text": [
        " 0.96929575259\n",
        "Galaxy #97: 97.0 %\n",
        "1.0"
       ]
      },
      {
       "output_type": "stream",
       "stream": "stdout",
       "text": [
        " 0.973887143214\n",
        "Galaxy #98: 98.0 %\n",
        "1.0"
       ]
      },
      {
       "output_type": "stream",
       "stream": "stdout",
       "text": [
        " 0.971054231706\n",
        "Galaxy #99: 99.0 %\n",
        "1.0"
       ]
      },
      {
       "output_type": "stream",
       "stream": "stdout",
       "text": [
        " 0.97155500525\n",
        "Galaxy #100: 100.0 %\n",
        "1.0"
       ]
      },
      {
       "output_type": "stream",
       "stream": "stdout",
       "text": [
        " 0.973616274917\n"
       ]
      }
     ],
     "prompt_number": 84
    },
    {
     "cell_type": "code",
     "collapsed": false,
     "input": [
      "# Comparing delta_r histograms\n",
      "\n",
      "nanmask = np.isfinite(delta8s[0:Ngals])\n",
      "\n",
      "deltamin = -1\n",
      "deltamax = 6\n",
      "\n",
      "delta8bins = np.arange(deltamin, deltamax, 0.4)\n",
      "histbins = np.append(delta8bins, deltamax)\n",
      "\n",
      "# the histogram of the data\n",
      "delta_margot_hist, histbins, patches = plt.hist(delta_rs[:,7][nanmask], histbins, histtype='step', color = 'blue')\n",
      "delta_tamsyn_hist, histbins, patches = plt.hist(delta8s[nanmask], histbins, histtype='step', color = 'red')\n",
      "plt.ylabel(r'Number of galaxies', fontsize=15)\n",
      "plt.xlabel(r'Local overdensity $\\delta_8$', fontsize=15)"
     ],
     "language": "python",
     "metadata": {},
     "outputs": [
      {
       "metadata": {},
       "output_type": "pyout",
       "prompt_number": 85,
       "text": [
        "<matplotlib.text.Text at 0x7f7abf941890>"
       ]
      },
      {
       "metadata": {},
       "output_type": "display_data",
       "png": "[encoded data removed]",
       "text": [
        "<matplotlib.figure.Figure at 0x7f7abf92f590>"
       ]
      }
     ],
     "prompt_number": 85
    },
    {
     "cell_type": "code",
     "collapsed": false,
     "input": [
      "print 'delta_r (Margot/Tamsyn), difference, completeness:'\n",
      "for g in xrange(Ngals):\n",
      "    print '%.5g      %.5g:     %.5g     %.5g'\\\n",
      "    %(delta_rs[:,7][g], delta8s[g], abs((delta_rs[:,7][g]-delta8s[g])/delta8s[g]), comp_rs[g, 7])\n",
      "\n",
      "nanmask = np.isfinite(delta8s[0:Ngals])\n",
      "difference = (((delta_rs[:,7]-delta8s)/delta8s)[0:Ngals])[nanmask]\n",
      "\n",
      "print 'Mean difference:', np.mean(abs(difference)),' Bias:', np.mean(difference)"
     ],
     "language": "python",
     "metadata": {},
     "outputs": [
      {
       "output_type": "stream",
       "stream": "stdout",
       "text": [
        "delta_r (Margot/Tamsyn), difference, completeness:\n",
        "-0.46166      -0.4594:     0.0049128     0.52769\n",
        "1.1845      1.0933:     0.083439     0.5852\n",
        "-0.64482      -0.68456:     0.058051     0.59985\n",
        "0.76711      0.79445:     0.03441     0.56265\n",
        "1.0295      1.2278:     0.16156     0.62989\n",
        "0.4462      0.37675:     0.18436     0.54018\n",
        "1.0469      0.99986:     0.047033     0.55514\n",
        "-0.61639      -0.62964:     0.021047     0.5554\n",
        "1.335      1.1668:     0.1441     0.57789\n",
        "1.4013      1.2621:     0.11023     0.59152\n",
        "-0.6214      -0.63962:     0.028485     0.56275\n",
        "-0.64245      -0.62595:     0.026366     0.59589\n",
        "2.6827      2.2098:     0.21399     0.53996\n",
        "-0.388      -0.17738:     1.1874     0.69626\n",
        "3.3468      3.91:     0.14405     0.52283\n",
        "-0.077993      nan:     nan     0.77027\n",
        "-0.38778      -0.16474:     1.3538     0.69602\n",
        "-0.28678      -0.18023:     0.59117     0.69703\n",
        "0.042204      0.31154:     0.86453     0.74957\n",
        "0.42661      0.25266:     0.68846     0.44804\n",
        "2.2148      2.2123:     0.0011366     0.61855\n",
        "0.71152      0.89782:     0.2075     0.62242\n",
        "0.97399      1.0609:     0.08192     0.75552\n",
        "1.108      1.0966:     0.010402     0.64011\n",
        "0.49444      0.5772:     0.14338     0.66531\n",
        "1.7893      1.5773:     0.13438     0.66199\n",
        "-0.80444      -0.78633:     0.023038     0.72633\n",
        "0.60499      0.77768:     0.22206     0.79648\n",
        "0.99693      1.0876:     0.083384     0.74685\n",
        "0.87685      0.72147:     0.21538     0.79463\n",
        "2.2437      2.2459:     0.00099914     0.65684\n",
        "-0.718      -0.72598:     0.010991     0.75553\n",
        "-0.14955      0.051574:     3.8996     0.75157\n",
        "2.1408      2.1518:     0.0051035     0.65573\n",
        "-0.68258      -0.76774:     0.11092     0.89494\n",
        "1.915      2.2691:     0.15608     0.65782\n",
        "2.0996      1.9573:     0.072729     0.66445\n",
        "0.46976      0.34426:     0.36453     0.67648\n",
        "1.9136      1.9562:     0.021772     0.85312\n",
        "-0.29639      -0.1388:     1.1354     0.90842\n",
        "0.088326      0.076122:     0.16031     0.48372\n",
        "0.60839      0.67367:     0.096889     0.48571\n",
        "2.0243      2.123:     0.046479     0.84538\n",
        "1.1761      1.3471:     0.127     0.81591\n",
        "0.3607      0.24472:     0.47395     0.7829\n",
        "2.0743      2.1974:     0.055984     0.66992\n",
        "1.2604      1.1151:     0.13027     0.8169\n",
        "1.9251      1.8298:     0.0521     0.84976\n",
        "1.8456      1.7542:     0.052106     0.84855\n",
        "2.1897      2.0896:     0.047874     0.66796\n",
        "2.0247      2.4788:     0.18318     0.70439\n",
        "0.689      0.78446:     0.12169     0.88301\n",
        "0.57703      0.66004:     0.12576     0.6755\n",
        "1.3264      1.1636:     0.13988     0.6716\n",
        "-0.39577      -0.46532:     0.14948     0.94028\n",
        "0.55887      0.75356:     0.25836     0.77449\n",
        "1.4978      1.4208:     0.054174     0.90984\n",
        "-0.69174      -0.769:     0.10046     0.92156\n",
        "1.0573      1.1751:     0.10027     0.86302\n",
        "1.0317      1.0078:     0.023697     0.90884\n",
        "2.1897      2.3764:     0.078559     0.71247\n",
        "0.90995      0.94832:     0.04046     0.89241\n",
        "1.9927      1.9887:     0.002044     0.71192\n",
        "2.2741      2.2955:     0.0093329     0.71581\n",
        "1.2443      1.1201:     0.11082     0.9177\n",
        "-0.92293      -0.84529:     0.091846     0.92146\n",
        "0.075865      0.0061199:     11.397     0.92416\n",
        "-0.56406      -0.47039:     0.19913     0.97747\n",
        "2.1551      2.3681:     0.089932     0.7428\n",
        "0.97752      1.1548:     0.15353     0.826\n",
        "1.3741      1.3945:     0.014606     0.92733\n",
        "-0.21403      -0.21431:     0.0012961     0.90359\n",
        "0.457      0.4375:     0.044578     0.97487\n",
        "-0.56372      -0.62171:     0.093269     0.97671\n",
        "1.0235      1.0986:     0.068355     0.84234\n",
        "-0.67494      -0.75337:     0.10411     0.87392\n",
        "0.53      0.51316:     0.032829     0.97477\n",
        "1.7704      2.0062:     0.11756     0.94851\n",
        "-0.63571      -0.54605:     0.1642     0.97477\n",
        "1.0599      1.0755:     0.01449     0.93088\n",
        "0.75115      0.74013:     0.014882     0.97334\n",
        "0.53287      0.58882:     0.095006     0.97294\n",
        "0.6036      0.51316:     0.17624     0.97432\n",
        "-0.56356      -0.47039:     0.19805     0.97634\n",
        "0.98413      1.0428:     0.056226     0.96642\n",
        "0.46322      0.58882:     0.2133     0.97072\n",
        "2.1353      2.1259:     0.004416     0.79281\n",
        "0.88594      0.87463:     0.012925     0.86611\n",
        "1.9333      2.0017:     0.034153     0.79896\n",
        "-0.60879      -0.5135:     0.18557     0.90768\n",
        "1.7242      1.7993:     0.041779     0.96459\n",
        "1.4283      1.7993:     0.2062     0.96513\n",
        "2.8722      3.1801:     0.096821     0.66027\n",
        "1.72      1.9507:     0.11822     0.96605\n",
        "1.7876      1.875:     0.046623     0.96812\n",
        "1.4179      1.7237:     0.17742     0.9693\n",
        "0.60431      0.81579:     0.25923     0.97389\n",
        "0.97467      1.1184:     0.12853     0.97105\n",
        "0.82746      1.0428:     0.20648     0.97156\n",
        "0.89653      1.1184:     0.19839     0.97362\n",
        "Mean difference: 0.309555791708  Bias: 0.10177190683\n"
       ]
      }
     ],
     "prompt_number": 86
    },
    {
     "cell_type": "code",
     "collapsed": false,
     "input": [
      "#Ngal = 88.1e3\n",
      "#V_DDP = 6.75e6\n",
      "#rho_DDP = 5.35e-3\n",
      "#print rho_DDP*V_DDP\n",
      "\n",
      "filename = 'delta_r_test.fits'\n",
      "deltanames = ['delta_R%i'%i for i in Rmax.value]\n",
      "compnames = ['compl_R%i'%i for i in Rmax.value]\n",
      "\n",
      "outputnames = np.hstack([deltanames, compnames])\n",
      "output = np.hstack([delta_r, comp_r]).T\n",
      "\n",
      "utils.write_catalog(filename, galIDlist, outputnames, output)"
     ],
     "language": "python",
     "metadata": {},
     "outputs": [
      {
       "output_type": "stream",
       "stream": "stdout",
       "text": [
        "New catalog written: delta_r_test.fits\n",
        "\n"
       ]
      },
      {
       "output_type": "stream",
       "stream": "stderr",
       "text": [
        "delta_r_utils.py:131: PyfitsDeprecationWarning: The new_table function is deprecated as of version 3.3 and may be removed in a future version.\n",
        "\n",
        "        Use :meth:`BinTableHDU.from_columns` for new BINARY tables or :meth:`TableHDU.from_columns` for new ASCII tables instead.\n",
        "  tbhdu = pyfits.new_table(cols)\n"
       ]
      }
     ],
     "prompt_number": 11
    },
    {
     "cell_type": "code",
     "collapsed": false,
     "input": [],
     "language": "python",
     "metadata": {},
     "outputs": []
    }
   ],
   "metadata": {}
  }
 ]
}