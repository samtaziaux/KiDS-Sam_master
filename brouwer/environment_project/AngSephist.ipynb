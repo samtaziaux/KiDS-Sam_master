{
 "cells": [
  {
   "cell_type": "code",
   "execution_count": null,
   "metadata": {
    "collapsed": false
   },
   "outputs": [],
   "source": [
    "#!/usr/bin/python\n",
    "\n",
    "import numpy as np\n",
    "import pyfits\n",
    "import os\n",
    "from matplotlib import pyplot as plt\n",
    "import delta_r_utils as utils\n",
    "import environment_utils as envutils\n",
    "\n",
    "%matplotlib inline\n",
    "from matplotlib import pyplot as plt\n",
    "from matplotlib.colors import LogNorm\n",
    "from matplotlib import gridspec\n",
    "from matplotlib import rc, rcParams\n",
    "\n",
    "inf = np.inf\n",
    "\n",
    "# Make use of TeX\n",
    "rc('text',usetex=True)\n",
    "\n",
    "# Change all fonts to 'Computer Modern'\n",
    "rc('font',**{'family':'serif','serif':['Computer Modern']})\n",
    "\n",
    "\n",
    "centering = 'BCG'\n",
    "envnames = ['Void', 'Sheet', 'Filament', 'Knot']\n",
    "envcolors = ['red', 'green', 'blue', 'orange']\n",
    "\n",
    "path_gamacats = '/data2/brouwer/MergedCatalogues'\n",
    "gamacatname = '%s/GAMACatalogue_1.0.fits'%path_gamacats\n",
    "shuffledcatname = '%s/shuffled_environment_S4_deltaR.fits'%path_gamacats\n",
    "path_results = 'results'\n",
    "\n",
    "rankmin = -999\n",
    "rankmax = inf\n",
    "\n",
    "shuffled = True"
   ]
  },
  {
   "cell_type": "code",
   "execution_count": null,
   "metadata": {
    "collapsed": false
   },
   "outputs": [],
   "source": [
    "# Importing GAMA catalogue\n",
    "print 'Importing GAMA catalogue:', gamacatname\n",
    "gamacat = pyfits.open(gamacatname)[1].data\n",
    "shuffledcat = pyfits.open(shuffledcatname)[1].data\n",
    "\n",
    "galIDlist = gamacat['ID']\n",
    "\n",
    "# Importing angular seperation\n",
    "angseplist = gamacat['AngSep%s'%centering]\n",
    "angseplist[angseplist<=0] = 0.\n",
    "\n",
    "# Importing and correcting log(Mstar)\n",
    "logmstarlist = gamacat['logmstar']\n",
    "fluxscalelist = gamacat['fluxscale'] # Fluxscale, needed for stellar mass correction\n",
    "corr_list = np.log10(fluxscalelist)# - 2*np.log10(h/0.7)\n",
    "logmstarlist = logmstarlist + corr_list\n",
    "ranklist = gamacat['rankBCG']\n",
    "nQlist = gamacat['nQ']\n",
    "zlist =  gamacat['Z']\n",
    "\n",
    "# Applying a mask to the galaxies\n",
    "obsmask = (fluxscalelist<500)&(logmstarlist>5) & (0 <= gamacat['envS4'])&(gamacat['envS4'] < 4) & \\\n",
    "                                                    (rankmin <= ranklist)&(ranklist < rankmax) & (nQlist >= 3.)\n",
    "\n",
    "#obsmask = (fluxscalelist<500)&(logmstarlist>5) & (rankmin <= ranklist)&\n",
    "#obsmask = (0.039 < zlist)&(zlist <= 0.263)\n",
    "#obsmask = (0 <= gamacat['envS4'])&(gamacat['envS4'] < 4)\n",
    "\n",
    "logmstarlist = logmstarlist[obsmask]\n",
    "mstarlist = 10**logmstarlist\n",
    "angseplist = angseplist[obsmask]\n",
    "\n",
    "zlist = gamacat['Z'][obsmask]\n",
    "ranklist = gamacat['rank%s'%centering][obsmask]\n",
    "\n",
    "if not shuffled:\n",
    "    # Importing the real environment\n",
    "    envlist = gamacat['envS4'][obsmask]\n",
    "else:\n",
    "    # Importing the shuffled environment\n",
    "    envlist = shuffledcat['shuffenvR4'][obsmask]\n",
    "    \n",
    "print 'Imported: %i of %i galaxies (%g percent)'%(len(logmstarlist), len(galIDlist), \\\n",
    "                                    float(len(logmstarlist))/float(len(galIDlist))*100.)"
   ]
  },
  {
   "cell_type": "code",
   "execution_count": null,
   "metadata": {
    "collapsed": false
   },
   "outputs": [],
   "source": [
    "# Creating the log(Mstar) histogram (needed for the mstarweight)\n",
    "\n",
    "nbins = 100\n",
    "logmstarbins, logmstarhists, logmstarhistcens = \\\n",
    "envutils.create_histogram('log(Mstar)', logmstarlist, nbins, envnames, envlist, 'lin', False, False, False)\n",
    "\n",
    "print "
   ]
  },
  {
   "cell_type": "code",
   "execution_count": null,
   "metadata": {
    "collapsed": false
   },
   "outputs": [],
   "source": [
    "# Creating the logmstar weights for each lens\n",
    "\n",
    "# Create the average histogram\n",
    "avhist = np.mean(logmstarhists, 0)\n",
    "\n",
    "# Calculate the weight for each logmstar bin\n",
    "weighthists = avhist/logmstarhists\n",
    "weighthists[np.logical_not(np.isfinite(weighthists))] = 0\n",
    "\n",
    "#####################\n",
    "\n",
    "# Show results\n",
    "plt.figure(1, figsize=(8, 6))\n",
    "#plt.plot(logmstarhistcens, avhist, '', ls='-', color='black', label='Average')\n",
    "\n",
    "for env in xrange(len(envnames)):\n",
    "    plt.plot(logmstarhistcens, logmstarhists[env], '', ls='-', color=envcolors[env], label=envnames[env])\n",
    "    plt.axvline(x = np.median(logmstarlist[envlist==env]), color=envcolors[env])\n",
    "    \n",
    "plt.xlim(8, 12)\n",
    "#plt.ylim(1e-3, 1e1)\n",
    "\n",
    "plt.yscale('log')\n",
    "plt.legend(fontsize=15)\n",
    "\n",
    "xlabel = 'log(M$_*$)'\n",
    "#ylabel = 'Number of galaxies'\n",
    "ylabel = 'Normalized number of galaxies'\n",
    "\n",
    "\n",
    "plt.ylabel(r'%s'%ylabel,fontsize=18)\n",
    "plt.xlabel(r'%s'%xlabel,fontsize=18)\n",
    "plt.tick_params(axis='both', which='major', labelsize=14)\n",
    "\n",
    "histname = 'environment_logmstar_histogram'\n",
    "if shuffled:\n",
    "    histname = '%s_shuffled'%(histname)\n",
    "\n",
    "plotname = '%s.png'%histname\n",
    "\n",
    "plt.savefig(plotname, format='png')\n",
    "print 'Written: ESD profile plot:', plotname\n",
    "   \n",
    "plt.show()\n"
   ]
  },
  {
   "cell_type": "code",
   "execution_count": null,
   "metadata": {
    "collapsed": false
   },
   "outputs": [],
   "source": [
    "# Calculate the logmstar weight for each galaxy\n",
    "weightlist = np.zeros(len(logmstarlist)) # Length of the merged GAMA catalog\n",
    "\n",
    "for env in xrange(len(envnames)): # For each environment\n",
    "    envname = envnames[env]\n",
    "    envmask = (envlist == env) # Mask the lenses outside that environment\n",
    "    for b in xrange(nbins): # For each logmstar bin\n",
    "        binmask = (logmstarbins[b]<=logmstarlist) & (logmstarlist<logmstarbins[b+1]) # Mask the lenses outside that bin\n",
    "        totmask = envmask & binmask\n",
    "        weight = weighthists[env,b]\n",
    "        #print 'Env: %s, Bin: %i, Weight: %g'%(envname, b, weight)\n",
    "        weightlist[totmask] = weight"
   ]
  },
  {
   "cell_type": "code",
   "execution_count": null,
   "metadata": {
    "collapsed": false
   },
   "outputs": [],
   "source": [
    "# Print the logmstarweight to a fits file\n",
    "weightlist_tot = np.zeros(len(galIDlist))\n",
    "weightlist_tot[obsmask] = weightlist\n",
    "\n",
    "\n",
    "filename = '%s/mstarweight_rank%g-%g.fits'%(path_results, rankmin, rankmax)\n",
    "if shuffled:\n",
    "    filename = filename.replace('.fits', '_shuffled.fits')\n",
    "\n",
    "envutils.write_catalog(filename, galIDlist, ['mstarweight'], [weightlist_tot])\n"
   ]
  },
  {
   "cell_type": "code",
   "execution_count": null,
   "metadata": {
    "collapsed": false
   },
   "outputs": [],
   "source": [
    "logmstarbins, logmstarhists, logmstarhistcens = envutils.create_histogram('log(Mstar)',logmstarlist, nbins, envnames, envlist, 'lin', False, weightlist, False)"
   ]
  },
  {
   "cell_type": "code",
   "execution_count": null,
   "metadata": {
    "collapsed": false
   },
   "outputs": [],
   "source": [
    "\n",
    "\n",
    "\n",
    "# Repeating AngSep and average quantity calculations for weighted galaxies"
   ]
  },
  {
   "cell_type": "code",
   "execution_count": null,
   "metadata": {
    "collapsed": false
   },
   "outputs": [],
   "source": [
    "# Calculating average redshift, log(M*) and satellite fraction of the lens samples (needed for halo model)\n",
    "\n",
    "if shuffled:\n",
    "    print 'For the shuffled environments:'\n",
    "else:\n",
    "    print 'For the cosmic environments:'\n",
    "print \n",
    "\n",
    "print 'Without logmstarweight:'\n",
    "zaverage, mstaraverage, fsat, fsatmax = envutils.calc_halomodel_input(envnames, envlist, ranklist, zlist, mstarlist, False)\n",
    "\n",
    "\n",
    "print\n",
    "print 'With logmstarweight:'\n",
    "zaverage, mstaraverage, fsat, fsatmax = envutils.calc_halomodel_input(envnames, envlist, ranklist, zlist, mstarlist, weightlist)"
   ]
  },
  {
   "cell_type": "code",
   "execution_count": null,
   "metadata": {
    "collapsed": false
   },
   "outputs": [],
   "source": []
  }
 ],
 "metadata": {
  "kernelspec": {
   "display_name": "Python 2",
   "language": "python",
   "name": "python2"
  },
  "language_info": {
   "codemirror_mode": {
    "name": "ipython",
    "version": 2
   },
   "file_extension": ".py",
   "mimetype": "text/x-python",
   "name": "python",
   "nbconvert_exporter": "python",
   "pygments_lexer": "ipython2",
   "version": "2.7.10"
  }
 },
 "nbformat": 4,
 "nbformat_minor": 0
}
