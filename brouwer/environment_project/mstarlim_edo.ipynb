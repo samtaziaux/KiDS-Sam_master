{
 "metadata": {
  "name": ""
 },
 "nbformat": 3,
 "nbformat_minor": 0,
 "worksheets": [
  {
   "cells": [
    {
     "cell_type": "code",
     "collapsed": false,
     "input": [
      "#!/usr/bin/python\n",
      "\n",
      "import numpy as np\n",
      "import pyfits\n",
      "import os\n",
      "from matplotlib import pyplot as plt\n",
      "import delta_r_utils as utils\n",
      "import environment_utils as envutils\n",
      "\n",
      "%matplotlib inline\n",
      "from matplotlib import pyplot as plt\n",
      "from matplotlib.colors import LogNorm\n",
      "from matplotlib import gridspec\n",
      "from matplotlib import rc, rcParams\n",
      "\n",
      "inf = np.inf\n",
      "\n",
      "# Make use of TeX\n",
      "rc('text',usetex=True)\n",
      "\n",
      "# Change all fonts to 'Computer Modern'\n",
      "rc('font',**{'family':'serif','serif':['Computer Modern']})\n",
      "\n",
      "\n",
      "centering = 'BCG'\n",
      "envnames = ['Void', 'Sheet', 'Filament', 'Knot']\n",
      "envcolors = ['red', 'green', 'blue', 'orange']\n",
      "\n",
      "path_gamacats = '/data2/brouwer/MergedCatalogues'\n",
      "gamacatname = '%s/GAMACatalogue_1.0.fits'%path_gamacats\n",
      "shuffledcatname = '%s/shuffled_environment_S4_deltaR.fits'%path_gamacats\n",
      "path_results = 'results'\n",
      "\n",
      "rankmin = -999\n",
      "rankmax = inf\n",
      "\n",
      "shuffled = True"
     ],
     "language": "python",
     "metadata": {},
     "outputs": [
      {
       "output_type": "stream",
       "stream": "stderr",
       "text": [
        "WARNING: AstropyDeprecationWarning: Config parameter 'name_resolve_timeout' in section [coordinates.name_resolve] of the file '/home/brouwer/.astropy/config/astropy.cfg' is deprecated. Use 'remote_timeout' in section [config.configuration] instead. [astropy.config.configuration]\n",
        "WARNING:astropy:AstropyDeprecationWarning: Config parameter 'name_resolve_timeout' in section [coordinates.name_resolve] of the file '/home/brouwer/.astropy/config/astropy.cfg' is deprecated. Use 'remote_timeout' in section [config.configuration] instead.\n"
       ]
      }
     ],
     "prompt_number": 1
    },
    {
     "cell_type": "code",
     "collapsed": false,
     "input": [
      "# Importing GAMA catalogue\n",
      "print 'Importing GAMA catalogue:', gamacatname\n",
      "gamacat = pyfits.open(gamacatname)[1].data\n",
      "shuffledcat = pyfits.open(shuffledcatname)[1].data\n",
      "\n",
      "galIDlist = gamacat['ID']\n",
      "\n",
      "# Importing angular seperation\n",
      "angseplist = gamacat['AngSep%s'%centering]\n",
      "angseplist[angseplist<=0] = 0.\n",
      "\n",
      "# Importing and correcting log(Mstar)\n",
      "logmstarlist = gamacat['logmstar']\n",
      "fluxscalelist = gamacat['fluxscale'] # Fluxscale, needed for stellar mass correction\n",
      "corr_list = np.log10(fluxscalelist)# - 2*np.log10(h/0.7)\n",
      "logmstarlist = logmstarlist + corr_list\n",
      "ranklist = gamacat['rankBCG']\n",
      "nQlist = gamacat['nQ']\n",
      "zlist =  gamacat['Z']\n",
      "\n",
      "# Applying a mask to the galaxies\n",
      "obsmask = (fluxscalelist<500)&(logmstarlist>5) & (rankmin <= ranklist)&(ranklist < rankmax)\n",
      "\n",
      "logmstarlist = logmstarlist[obsmask]\n",
      "mstarlist = 10**logmstarlist\n",
      "angseplist = angseplist[obsmask]\n",
      "\n",
      "zlist = gamacat['Z'][obsmask]\n",
      "ranklist = gamacat['rank%s'%centering][obsmask]\n",
      "\n",
      "if not shuffled:\n",
      "    # Importing the real environment\n",
      "    envlist = gamacat['envS4'][obsmask]\n",
      "else:\n",
      "    # Importing the shuffled environment\n",
      "    envlist = shuffledcat['shuffenvR4'][obsmask]\n",
      "    \n",
      "print 'Imported: %i of %i galaxies (%g percent)'%(len(logmstarlist), len(galIDlist), \\\n",
      "                                    float(len(logmstarlist))/float(len(galIDlist))*100.)"
     ],
     "language": "python",
     "metadata": {},
     "outputs": [
      {
       "output_type": "stream",
       "stream": "stdout",
       "text": [
        "Importing GAMA catalogue: /data2/brouwer/MergedCatalogues/GAMACatalogue_1.0.fits\n",
        "Imported: 180863 of 180960 galaxies (99.9464 percent)"
       ]
      },
      {
       "output_type": "stream",
       "stream": "stdout",
       "text": [
        "\n"
       ]
      }
     ],
     "prompt_number": 2
    },
    {
     "cell_type": "code",
     "collapsed": false,
     "input": [
      "\"\"\"\n",
      "# For Edo's project\n",
      "# Print the logmstar limit to a fits file\n",
      "\n",
      "mstarlimflag_tot = np.zeros(len(galIDlist))\n",
      "mstarlimlist_tot = np.ones(len(galIDlist))*-999.\n",
      "logmstarlist_tot = np.ones(len(galIDlist))*-999.\n",
      "\n",
      "logmstarlist_tot[obsmask] = logmstarlist\n",
      "\n",
      "mstarlimlist = 3.1 * (zlist - 0.025)**0.5 + 8.7\n",
      "mstarlimlist_tot[obsmask] = mstarlimlist\n",
      "\n",
      "mstarlimmask = (logmstarlist > mstarlimlist)\n",
      "mstarlimflag = np.zeros(len(mstarlist))\n",
      "mstarlimflag[mstarlimmask] = 1\n",
      "mstarlimflag_tot[obsmask] = mstarlimflag\n",
      "\n",
      "print float(np.sum(mstarlimflag_tot==1))/float(len(mstarlimflag_tot))\n",
      "\n",
      "filename = 'mstarlim.fits'\n",
      "\n",
      "envutils.write_catalog(filename, galIDlist, ['logmstar-corr', 'logmstarlim', 'logmstarflag'], [logmstarlist_tot, mstarlimlist_tot, mstarlimflag_tot])\n",
      "\"\"\""
     ],
     "language": "python",
     "metadata": {},
     "outputs": [
      {
       "metadata": {},
       "output_type": "pyout",
       "prompt_number": 3,
       "text": [
        "\"\\n# For Edo's project\\n# Print the logmstar limit to a fits file\\n\\nmstarlimflag_tot = np.zeros(len(galIDlist))\\nmstarlimlist_tot = np.ones(len(galIDlist))*-999.\\nlogmstarlist_tot = np.ones(len(galIDlist))*-999.\\n\\nlogmstarlist_tot[obsmask] = logmstarlist\\n\\nmstarlimlist = 3.1 * (zlist - 0.025)**0.5 + 8.7\\nmstarlimlist_tot[obsmask] = mstarlimlist\\n\\nmstarlimmask = (logmstarlist > mstarlimlist)\\nmstarlimflag = np.zeros(len(mstarlist))\\nmstarlimflag[mstarlimmask] = 1\\nmstarlimflag_tot[obsmask] = mstarlimflag\\n\\nprint float(np.sum(mstarlimflag_tot==1))/float(len(mstarlimflag_tot))\\n\\nfilename = 'mstarlim.fits'\\n\\nenvutils.write_catalog(filename, galIDlist, ['logmstar-corr', 'logmstarlim', 'logmstarflag'], [logmstarlist_tot, mstarlimlist_tot, mstarlimflag_tot])\\n\""
       ]
      }
     ],
     "prompt_number": 3
    },
    {
     "cell_type": "code",
     "collapsed": false,
     "input": [
      "# For Edo's project\n",
      "# Print the logmstar limit to a fits file\n",
      "\n",
      "mstarlimlist_tot = np.ones(len(galIDlist))*-999.\n",
      "logmstarlist_tot = np.ones(len(galIDlist))*-999.\n",
      "\n",
      "mstarlimflag = np.zeros(len(mstarlist))\n",
      "mstarlimflag_tot = np.zeros(len(galIDlist))\n",
      "\n",
      "mstarlimfile = np.loadtxt('/data2/brouwer/shearprofile/KiDS-GGL/brouwer/configs_margot/binlimits/log-mass-z-vollimit10.txt').T\n",
      "Mlims = mstarlimfile[0]\n",
      "zs = mstarlimfile[1]\n",
      "\n",
      "dz = np.array([mstarlimfile[1, i+1] - mstarlimfile[1,i] for i in xrange(len(zs)-1)])\n",
      "\n",
      "# Create redshift bins\n",
      "zbins = np.array([zs[i] + (0.5 * dz[i]) for i in xrange(len(zs)-1)])\n",
      "zbins = np.append(0, zbins)\n",
      "zbins = np.append(zbins, inf)\n",
      "\n",
      "print zbins\n",
      "\n",
      "mstarlimlist = inf * np.ones(len(zlist))\n",
      "\n",
      "logmstarlist_tot[obsmask] = logmstarlist\n",
      "\n",
      "#mstarlimlist = 3.1 * (zlist - 0.025)**0.5 + 8.7\n",
      "for z in xrange(len(zs)):\n",
      "    zmask = (zbins[z] <= zlist) & (zlist < zbins[z+1])\n",
      "    mstarlimlist[zmask] = Mlims[z]\n",
      "\n",
      "mstarlimmask = (logmstarlist > mstarlimlist)\n",
      "\n",
      "#for i in xrange(20):\n",
      "#    print logmstarlist[i], mstarlimlist[i], mstarlimmask[i]\n",
      "\n",
      "mstarlimflag[mstarlimmask] = 1\n",
      "mstarlimflag_tot[obsmask] = mstarlimflag\n",
      "mstarlimlist_tot[obsmask] = mstarlimlist\n",
      "\n",
      "print float(np.sum(mstarlimflag_tot==1))/float(len(mstarlimflag_tot))\n",
      "\n",
      "filename = 'results/mstarlim2.fits'\n",
      "\n",
      "envutils.write_catalog(filename, galIDlist, ['logmstar-corr', 'logmstarlim', 'logmstarflag2'], [logmstarlist_tot, mstarlimlist_tot, mstarlimflag_tot])\n"
     ],
     "language": "python",
     "metadata": {},
     "outputs": [
      {
       "output_type": "stream",
       "stream": "stdout",
       "text": [
        "[ 0.          0.02489418  0.0275451   0.03043282  0.03357442  0.0369879\n",
        "  0.04069231  0.04470788  0.04905593  0.05375906  0.05884117  0.06432761\n",
        "  0.07024528  0.0766226   0.08348987  0.09087933  0.09882514  0.10736382\n",
        "  0.11653411  0.12637756  0.13693846  0.14826431  0.16040602  0.17341793\n",
        "  0.18735863  0.20229114  0.2182831   0.23540756  0.25374344  0.27337594\n",
        "  0.29439723  0.31690708  0.34101392  0.36683509  0.3944984   0.42414259\n",
        "         inf]\n",
        "0.519617595049\n",
        "Old catalog overwritten:"
       ]
      },
      {
       "output_type": "stream",
       "stream": "stdout",
       "text": [
        " results/mstarlim2.fits\n",
        "\n"
       ]
      }
     ],
     "prompt_number": 5
    },
    {
     "cell_type": "code",
     "collapsed": false,
     "input": [],
     "language": "python",
     "metadata": {},
     "outputs": [],
     "prompt_number": 14
    },
    {
     "cell_type": "code",
     "collapsed": false,
     "input": [],
     "language": "python",
     "metadata": {},
     "outputs": []
    }
   ],
   "metadata": {}
  }
 ]
}